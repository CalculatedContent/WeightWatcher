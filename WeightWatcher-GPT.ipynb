{
 "cells": [
  {
   "cell_type": "markdown",
   "metadata": {},
   "source": [
    "\n",
    "# WeightWatcher - GPT\n"
   ]
  },
  {
   "cell_type": "code",
   "execution_count": 1,
   "metadata": {
    "scrolled": true
   },
   "outputs": [],
   "source": [
    "import numpy as np\n",
    "import pandas as pd\n",
    "\n",
    "import matplotlib\n",
    "import matplotlib.pyplot as plt\n",
    "%matplotlib inline"
   ]
  },
  {
   "cell_type": "markdown",
   "metadata": {
    "ExecuteTime": {
     "end_time": "2019-03-06T00:16:43.249725Z",
     "start_time": "2019-03-06T00:16:43.240611Z"
    }
   },
   "source": [
    "### Import WeightWatcher\n"
   ]
  },
  {
   "cell_type": "code",
   "execution_count": 2,
   "metadata": {
    "scrolled": true
   },
   "outputs": [
    {
     "data": {
      "text/plain": [
       "('1.9.0', '0.5')"
      ]
     },
     "execution_count": 2,
     "metadata": {},
     "output_type": "execute_result"
    }
   ],
   "source": [
    "import torch\n",
    "import weightwatcher as ww\n",
    "torch.__version__, ww.__version__"
   ]
  },
  {
   "cell_type": "code",
   "execution_count": 3,
   "metadata": {},
   "outputs": [],
   "source": [
    "import transformers\n",
    "from transformers import OpenAIGPTModel,GPT2Model"
   ]
  },
  {
   "cell_type": "code",
   "execution_count": 4,
   "metadata": {},
   "outputs": [],
   "source": [
    "gpt_model = OpenAIGPTModel.from_pretrained('openai-gpt')\n",
    "gpt_model.eval();\n",
    "\n",
    "gpt2_model = GPT2Model.from_pretrained('gpt2')\n",
    "gpt2_model.eval();"
   ]
  },
  {
   "cell_type": "code",
   "execution_count": 5,
   "metadata": {},
   "outputs": [
    {
     "name": "stderr",
     "output_type": "stream",
     "text": [
      "INFO:weightwatcher:\n",
      "\n",
      "python      version 3.9.5 (default, May 18 2021, 12:31:01) \n",
      "[Clang 10.0.0 ]\n",
      "numpy       version 1.19.5\n",
      "tensforflow version 2.5.0\n",
      "keras       version 2.5.0\n",
      "INFO:weightwatcher:Saving all images to ww-img\n",
      "INFO:weightwatcher:params {'glorot_fix': False, 'normalize': False, 'conv2d_norm': True, 'randomize': False, 'savedir': 'ww-img', 'savefig': 'ww-img', 'rescale': True, 'deltaEs': False, 'intra': False, 'channels': None, 'conv2d_fft': False, 'ww2x': False, 'min_evals': 0, 'max_evals': None, 'plot': False, 'mp_fit': False, 'layers': []}\n",
      "INFO:weightwatcher:Saving all images to ww-img\n",
      "/Users/charleshmartin/anaconda3/envs/wwtest/lib/python3.9/site-packages/powerlaw.py:699: RuntimeWarning: divide by zero encountered in true_divide\n",
      "  (CDF_diff**2) /\n",
      "/Users/charleshmartin/anaconda3/envs/wwtest/lib/python3.9/site-packages/powerlaw.py:699: RuntimeWarning: invalid value encountered in true_divide\n",
      "  (CDF_diff**2) /\n",
      "Assuming nested distributions\n",
      "/Users/charleshmartin/anaconda3/envs/wwtest/lib/python3.9/site-packages/powerlaw.py:1605: RuntimeWarning: invalid value encountered in true_divide\n",
      "  CDF = CDF/norm\n",
      "'nan' in fit cumulative distribution values.\n",
      "Likely underflow or overflow error: the optimal fit for this distribution gives values that are so extreme that we lack the numerical precision to calculate them.\n",
      "Assuming nested distributions\n",
      "'nan' in fit cumulative distribution values.\n",
      "Likely underflow or overflow error: the optimal fit for this distribution gives values that are so extreme that we lack the numerical precision to calculate them.\n",
      "Assuming nested distributions\n",
      "Assuming nested distributions\n",
      "WARNING:weightwatcher:pytorch layer: LayerNorm((768,), eps=1e-05, elementwise_affine=True)  type LAYER_TYPE.NORM not found \n",
      "Assuming nested distributions\n",
      "'nan' in fit cumulative distribution values.\n",
      "Likely underflow or overflow error: the optimal fit for this distribution gives values that are so extreme that we lack the numerical precision to calculate them.\n",
      "Assuming nested distributions\n",
      "'nan' in fit cumulative distribution values.\n",
      "Likely underflow or overflow error: the optimal fit for this distribution gives values that are so extreme that we lack the numerical precision to calculate them.\n",
      "WARNING:weightwatcher:pytorch layer: LayerNorm((768,), eps=1e-05, elementwise_affine=True)  type LAYER_TYPE.NORM not found \n",
      "Assuming nested distributions\n",
      "'nan' in fit cumulative distribution values.\n",
      "Likely underflow or overflow error: the optimal fit for this distribution gives values that are so extreme that we lack the numerical precision to calculate them.\n",
      "Assuming nested distributions\n",
      "WARNING:weightwatcher:pytorch layer: LayerNorm((768,), eps=1e-05, elementwise_affine=True)  type LAYER_TYPE.NORM not found \n",
      "Assuming nested distributions\n",
      "'nan' in fit cumulative distribution values.\n",
      "Likely underflow or overflow error: the optimal fit for this distribution gives values that are so extreme that we lack the numerical precision to calculate them.\n",
      "Assuming nested distributions\n",
      "'nan' in fit cumulative distribution values.\n",
      "Likely underflow or overflow error: the optimal fit for this distribution gives values that are so extreme that we lack the numerical precision to calculate them.\n",
      "WARNING:weightwatcher:pytorch layer: LayerNorm((768,), eps=1e-05, elementwise_affine=True)  type LAYER_TYPE.NORM not found \n",
      "Assuming nested distributions\n",
      "'nan' in fit cumulative distribution values.\n",
      "Likely underflow or overflow error: the optimal fit for this distribution gives values that are so extreme that we lack the numerical precision to calculate them.\n",
      "Assuming nested distributions\n",
      "WARNING:weightwatcher:pytorch layer: LayerNorm((768,), eps=1e-05, elementwise_affine=True)  type LAYER_TYPE.NORM not found \n",
      "Assuming nested distributions\n",
      "'nan' in fit cumulative distribution values.\n",
      "Likely underflow or overflow error: the optimal fit for this distribution gives values that are so extreme that we lack the numerical precision to calculate them.\n",
      "Assuming nested distributions\n",
      "'nan' in fit cumulative distribution values.\n",
      "Likely underflow or overflow error: the optimal fit for this distribution gives values that are so extreme that we lack the numerical precision to calculate them.\n",
      "WARNING:weightwatcher:pytorch layer: LayerNorm((768,), eps=1e-05, elementwise_affine=True)  type LAYER_TYPE.NORM not found \n",
      "Assuming nested distributions\n",
      "'nan' in fit cumulative distribution values.\n",
      "Likely underflow or overflow error: the optimal fit for this distribution gives values that are so extreme that we lack the numerical precision to calculate them.\n",
      "Assuming nested distributions\n",
      "WARNING:weightwatcher:pytorch layer: LayerNorm((768,), eps=1e-05, elementwise_affine=True)  type LAYER_TYPE.NORM not found \n",
      "Assuming nested distributions\n",
      "'nan' in fit cumulative distribution values.\n",
      "Likely underflow or overflow error: the optimal fit for this distribution gives values that are so extreme that we lack the numerical precision to calculate them.\n",
      "Assuming nested distributions\n",
      "'nan' in fit cumulative distribution values.\n",
      "Likely underflow or overflow error: the optimal fit for this distribution gives values that are so extreme that we lack the numerical precision to calculate them.\n",
      "WARNING:weightwatcher:pytorch layer: LayerNorm((768,), eps=1e-05, elementwise_affine=True)  type LAYER_TYPE.NORM not found \n",
      "Assuming nested distributions\n",
      "Assuming nested distributions\n",
      "WARNING:weightwatcher:pytorch layer: LayerNorm((768,), eps=1e-05, elementwise_affine=True)  type LAYER_TYPE.NORM not found \n",
      "Assuming nested distributions\n",
      "'nan' in fit cumulative distribution values.\n",
      "Likely underflow or overflow error: the optimal fit for this distribution gives values that are so extreme that we lack the numerical precision to calculate them.\n",
      "Assuming nested distributions\n",
      "'nan' in fit cumulative distribution values.\n",
      "Likely underflow or overflow error: the optimal fit for this distribution gives values that are so extreme that we lack the numerical precision to calculate them.\n",
      "WARNING:weightwatcher:pytorch layer: LayerNorm((768,), eps=1e-05, elementwise_affine=True)  type LAYER_TYPE.NORM not found \n",
      "Assuming nested distributions\n",
      "Assuming nested distributions\n",
      "WARNING:weightwatcher:pytorch layer: LayerNorm((768,), eps=1e-05, elementwise_affine=True)  type LAYER_TYPE.NORM not found \n",
      "Assuming nested distributions\n",
      "'nan' in fit cumulative distribution values.\n",
      "Likely underflow or overflow error: the optimal fit for this distribution gives values that are so extreme that we lack the numerical precision to calculate them.\n",
      "Assuming nested distributions\n",
      "'nan' in fit cumulative distribution values.\n",
      "Likely underflow or overflow error: the optimal fit for this distribution gives values that are so extreme that we lack the numerical precision to calculate them.\n",
      "WARNING:weightwatcher:pytorch layer: LayerNorm((768,), eps=1e-05, elementwise_affine=True)  type LAYER_TYPE.NORM not found \n",
      "Assuming nested distributions\n",
      "Assuming nested distributions\n",
      "WARNING:weightwatcher:pytorch layer: LayerNorm((768,), eps=1e-05, elementwise_affine=True)  type LAYER_TYPE.NORM not found \n",
      "Assuming nested distributions\n",
      "'nan' in fit cumulative distribution values.\n",
      "Likely underflow or overflow error: the optimal fit for this distribution gives values that are so extreme that we lack the numerical precision to calculate them.\n",
      "Assuming nested distributions\n",
      "'nan' in fit cumulative distribution values.\n",
      "Likely underflow or overflow error: the optimal fit for this distribution gives values that are so extreme that we lack the numerical precision to calculate them.\n",
      "WARNING:weightwatcher:pytorch layer: LayerNorm((768,), eps=1e-05, elementwise_affine=True)  type LAYER_TYPE.NORM not found \n",
      "Assuming nested distributions\n",
      "Assuming nested distributions\n",
      "'nan' in fit cumulative distribution values.\n",
      "Likely underflow or overflow error: the optimal fit for this distribution gives values that are so extreme that we lack the numerical precision to calculate them.\n",
      "WARNING:weightwatcher:pytorch layer: LayerNorm((768,), eps=1e-05, elementwise_affine=True)  type LAYER_TYPE.NORM not found \n",
      "Assuming nested distributions\n",
      "'nan' in fit cumulative distribution values.\n",
      "Likely underflow or overflow error: the optimal fit for this distribution gives values that are so extreme that we lack the numerical precision to calculate them.\n"
     ]
    },
    {
     "name": "stderr",
     "output_type": "stream",
     "text": [
      "Assuming nested distributions\n",
      "'nan' in fit cumulative distribution values.\n",
      "Likely underflow or overflow error: the optimal fit for this distribution gives values that are so extreme that we lack the numerical precision to calculate them.\n",
      "WARNING:weightwatcher:pytorch layer: LayerNorm((768,), eps=1e-05, elementwise_affine=True)  type LAYER_TYPE.NORM not found \n",
      "Assuming nested distributions\n",
      "Assuming nested distributions\n",
      "WARNING:weightwatcher:pytorch layer: LayerNorm((768,), eps=1e-05, elementwise_affine=True)  type LAYER_TYPE.NORM not found \n",
      "Assuming nested distributions\n",
      "'nan' in fit cumulative distribution values.\n",
      "Likely underflow or overflow error: the optimal fit for this distribution gives values that are so extreme that we lack the numerical precision to calculate them.\n",
      "Assuming nested distributions\n",
      "'nan' in fit cumulative distribution values.\n",
      "Likely underflow or overflow error: the optimal fit for this distribution gives values that are so extreme that we lack the numerical precision to calculate them.\n",
      "WARNING:weightwatcher:pytorch layer: LayerNorm((768,), eps=1e-05, elementwise_affine=True)  type LAYER_TYPE.NORM not found \n",
      "Assuming nested distributions\n",
      "Assuming nested distributions\n",
      "WARNING:weightwatcher:pytorch layer: LayerNorm((768,), eps=1e-05, elementwise_affine=True)  type LAYER_TYPE.NORM not found \n",
      "Assuming nested distributions\n",
      "'nan' in fit cumulative distribution values.\n",
      "Likely underflow or overflow error: the optimal fit for this distribution gives values that are so extreme that we lack the numerical precision to calculate them.\n",
      "Assuming nested distributions\n",
      "'nan' in fit cumulative distribution values.\n",
      "Likely underflow or overflow error: the optimal fit for this distribution gives values that are so extreme that we lack the numerical precision to calculate them.\n",
      "WARNING:weightwatcher:pytorch layer: LayerNorm((768,), eps=1e-05, elementwise_affine=True)  type LAYER_TYPE.NORM not found \n",
      "Assuming nested distributions\n",
      "Assuming nested distributions\n",
      "'nan' in fit cumulative distribution values.\n",
      "Likely underflow or overflow error: the optimal fit for this distribution gives values that are so extreme that we lack the numerical precision to calculate them.\n",
      "WARNING:weightwatcher:pytorch layer: LayerNorm((768,), eps=1e-05, elementwise_affine=True)  type LAYER_TYPE.NORM not found \n",
      "Assuming nested distributions\n",
      "'nan' in fit cumulative distribution values.\n",
      "Likely underflow or overflow error: the optimal fit for this distribution gives values that are so extreme that we lack the numerical precision to calculate them.\n",
      "Assuming nested distributions\n",
      "'nan' in fit cumulative distribution values.\n",
      "Likely underflow or overflow error: the optimal fit for this distribution gives values that are so extreme that we lack the numerical precision to calculate them.\n",
      "WARNING:weightwatcher:pytorch layer: LayerNorm((768,), eps=1e-05, elementwise_affine=True)  type LAYER_TYPE.NORM not found \n",
      "Assuming nested distributions\n",
      "Assuming nested distributions\n",
      "'nan' in fit cumulative distribution values.\n",
      "Likely underflow or overflow error: the optimal fit for this distribution gives values that are so extreme that we lack the numerical precision to calculate them.\n",
      "WARNING:weightwatcher:pytorch layer: LayerNorm((768,), eps=1e-05, elementwise_affine=True)  type LAYER_TYPE.NORM not found \n",
      "Assuming nested distributions\n",
      "'nan' in fit cumulative distribution values.\n",
      "Likely underflow or overflow error: the optimal fit for this distribution gives values that are so extreme that we lack the numerical precision to calculate them.\n",
      "Assuming nested distributions\n",
      "'nan' in fit cumulative distribution values.\n",
      "Likely underflow or overflow error: the optimal fit for this distribution gives values that are so extreme that we lack the numerical precision to calculate them.\n",
      "WARNING:weightwatcher:pytorch layer: LayerNorm((768,), eps=1e-05, elementwise_affine=True)  type LAYER_TYPE.NORM not found \n"
     ]
    }
   ],
   "source": [
    "watcher = ww.WeightWatcher(model=gpt_model)\n",
    "gpt_details = watcher.analyze()"
   ]
  },
  {
   "cell_type": "code",
   "execution_count": 6,
   "metadata": {
    "scrolled": false
   },
   "outputs": [
    {
     "name": "stderr",
     "output_type": "stream",
     "text": [
      "INFO:weightwatcher:\n",
      "\n",
      "python      version 3.9.5 (default, May 18 2021, 12:31:01) \n",
      "[Clang 10.0.0 ]\n",
      "numpy       version 1.19.5\n",
      "tensforflow version 2.5.0\n",
      "keras       version 2.5.0\n",
      "INFO:weightwatcher:Saving all images to ww-img\n",
      "INFO:weightwatcher:params {'glorot_fix': False, 'normalize': False, 'conv2d_norm': True, 'randomize': False, 'savedir': 'ww-img', 'savefig': 'ww-img', 'rescale': True, 'deltaEs': False, 'intra': False, 'channels': None, 'conv2d_fft': False, 'ww2x': False, 'min_evals': 0, 'max_evals': None, 'plot': False, 'mp_fit': False, 'layers': []}\n",
      "INFO:weightwatcher:Saving all images to ww-img\n",
      "Assuming nested distributions\n",
      "'nan' in fit cumulative distribution values.\n",
      "Likely underflow or overflow error: the optimal fit for this distribution gives values that are so extreme that we lack the numerical precision to calculate them.\n",
      "Assuming nested distributions\n",
      "'nan' in fit cumulative distribution values.\n",
      "Likely underflow or overflow error: the optimal fit for this distribution gives values that are so extreme that we lack the numerical precision to calculate them.\n",
      "WARNING:weightwatcher:pytorch layer: LayerNorm((768,), eps=1e-05, elementwise_affine=True)  type LAYER_TYPE.NORM not found \n",
      "Assuming nested distributions\n",
      "Assuming nested distributions\n",
      "WARNING:weightwatcher:pytorch layer: LayerNorm((768,), eps=1e-05, elementwise_affine=True)  type LAYER_TYPE.NORM not found \n",
      "Assuming nested distributions\n",
      "'nan' in fit cumulative distribution values.\n",
      "Likely underflow or overflow error: the optimal fit for this distribution gives values that are so extreme that we lack the numerical precision to calculate them.\n",
      "Assuming nested distributions\n",
      "'nan' in fit cumulative distribution values.\n",
      "Likely underflow or overflow error: the optimal fit for this distribution gives values that are so extreme that we lack the numerical precision to calculate them.\n",
      "WARNING:weightwatcher:pytorch layer: LayerNorm((768,), eps=1e-05, elementwise_affine=True)  type LAYER_TYPE.NORM not found \n",
      "Assuming nested distributions\n",
      "Assuming nested distributions\n",
      "'nan' in fit cumulative distribution values.\n",
      "Likely underflow or overflow error: the optimal fit for this distribution gives values that are so extreme that we lack the numerical precision to calculate them.\n",
      "WARNING:weightwatcher:pytorch layer: LayerNorm((768,), eps=1e-05, elementwise_affine=True)  type LAYER_TYPE.NORM not found \n",
      "Assuming nested distributions\n",
      "'nan' in fit cumulative distribution values.\n",
      "Likely underflow or overflow error: the optimal fit for this distribution gives values that are so extreme that we lack the numerical precision to calculate them.\n",
      "Assuming nested distributions\n",
      "'nan' in fit cumulative distribution values.\n",
      "Likely underflow or overflow error: the optimal fit for this distribution gives values that are so extreme that we lack the numerical precision to calculate them.\n",
      "WARNING:weightwatcher:pytorch layer: LayerNorm((768,), eps=1e-05, elementwise_affine=True)  type LAYER_TYPE.NORM not found \n",
      "Assuming nested distributions\n",
      "Assuming nested distributions\n",
      "'nan' in fit cumulative distribution values.\n",
      "Likely underflow or overflow error: the optimal fit for this distribution gives values that are so extreme that we lack the numerical precision to calculate them.\n",
      "WARNING:weightwatcher:pytorch layer: LayerNorm((768,), eps=1e-05, elementwise_affine=True)  type LAYER_TYPE.NORM not found \n",
      "Assuming nested distributions\n",
      "'nan' in fit cumulative distribution values.\n",
      "Likely underflow or overflow error: the optimal fit for this distribution gives values that are so extreme that we lack the numerical precision to calculate them.\n",
      "Assuming nested distributions\n",
      "'nan' in fit cumulative distribution values.\n",
      "Likely underflow or overflow error: the optimal fit for this distribution gives values that are so extreme that we lack the numerical precision to calculate them.\n",
      "WARNING:weightwatcher:pytorch layer: LayerNorm((768,), eps=1e-05, elementwise_affine=True)  type LAYER_TYPE.NORM not found \n",
      "Assuming nested distributions\n",
      "Assuming nested distributions\n",
      "'nan' in fit cumulative distribution values.\n",
      "Likely underflow or overflow error: the optimal fit for this distribution gives values that are so extreme that we lack the numerical precision to calculate them.\n",
      "WARNING:weightwatcher:pytorch layer: LayerNorm((768,), eps=1e-05, elementwise_affine=True)  type LAYER_TYPE.NORM not found \n",
      "Assuming nested distributions\n",
      "Assuming nested distributions\n",
      "'nan' in fit cumulative distribution values.\n",
      "Likely underflow or overflow error: the optimal fit for this distribution gives values that are so extreme that we lack the numerical precision to calculate them.\n",
      "WARNING:weightwatcher:pytorch layer: LayerNorm((768,), eps=1e-05, elementwise_affine=True)  type LAYER_TYPE.NORM not found \n",
      "Assuming nested distributions\n",
      "Assuming nested distributions\n",
      "'nan' in fit cumulative distribution values.\n",
      "Likely underflow or overflow error: the optimal fit for this distribution gives values that are so extreme that we lack the numerical precision to calculate them.\n",
      "WARNING:weightwatcher:pytorch layer: LayerNorm((768,), eps=1e-05, elementwise_affine=True)  type LAYER_TYPE.NORM not found \n",
      "Assuming nested distributions\n",
      "Assuming nested distributions\n",
      "'nan' in fit cumulative distribution values.\n",
      "Likely underflow or overflow error: the optimal fit for this distribution gives values that are so extreme that we lack the numerical precision to calculate them.\n",
      "WARNING:weightwatcher:pytorch layer: LayerNorm((768,), eps=1e-05, elementwise_affine=True)  type LAYER_TYPE.NORM not found \n",
      "Assuming nested distributions\n",
      "Assuming nested distributions\n",
      "WARNING:weightwatcher:pytorch layer: LayerNorm((768,), eps=1e-05, elementwise_affine=True)  type LAYER_TYPE.NORM not found \n",
      "Assuming nested distributions\n",
      "'nan' in fit cumulative distribution values.\n",
      "Likely underflow or overflow error: the optimal fit for this distribution gives values that are so extreme that we lack the numerical precision to calculate them.\n",
      "Assuming nested distributions\n",
      "'nan' in fit cumulative distribution values.\n",
      "Likely underflow or overflow error: the optimal fit for this distribution gives values that are so extreme that we lack the numerical precision to calculate them.\n",
      "WARNING:weightwatcher:pytorch layer: LayerNorm((768,), eps=1e-05, elementwise_affine=True)  type LAYER_TYPE.NORM not found \n",
      "/Users/charleshmartin/anaconda3/envs/wwtest/lib/python3.9/site-packages/powerlaw.py:1178: RuntimeWarning: overflow encountered in double_scalars\n",
      "  return (self.alpha-1) * self.xmin**(self.alpha-1)\n",
      "/Users/charleshmartin/anaconda3/envs/wwtest/lib/python3.9/site-packages/powerlaw.py:825: RuntimeWarning: invalid value encountered in multiply\n",
      "  likelihoods = f*C\n",
      "Assuming nested distributions\n",
      "Assuming nested distributions\n",
      "'nan' in fit cumulative distribution values.\n",
      "Likely underflow or overflow error: the optimal fit for this distribution gives values that are so extreme that we lack the numerical precision to calculate them.\n",
      "WARNING:weightwatcher:pytorch layer: LayerNorm((768,), eps=1e-05, elementwise_affine=True)  type LAYER_TYPE.NORM not found \n",
      "Assuming nested distributions\n",
      "Assuming nested distributions\n",
      "'nan' in fit cumulative distribution values.\n",
      "Likely underflow or overflow error: the optimal fit for this distribution gives values that are so extreme that we lack the numerical precision to calculate them.\n",
      "WARNING:weightwatcher:pytorch layer: LayerNorm((768,), eps=1e-05, elementwise_affine=True)  type LAYER_TYPE.NORM not found \n",
      "Assuming nested distributions\n",
      "Assuming nested distributions\n",
      "'nan' in fit cumulative distribution values.\n",
      "Likely underflow or overflow error: the optimal fit for this distribution gives values that are so extreme that we lack the numerical precision to calculate them.\n",
      "WARNING:weightwatcher:pytorch layer: LayerNorm((768,), eps=1e-05, elementwise_affine=True)  type LAYER_TYPE.NORM not found \n",
      "Assuming nested distributions\n",
      "Assuming nested distributions\n",
      "'nan' in fit cumulative distribution values.\n",
      "Likely underflow or overflow error: the optimal fit for this distribution gives values that are so extreme that we lack the numerical precision to calculate them.\n",
      "WARNING:weightwatcher:pytorch layer: LayerNorm((768,), eps=1e-05, elementwise_affine=True)  type LAYER_TYPE.NORM not found \n"
     ]
    },
    {
     "name": "stderr",
     "output_type": "stream",
     "text": [
      "Assuming nested distributions\n",
      "Assuming nested distributions\n",
      "'nan' in fit cumulative distribution values.\n",
      "Likely underflow or overflow error: the optimal fit for this distribution gives values that are so extreme that we lack the numerical precision to calculate them.\n",
      "WARNING:weightwatcher:pytorch layer: LayerNorm((768,), eps=1e-05, elementwise_affine=True)  type LAYER_TYPE.NORM not found \n",
      "Assuming nested distributions\n",
      "'nan' in fit cumulative distribution values.\n",
      "Likely underflow or overflow error: the optimal fit for this distribution gives values that are so extreme that we lack the numerical precision to calculate them.\n",
      "Assuming nested distributions\n",
      "'nan' in fit cumulative distribution values.\n",
      "Likely underflow or overflow error: the optimal fit for this distribution gives values that are so extreme that we lack the numerical precision to calculate them.\n",
      "WARNING:weightwatcher:pytorch layer: LayerNorm((768,), eps=1e-05, elementwise_affine=True)  type LAYER_TYPE.NORM not found \n",
      "Assuming nested distributions\n",
      "Assuming nested distributions\n",
      "'nan' in fit cumulative distribution values.\n",
      "Likely underflow or overflow error: the optimal fit for this distribution gives values that are so extreme that we lack the numerical precision to calculate them.\n",
      "WARNING:weightwatcher:pytorch layer: LayerNorm((768,), eps=1e-05, elementwise_affine=True)  type LAYER_TYPE.NORM not found \n",
      "Assuming nested distributions\n",
      "Assuming nested distributions\n",
      "'nan' in fit cumulative distribution values.\n",
      "Likely underflow or overflow error: the optimal fit for this distribution gives values that are so extreme that we lack the numerical precision to calculate them.\n",
      "WARNING:weightwatcher:pytorch layer: LayerNorm((768,), eps=1e-05, elementwise_affine=True)  type LAYER_TYPE.NORM not found \n",
      "Assuming nested distributions\n",
      "Assuming nested distributions\n",
      "'nan' in fit cumulative distribution values.\n",
      "Likely underflow or overflow error: the optimal fit for this distribution gives values that are so extreme that we lack the numerical precision to calculate them.\n",
      "WARNING:weightwatcher:pytorch layer: LayerNorm((768,), eps=1e-05, elementwise_affine=True)  type LAYER_TYPE.NORM not found \n",
      "Assuming nested distributions\n",
      "Assuming nested distributions\n",
      "'nan' in fit cumulative distribution values.\n",
      "Likely underflow or overflow error: the optimal fit for this distribution gives values that are so extreme that we lack the numerical precision to calculate them.\n",
      "WARNING:weightwatcher:pytorch layer: LayerNorm((768,), eps=1e-05, elementwise_affine=True)  type LAYER_TYPE.NORM not found \n",
      "Assuming nested distributions\n",
      "Assuming nested distributions\n",
      "'nan' in fit cumulative distribution values.\n",
      "Likely underflow or overflow error: the optimal fit for this distribution gives values that are so extreme that we lack the numerical precision to calculate them.\n",
      "WARNING:weightwatcher:pytorch layer: LayerNorm((768,), eps=1e-05, elementwise_affine=True)  type LAYER_TYPE.NORM not found \n",
      "Assuming nested distributions\n",
      "Assuming nested distributions\n",
      "'nan' in fit cumulative distribution values.\n",
      "Likely underflow or overflow error: the optimal fit for this distribution gives values that are so extreme that we lack the numerical precision to calculate them.\n",
      "WARNING:weightwatcher:pytorch layer: LayerNorm((768,), eps=1e-05, elementwise_affine=True)  type LAYER_TYPE.NORM not found \n"
     ]
    }
   ],
   "source": [
    "watcher = ww.WeightWatcher(model=gpt2_model)\n",
    "gpt2_details = watcher.analyze()"
   ]
  },
  {
   "cell_type": "code",
   "execution_count": 7,
   "metadata": {},
   "outputs": [],
   "source": [
    "params = {'legend.fontsize': 'x-large',\n",
    "          'figure.figsize': (7,5),\n",
    "         'axes.labelsize': 'x-large',\n",
    "         'axes.titlesize':'xx-large',\n",
    "         'xtick.labelsize':'xx-large',\n",
    "         'ytick.labelsize':'xx-large'}\n",
    "plt.rcParams.update(params)"
   ]
  },
  {
   "cell_type": "code",
   "execution_count": 8,
   "metadata": {},
   "outputs": [
    {
     "data": {
      "text/plain": [
       "Text(0.5, 0, 'alpha $(\\\\alpha)$ PL exponent')"
      ]
     },
     "execution_count": 8,
     "metadata": {},
     "output_type": "execute_result"
    },
    {
     "data": {
      "image/png": "[encoded data removed]",
      "text/plain": [
       "<Figure size 504x360 with 1 Axes>"
      ]
     },
     "metadata": {
      "needs_background": "light"
     },
     "output_type": "display_data"
    }
   ],
   "source": [
    "gpt_details.alpha.plot.hist(bins=100, color='red', alpha=0.5, density=True, label='gpt')\n",
    "plt.legend()\n",
    "plt.xlabel(r\"alpha $(\\alpha)$ PL exponent\")"
   ]
  },
  {
   "cell_type": "code",
   "execution_count": 9,
   "metadata": {},
   "outputs": [
    {
     "data": {
      "text/plain": [
       "Text(0.5, 0, 'alpha $(\\\\alpha)$ PL exponent')"
      ]
     },
     "execution_count": 9,
     "metadata": {},
     "output_type": "execute_result"
    },
    {
     "data": {
      "image/png": "[encoded data removed]",
      "text/plain": [
       "<Figure size 504x360 with 1 Axes>"
      ]
     },
     "metadata": {
      "needs_background": "light"
     },
     "output_type": "display_data"
    }
   ],
   "source": [
    "gpt_details.alpha.plot.hist(bins=100, color='red', alpha=0.5, density=True, label='gpt')\n",
    "gpt2_details.alpha.plot.hist(bins=100, color='green', density=True, label='gpt2')\n",
    "plt.legend()\n",
    "plt.xlabel(r\"alpha $(\\alpha)$ PL exponent\")"
   ]
  },
  {
   "cell_type": "code",
   "execution_count": null,
   "metadata": {},
   "outputs": [],
   "source": []
  }
 ],
 "metadata": {
  "kernelspec": {
   "display_name": "Python 3 (ipykernel)",
   "language": "python",
   "name": "python3"
  },
  "language_info": {
   "codemirror_mode": {
    "name": "ipython",
    "version": 3
   },
   "file_extension": ".py",
   "mimetype": "text/x-python",
   "name": "python",
   "nbconvert_exporter": "python",
   "pygments_lexer": "ipython3",
   "version": "3.9.5"
  }
 },
 "nbformat": 4,
 "nbformat_minor": 4
}
