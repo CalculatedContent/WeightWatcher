{
 "cells": [
  {
   "cell_type": "markdown",
   "metadata": {},
   "source": [
    "\n",
    "# WeightWatcher - SVDSmoothing\n",
    "\n",
    "### Example of SVDSmoothing using the VGG16 model \n",
    "\n",
    "Compare the original (green) vs. smoothed (red) ESDs\n",
    "\n"
   ]
  },
  {
   "cell_type": "code",
   "execution_count": 1,
   "metadata": {
    "ExecuteTime": {
     "end_time": "2019-03-05T23:51:16.544327Z",
     "start_time": "2019-03-05T23:51:16.531457Z"
    },
    "scrolled": true
   },
   "outputs": [],
   "source": [
    "# Suppress the powerlaw package warnings\n",
    "# \"powerlaw.py:700: RuntimeWarning: divide by zero encountered in true_divide\"\n",
    "# \"powerlaw.py:700: RuntimeWarning: invalid value encountered in true_divide\"\n",
    "import warnings\n",
    "warnings.simplefilter(action='ignore', category=RuntimeWarning)"
   ]
  },
  {
   "cell_type": "code",
   "execution_count": 2,
   "metadata": {
    "scrolled": false
   },
   "outputs": [],
   "source": [
    "import numpy as np\n",
    "import pandas as pd\n",
    "\n",
    "import tensorflow\n",
    "import torchvision.models as models\n",
    "from tqdm import tqdm\n",
    "\n",
    "import matplotlib\n",
    "import matplotlib.pyplot as plt\n",
    "%matplotlib inline"
   ]
  },
  {
   "cell_type": "markdown",
   "metadata": {
    "ExecuteTime": {
     "end_time": "2019-03-06T00:16:43.249725Z",
     "start_time": "2019-03-06T00:16:43.240611Z"
    }
   },
   "source": [
    "### Import WeightWatcher\n",
    "\n",
    "set custom Logging at WARN Level"
   ]
  },
  {
   "cell_type": "code",
   "execution_count": 3,
   "metadata": {
    "scrolled": false
   },
   "outputs": [],
   "source": [
    "import logging\n",
    "logging.basicConfig(level=logging.INFO)\n",
    "logger = logging.getLogger(__name__)\n",
    "logger.setLevel(logging.INFO)\n"
   ]
  },
  {
   "cell_type": "code",
   "execution_count": 4,
   "metadata": {
    "scrolled": true
   },
   "outputs": [
    {
     "data": {
      "text/plain": [
       "'0.5'"
      ]
     },
     "execution_count": 4,
     "metadata": {},
     "output_type": "execute_result"
    }
   ],
   "source": [
    "import weightwatcher as ww\n",
    "logger = logging.getLogger(ww.__name__)\n",
    "logger.setLevel(logging.INFO)\n",
    "\n",
    "ww.__version__"
   ]
  },
  {
   "cell_type": "markdown",
   "metadata": {},
   "source": [
    "### PyTorch Example\n",
    "\n",
    "VGG16 has 16 layers\n",
    "\n",
    "- The last 3 are dense"
   ]
  },
  {
   "cell_type": "code",
   "execution_count": 5,
   "metadata": {
    "scrolled": true
   },
   "outputs": [
    {
     "name": "stderr",
     "output_type": "stream",
     "text": [
      "INFO:weightwatcher:\n",
      "\n",
      "python      version 3.9.5 (default, May 18 2021, 12:31:01) \n",
      "[Clang 10.0.0 ]\n",
      "numpy       version 1.19.5\n",
      "tensforflow version 2.5.0\n",
      "keras       version 2.5.0\n",
      "INFO:weightwatcher:params {'glorot_fix': False, 'normalize': False, 'conv2d_norm': True, 'randomize': False, 'savedir': 'ww-img', 'savefig': 'ww-img', 'rescale': True, 'deltaEs': False, 'intra': False, 'channels': None, 'conv2d_fft': False, 'ww2x': False, 'min_evals': 0, 'max_evals': None, 'plot': False, 'mp_fit': False, 'layers': []}\n",
      "INFO:weightwatcher:Saving all images to ww-img\n",
      "INFO:weightwatcher:params {'glorot_fix': False, 'normalize': False, 'conv2d_norm': True, 'randomize': False, 'savedir': 'ww-img', 'savefig': 'ww-img', 'rescale': True, 'deltaEs': False, 'intra': False, 'channels': None, 'conv2d_fft': False, 'ww2x': False, 'min_evals': 0, 'max_evals': None, 'plot': False, 'mp_fit': False, 'layers': []}\n",
      "INFO:weightwatcher:Saving all images to ww-img\n"
     ]
    }
   ],
   "source": [
    "vgg16_pt = models.vgg16(pretrained=True)\n",
    "watcher = ww.WeightWatcher(model=vgg16_pt)\n",
    "details = watcher.describe()"
   ]
  },
  {
   "cell_type": "code",
   "execution_count": 6,
   "metadata": {},
   "outputs": [
    {
     "data": {
      "text/html": [
       "<div>\n",
       "<style scoped>\n",
       "    .dataframe tbody tr th:only-of-type {\n",
       "        vertical-align: middle;\n",
       "    }\n",
       "\n",
       "    .dataframe tbody tr th {\n",
       "        vertical-align: top;\n",
       "    }\n",
       "\n",
       "    .dataframe thead th {\n",
       "        text-align: right;\n",
       "    }\n",
       "</style>\n",
       "<table border=\"1\" class=\"dataframe\">\n",
       "  <thead>\n",
       "    <tr style=\"text-align: right;\">\n",
       "      <th></th>\n",
       "      <th>layer_id</th>\n",
       "      <th>name</th>\n",
       "      <th>M</th>\n",
       "      <th>N</th>\n",
       "      <th>layer_type</th>\n",
       "      <th>num_evals</th>\n",
       "      <th>rf</th>\n",
       "    </tr>\n",
       "  </thead>\n",
       "  <tbody>\n",
       "    <tr>\n",
       "      <th>0</th>\n",
       "      <td>2</td>\n",
       "      <td>None</td>\n",
       "      <td>3.0</td>\n",
       "      <td>64.0</td>\n",
       "      <td>LAYER_TYPE.CONV2D</td>\n",
       "      <td>27.0</td>\n",
       "      <td>9.0</td>\n",
       "    </tr>\n",
       "    <tr>\n",
       "      <th>1</th>\n",
       "      <td>4</td>\n",
       "      <td>None</td>\n",
       "      <td>64.0</td>\n",
       "      <td>64.0</td>\n",
       "      <td>LAYER_TYPE.CONV2D</td>\n",
       "      <td>576.0</td>\n",
       "      <td>9.0</td>\n",
       "    </tr>\n",
       "    <tr>\n",
       "      <th>2</th>\n",
       "      <td>7</td>\n",
       "      <td>None</td>\n",
       "      <td>64.0</td>\n",
       "      <td>128.0</td>\n",
       "      <td>LAYER_TYPE.CONV2D</td>\n",
       "      <td>576.0</td>\n",
       "      <td>9.0</td>\n",
       "    </tr>\n",
       "    <tr>\n",
       "      <th>3</th>\n",
       "      <td>9</td>\n",
       "      <td>None</td>\n",
       "      <td>128.0</td>\n",
       "      <td>128.0</td>\n",
       "      <td>LAYER_TYPE.CONV2D</td>\n",
       "      <td>1152.0</td>\n",
       "      <td>9.0</td>\n",
       "    </tr>\n",
       "    <tr>\n",
       "      <th>4</th>\n",
       "      <td>12</td>\n",
       "      <td>None</td>\n",
       "      <td>128.0</td>\n",
       "      <td>256.0</td>\n",
       "      <td>LAYER_TYPE.CONV2D</td>\n",
       "      <td>1152.0</td>\n",
       "      <td>9.0</td>\n",
       "    </tr>\n",
       "    <tr>\n",
       "      <th>5</th>\n",
       "      <td>14</td>\n",
       "      <td>None</td>\n",
       "      <td>256.0</td>\n",
       "      <td>256.0</td>\n",
       "      <td>LAYER_TYPE.CONV2D</td>\n",
       "      <td>2304.0</td>\n",
       "      <td>9.0</td>\n",
       "    </tr>\n",
       "    <tr>\n",
       "      <th>6</th>\n",
       "      <td>16</td>\n",
       "      <td>None</td>\n",
       "      <td>256.0</td>\n",
       "      <td>256.0</td>\n",
       "      <td>LAYER_TYPE.CONV2D</td>\n",
       "      <td>2304.0</td>\n",
       "      <td>9.0</td>\n",
       "    </tr>\n",
       "    <tr>\n",
       "      <th>7</th>\n",
       "      <td>19</td>\n",
       "      <td>None</td>\n",
       "      <td>256.0</td>\n",
       "      <td>512.0</td>\n",
       "      <td>LAYER_TYPE.CONV2D</td>\n",
       "      <td>2304.0</td>\n",
       "      <td>9.0</td>\n",
       "    </tr>\n",
       "    <tr>\n",
       "      <th>8</th>\n",
       "      <td>21</td>\n",
       "      <td>None</td>\n",
       "      <td>512.0</td>\n",
       "      <td>512.0</td>\n",
       "      <td>LAYER_TYPE.CONV2D</td>\n",
       "      <td>4608.0</td>\n",
       "      <td>9.0</td>\n",
       "    </tr>\n",
       "    <tr>\n",
       "      <th>9</th>\n",
       "      <td>23</td>\n",
       "      <td>None</td>\n",
       "      <td>512.0</td>\n",
       "      <td>512.0</td>\n",
       "      <td>LAYER_TYPE.CONV2D</td>\n",
       "      <td>4608.0</td>\n",
       "      <td>9.0</td>\n",
       "    </tr>\n",
       "    <tr>\n",
       "      <th>10</th>\n",
       "      <td>26</td>\n",
       "      <td>None</td>\n",
       "      <td>512.0</td>\n",
       "      <td>512.0</td>\n",
       "      <td>LAYER_TYPE.CONV2D</td>\n",
       "      <td>4608.0</td>\n",
       "      <td>9.0</td>\n",
       "    </tr>\n",
       "    <tr>\n",
       "      <th>11</th>\n",
       "      <td>28</td>\n",
       "      <td>None</td>\n",
       "      <td>512.0</td>\n",
       "      <td>512.0</td>\n",
       "      <td>LAYER_TYPE.CONV2D</td>\n",
       "      <td>4608.0</td>\n",
       "      <td>9.0</td>\n",
       "    </tr>\n",
       "    <tr>\n",
       "      <th>12</th>\n",
       "      <td>30</td>\n",
       "      <td>None</td>\n",
       "      <td>512.0</td>\n",
       "      <td>512.0</td>\n",
       "      <td>LAYER_TYPE.CONV2D</td>\n",
       "      <td>4608.0</td>\n",
       "      <td>9.0</td>\n",
       "    </tr>\n",
       "    <tr>\n",
       "      <th>13</th>\n",
       "      <td>35</td>\n",
       "      <td>None</td>\n",
       "      <td>4096.0</td>\n",
       "      <td>25088.0</td>\n",
       "      <td>LAYER_TYPE.DENSE</td>\n",
       "      <td>4096.0</td>\n",
       "      <td>1.0</td>\n",
       "    </tr>\n",
       "    <tr>\n",
       "      <th>14</th>\n",
       "      <td>38</td>\n",
       "      <td>None</td>\n",
       "      <td>4096.0</td>\n",
       "      <td>4096.0</td>\n",
       "      <td>LAYER_TYPE.DENSE</td>\n",
       "      <td>4096.0</td>\n",
       "      <td>1.0</td>\n",
       "    </tr>\n",
       "    <tr>\n",
       "      <th>15</th>\n",
       "      <td>41</td>\n",
       "      <td>None</td>\n",
       "      <td>1000.0</td>\n",
       "      <td>4096.0</td>\n",
       "      <td>LAYER_TYPE.DENSE</td>\n",
       "      <td>1000.0</td>\n",
       "      <td>1.0</td>\n",
       "    </tr>\n",
       "  </tbody>\n",
       "</table>\n",
       "</div>"
      ],
      "text/plain": [
       "   layer_id  name       M        N         layer_type  num_evals   rf\n",
       "0         2  None     3.0     64.0  LAYER_TYPE.CONV2D       27.0  9.0\n",
       "1         4  None    64.0     64.0  LAYER_TYPE.CONV2D      576.0  9.0\n",
       "2         7  None    64.0    128.0  LAYER_TYPE.CONV2D      576.0  9.0\n",
       "3         9  None   128.0    128.0  LAYER_TYPE.CONV2D     1152.0  9.0\n",
       "4        12  None   128.0    256.0  LAYER_TYPE.CONV2D     1152.0  9.0\n",
       "5        14  None   256.0    256.0  LAYER_TYPE.CONV2D     2304.0  9.0\n",
       "6        16  None   256.0    256.0  LAYER_TYPE.CONV2D     2304.0  9.0\n",
       "7        19  None   256.0    512.0  LAYER_TYPE.CONV2D     2304.0  9.0\n",
       "8        21  None   512.0    512.0  LAYER_TYPE.CONV2D     4608.0  9.0\n",
       "9        23  None   512.0    512.0  LAYER_TYPE.CONV2D     4608.0  9.0\n",
       "10       26  None   512.0    512.0  LAYER_TYPE.CONV2D     4608.0  9.0\n",
       "11       28  None   512.0    512.0  LAYER_TYPE.CONV2D     4608.0  9.0\n",
       "12       30  None   512.0    512.0  LAYER_TYPE.CONV2D     4608.0  9.0\n",
       "13       35  None  4096.0  25088.0   LAYER_TYPE.DENSE     4096.0  1.0\n",
       "14       38  None  4096.0   4096.0   LAYER_TYPE.DENSE     4096.0  1.0\n",
       "15       41  None  1000.0   4096.0   LAYER_TYPE.DENSE     1000.0  1.0"
      ]
     },
     "execution_count": 6,
     "metadata": {},
     "output_type": "execute_result"
    }
   ],
   "source": [
    "details"
   ]
  },
  {
   "cell_type": "code",
   "execution_count": 7,
   "metadata": {
    "scrolled": false
   },
   "outputs": [
    {
     "name": "stderr",
     "output_type": "stream",
     "text": [
      "INFO:weightwatcher:params {'glorot_fix': False, 'normalize': False, 'conv2d_norm': True, 'randomize': False, 'savedir': 'ww-img', 'savefig': 'ww-img', 'rescale': True, 'deltaEs': False, 'intra': False, 'channels': None, 'conv2d_fft': False, 'ww2x': False, 'min_evals': 0, 'max_evals': None, 'plot': False, 'mp_fit': False, 'layers': []}\n",
      "INFO:weightwatcher:Saving all images to ww-img\n",
      "INFO:weightwatcher:params {'glorot_fix': False, 'normalize': False, 'conv2d_norm': True, 'randomize': False, 'savedir': 'ww-img', 'savefig': 'ww-img', 'rescale': True, 'deltaEs': False, 'intra': False, 'channels': None, 'conv2d_fft': False, 'ww2x': False, 'min_evals': 0, 'max_evals': None, 'plot': False, 'mp_fit': False, 'layers': []}\n",
      "INFO:weightwatcher:Saving all images to ww-img\n"
     ]
    },
    {
     "name": "stdout",
     "output_type": "stream",
     "text": [
      "2\n"
     ]
    },
    {
     "name": "stderr",
     "output_type": "stream",
     "text": [
      "INFO:weightwatcher:Filtering layer by id 2\n",
      "INFO:weightwatcher:skipping layer 0 None by id\n",
      "INFO:weightwatcher:skipping layer 1 None by id\n",
      "INFO:weightwatcher:keeping layer 2 None by id\n",
      "INFO:weightwatcher:Getting ESD for layer 2 \n",
      "INFO:weightwatcher:Found 27 eiganvalues for 2 None\n",
      "INFO:weightwatcher:params {'glorot_fix': False, 'normalize': False, 'conv2d_norm': True, 'randomize': False, 'savedir': 'ww-img', 'savefig': 'ww-img', 'rescale': True, 'deltaEs': False, 'intra': False, 'channels': None, 'conv2d_fft': False, 'ww2x': False, 'min_evals': 0, 'max_evals': None, 'plot': False, 'mp_fit': False, 'layers': []}\n",
      "INFO:weightwatcher:Saving all images to ww-img\n",
      "INFO:weightwatcher:params {'glorot_fix': False, 'normalize': False, 'conv2d_norm': True, 'randomize': False, 'savedir': 'ww-img', 'savefig': 'ww-img', 'rescale': True, 'deltaEs': False, 'intra': False, 'channels': None, 'conv2d_fft': False, 'ww2x': False, 'min_evals': 0, 'max_evals': None, 'plot': False, 'mp_fit': False, 'layers': []}\n",
      "INFO:weightwatcher:Saving all images to ww-img\n"
     ]
    },
    {
     "name": "stdout",
     "output_type": "stream",
     "text": [
      "4\n"
     ]
    },
    {
     "name": "stderr",
     "output_type": "stream",
     "text": [
      "INFO:weightwatcher:Filtering layer by id 4\n",
      "INFO:weightwatcher:skipping layer 0 None by id\n",
      "INFO:weightwatcher:skipping layer 1 None by id\n",
      "INFO:weightwatcher:skipping layer 2 None by id\n",
      "INFO:weightwatcher:skipping layer 3 None by id\n",
      "INFO:weightwatcher:keeping layer 4 None by id\n",
      "INFO:weightwatcher:Getting ESD for layer 4 \n",
      "INFO:weightwatcher:Found 576 eiganvalues for 4 None\n",
      "INFO:weightwatcher:params {'glorot_fix': False, 'normalize': False, 'conv2d_norm': True, 'randomize': False, 'savedir': 'ww-img', 'savefig': 'ww-img', 'rescale': True, 'deltaEs': False, 'intra': False, 'channels': None, 'conv2d_fft': False, 'ww2x': False, 'min_evals': 0, 'max_evals': None, 'plot': False, 'mp_fit': False, 'layers': []}\n",
      "INFO:weightwatcher:Saving all images to ww-img\n",
      "INFO:weightwatcher:params {'glorot_fix': False, 'normalize': False, 'conv2d_norm': True, 'randomize': False, 'savedir': 'ww-img', 'savefig': 'ww-img', 'rescale': True, 'deltaEs': False, 'intra': False, 'channels': None, 'conv2d_fft': False, 'ww2x': False, 'min_evals': 0, 'max_evals': None, 'plot': False, 'mp_fit': False, 'layers': []}\n",
      "INFO:weightwatcher:Saving all images to ww-img\n"
     ]
    },
    {
     "name": "stdout",
     "output_type": "stream",
     "text": [
      "7\n"
     ]
    },
    {
     "name": "stderr",
     "output_type": "stream",
     "text": [
      "INFO:weightwatcher:Filtering layer by id 7\n",
      "INFO:weightwatcher:skipping layer 0 None by id\n",
      "INFO:weightwatcher:skipping layer 1 None by id\n",
      "INFO:weightwatcher:skipping layer 2 None by id\n",
      "INFO:weightwatcher:skipping layer 3 None by id\n",
      "INFO:weightwatcher:skipping layer 4 None by id\n",
      "INFO:weightwatcher:skipping layer 5 None by id\n",
      "INFO:weightwatcher:skipping layer 6 None by id\n",
      "INFO:weightwatcher:keeping layer 7 None by id\n",
      "INFO:weightwatcher:Getting ESD for layer 7 \n",
      "INFO:weightwatcher:Found 576 eiganvalues for 7 None\n",
      "INFO:weightwatcher:params {'glorot_fix': False, 'normalize': False, 'conv2d_norm': True, 'randomize': False, 'savedir': 'ww-img', 'savefig': 'ww-img', 'rescale': True, 'deltaEs': False, 'intra': False, 'channels': None, 'conv2d_fft': False, 'ww2x': False, 'min_evals': 0, 'max_evals': None, 'plot': False, 'mp_fit': False, 'layers': []}\n",
      "INFO:weightwatcher:Saving all images to ww-img\n",
      "INFO:weightwatcher:params {'glorot_fix': False, 'normalize': False, 'conv2d_norm': True, 'randomize': False, 'savedir': 'ww-img', 'savefig': 'ww-img', 'rescale': True, 'deltaEs': False, 'intra': False, 'channels': None, 'conv2d_fft': False, 'ww2x': False, 'min_evals': 0, 'max_evals': None, 'plot': False, 'mp_fit': False, 'layers': []}\n",
      "INFO:weightwatcher:Saving all images to ww-img\n"
     ]
    },
    {
     "name": "stdout",
     "output_type": "stream",
     "text": [
      "9\n"
     ]
    },
    {
     "name": "stderr",
     "output_type": "stream",
     "text": [
      "INFO:weightwatcher:Filtering layer by id 9\n",
      "INFO:weightwatcher:skipping layer 0 None by id\n",
      "INFO:weightwatcher:skipping layer 1 None by id\n",
      "INFO:weightwatcher:skipping layer 2 None by id\n",
      "INFO:weightwatcher:skipping layer 3 None by id\n",
      "INFO:weightwatcher:skipping layer 4 None by id\n",
      "INFO:weightwatcher:skipping layer 5 None by id\n",
      "INFO:weightwatcher:skipping layer 6 None by id\n",
      "INFO:weightwatcher:skipping layer 7 None by id\n",
      "INFO:weightwatcher:skipping layer 8 None by id\n",
      "INFO:weightwatcher:keeping layer 9 None by id\n",
      "INFO:weightwatcher:Getting ESD for layer 9 \n",
      "INFO:weightwatcher:Found 1152 eiganvalues for 9 None\n",
      "INFO:weightwatcher:params {'glorot_fix': False, 'normalize': False, 'conv2d_norm': True, 'randomize': False, 'savedir': 'ww-img', 'savefig': 'ww-img', 'rescale': True, 'deltaEs': False, 'intra': False, 'channels': None, 'conv2d_fft': False, 'ww2x': False, 'min_evals': 0, 'max_evals': None, 'plot': False, 'mp_fit': False, 'layers': []}\n",
      "INFO:weightwatcher:Saving all images to ww-img\n",
      "INFO:weightwatcher:params {'glorot_fix': False, 'normalize': False, 'conv2d_norm': True, 'randomize': False, 'savedir': 'ww-img', 'savefig': 'ww-img', 'rescale': True, 'deltaEs': False, 'intra': False, 'channels': None, 'conv2d_fft': False, 'ww2x': False, 'min_evals': 0, 'max_evals': None, 'plot': False, 'mp_fit': False, 'layers': []}\n",
      "INFO:weightwatcher:Saving all images to ww-img\n"
     ]
    },
    {
     "name": "stdout",
     "output_type": "stream",
     "text": [
      "12\n"
     ]
    },
    {
     "name": "stderr",
     "output_type": "stream",
     "text": [
      "INFO:weightwatcher:Filtering layer by id 12\n",
      "INFO:weightwatcher:skipping layer 0 None by id\n",
      "INFO:weightwatcher:skipping layer 1 None by id\n",
      "INFO:weightwatcher:skipping layer 2 None by id\n",
      "INFO:weightwatcher:skipping layer 3 None by id\n",
      "INFO:weightwatcher:skipping layer 4 None by id\n",
      "INFO:weightwatcher:skipping layer 5 None by id\n",
      "INFO:weightwatcher:skipping layer 6 None by id\n",
      "INFO:weightwatcher:skipping layer 7 None by id\n",
      "INFO:weightwatcher:skipping layer 8 None by id\n",
      "INFO:weightwatcher:skipping layer 9 None by id\n",
      "INFO:weightwatcher:skipping layer 10 None by id\n",
      "INFO:weightwatcher:skipping layer 11 None by id\n",
      "INFO:weightwatcher:keeping layer 12 None by id\n",
      "INFO:weightwatcher:Getting ESD for layer 12 \n",
      "INFO:weightwatcher:Found 1152 eiganvalues for 12 None\n",
      "INFO:weightwatcher:params {'glorot_fix': False, 'normalize': False, 'conv2d_norm': True, 'randomize': False, 'savedir': 'ww-img', 'savefig': 'ww-img', 'rescale': True, 'deltaEs': False, 'intra': False, 'channels': None, 'conv2d_fft': False, 'ww2x': False, 'min_evals': 0, 'max_evals': None, 'plot': False, 'mp_fit': False, 'layers': []}\n",
      "INFO:weightwatcher:Saving all images to ww-img\n",
      "INFO:weightwatcher:params {'glorot_fix': False, 'normalize': False, 'conv2d_norm': True, 'randomize': False, 'savedir': 'ww-img', 'savefig': 'ww-img', 'rescale': True, 'deltaEs': False, 'intra': False, 'channels': None, 'conv2d_fft': False, 'ww2x': False, 'min_evals': 0, 'max_evals': None, 'plot': False, 'mp_fit': False, 'layers': []}\n",
      "INFO:weightwatcher:Saving all images to ww-img\n"
     ]
    },
    {
     "name": "stdout",
     "output_type": "stream",
     "text": [
      "14\n"
     ]
    },
    {
     "name": "stderr",
     "output_type": "stream",
     "text": [
      "INFO:weightwatcher:Filtering layer by id 14\n",
      "INFO:weightwatcher:skipping layer 0 None by id\n",
      "INFO:weightwatcher:skipping layer 1 None by id\n",
      "INFO:weightwatcher:skipping layer 2 None by id\n",
      "INFO:weightwatcher:skipping layer 3 None by id\n",
      "INFO:weightwatcher:skipping layer 4 None by id\n",
      "INFO:weightwatcher:skipping layer 5 None by id\n",
      "INFO:weightwatcher:skipping layer 6 None by id\n",
      "INFO:weightwatcher:skipping layer 7 None by id\n",
      "INFO:weightwatcher:skipping layer 8 None by id\n",
      "INFO:weightwatcher:skipping layer 9 None by id\n",
      "INFO:weightwatcher:skipping layer 10 None by id\n",
      "INFO:weightwatcher:skipping layer 11 None by id\n",
      "INFO:weightwatcher:skipping layer 12 None by id\n",
      "INFO:weightwatcher:skipping layer 13 None by id\n",
      "INFO:weightwatcher:keeping layer 14 None by id\n",
      "INFO:weightwatcher:Getting ESD for layer 14 \n",
      "INFO:weightwatcher:Found 2304 eiganvalues for 14 None\n",
      "INFO:weightwatcher:params {'glorot_fix': False, 'normalize': False, 'conv2d_norm': True, 'randomize': False, 'savedir': 'ww-img', 'savefig': 'ww-img', 'rescale': True, 'deltaEs': False, 'intra': False, 'channels': None, 'conv2d_fft': False, 'ww2x': False, 'min_evals': 0, 'max_evals': None, 'plot': False, 'mp_fit': False, 'layers': []}\n",
      "INFO:weightwatcher:Saving all images to ww-img\n",
      "INFO:weightwatcher:params {'glorot_fix': False, 'normalize': False, 'conv2d_norm': True, 'randomize': False, 'savedir': 'ww-img', 'savefig': 'ww-img', 'rescale': True, 'deltaEs': False, 'intra': False, 'channels': None, 'conv2d_fft': False, 'ww2x': False, 'min_evals': 0, 'max_evals': None, 'plot': False, 'mp_fit': False, 'layers': []}\n",
      "INFO:weightwatcher:Saving all images to ww-img\n"
     ]
    },
    {
     "name": "stdout",
     "output_type": "stream",
     "text": [
      "16\n"
     ]
    },
    {
     "name": "stderr",
     "output_type": "stream",
     "text": [
      "INFO:weightwatcher:Filtering layer by id 16\n",
      "INFO:weightwatcher:skipping layer 0 None by id\n",
      "INFO:weightwatcher:skipping layer 1 None by id\n",
      "INFO:weightwatcher:skipping layer 2 None by id\n",
      "INFO:weightwatcher:skipping layer 3 None by id\n",
      "INFO:weightwatcher:skipping layer 4 None by id\n",
      "INFO:weightwatcher:skipping layer 5 None by id\n",
      "INFO:weightwatcher:skipping layer 6 None by id\n",
      "INFO:weightwatcher:skipping layer 7 None by id\n",
      "INFO:weightwatcher:skipping layer 8 None by id\n",
      "INFO:weightwatcher:skipping layer 9 None by id\n",
      "INFO:weightwatcher:skipping layer 10 None by id\n",
      "INFO:weightwatcher:skipping layer 11 None by id\n",
      "INFO:weightwatcher:skipping layer 12 None by id\n",
      "INFO:weightwatcher:skipping layer 13 None by id\n",
      "INFO:weightwatcher:skipping layer 14 None by id\n",
      "INFO:weightwatcher:skipping layer 15 None by id\n",
      "INFO:weightwatcher:keeping layer 16 None by id\n",
      "INFO:weightwatcher:Getting ESD for layer 16 \n",
      "INFO:weightwatcher:Found 2304 eiganvalues for 16 None\n",
      "INFO:weightwatcher:params {'glorot_fix': False, 'normalize': False, 'conv2d_norm': True, 'randomize': False, 'savedir': 'ww-img', 'savefig': 'ww-img', 'rescale': True, 'deltaEs': False, 'intra': False, 'channels': None, 'conv2d_fft': False, 'ww2x': False, 'min_evals': 0, 'max_evals': None, 'plot': False, 'mp_fit': False, 'layers': []}\n",
      "INFO:weightwatcher:Saving all images to ww-img\n",
      "INFO:weightwatcher:params {'glorot_fix': False, 'normalize': False, 'conv2d_norm': True, 'randomize': False, 'savedir': 'ww-img', 'savefig': 'ww-img', 'rescale': True, 'deltaEs': False, 'intra': False, 'channels': None, 'conv2d_fft': False, 'ww2x': False, 'min_evals': 0, 'max_evals': None, 'plot': False, 'mp_fit': False, 'layers': []}\n",
      "INFO:weightwatcher:Saving all images to ww-img\n"
     ]
    },
    {
     "name": "stdout",
     "output_type": "stream",
     "text": [
      "19\n"
     ]
    },
    {
     "name": "stderr",
     "output_type": "stream",
     "text": [
      "INFO:weightwatcher:Filtering layer by id 19\n",
      "INFO:weightwatcher:skipping layer 0 None by id\n",
      "INFO:weightwatcher:skipping layer 1 None by id\n",
      "INFO:weightwatcher:skipping layer 2 None by id\n",
      "INFO:weightwatcher:skipping layer 3 None by id\n",
      "INFO:weightwatcher:skipping layer 4 None by id\n",
      "INFO:weightwatcher:skipping layer 5 None by id\n",
      "INFO:weightwatcher:skipping layer 6 None by id\n",
      "INFO:weightwatcher:skipping layer 7 None by id\n",
      "INFO:weightwatcher:skipping layer 8 None by id\n",
      "INFO:weightwatcher:skipping layer 9 None by id\n",
      "INFO:weightwatcher:skipping layer 10 None by id\n",
      "INFO:weightwatcher:skipping layer 11 None by id\n",
      "INFO:weightwatcher:skipping layer 12 None by id\n",
      "INFO:weightwatcher:skipping layer 13 None by id\n",
      "INFO:weightwatcher:skipping layer 14 None by id\n",
      "INFO:weightwatcher:skipping layer 15 None by id\n",
      "INFO:weightwatcher:skipping layer 16 None by id\n",
      "INFO:weightwatcher:skipping layer 17 None by id\n",
      "INFO:weightwatcher:skipping layer 18 None by id\n",
      "INFO:weightwatcher:keeping layer 19 None by id\n",
      "INFO:weightwatcher:Getting ESD for layer 19 \n",
      "INFO:weightwatcher:Found 2304 eiganvalues for 19 None\n",
      "INFO:weightwatcher:params {'glorot_fix': False, 'normalize': False, 'conv2d_norm': True, 'randomize': False, 'savedir': 'ww-img', 'savefig': 'ww-img', 'rescale': True, 'deltaEs': False, 'intra': False, 'channels': None, 'conv2d_fft': False, 'ww2x': False, 'min_evals': 0, 'max_evals': None, 'plot': False, 'mp_fit': False, 'layers': []}\n",
      "INFO:weightwatcher:Saving all images to ww-img\n",
      "INFO:weightwatcher:params {'glorot_fix': False, 'normalize': False, 'conv2d_norm': True, 'randomize': False, 'savedir': 'ww-img', 'savefig': 'ww-img', 'rescale': True, 'deltaEs': False, 'intra': False, 'channels': None, 'conv2d_fft': False, 'ww2x': False, 'min_evals': 0, 'max_evals': None, 'plot': False, 'mp_fit': False, 'layers': []}\n",
      "INFO:weightwatcher:Saving all images to ww-img\n"
     ]
    },
    {
     "name": "stdout",
     "output_type": "stream",
     "text": [
      "21\n"
     ]
    },
    {
     "name": "stderr",
     "output_type": "stream",
     "text": [
      "INFO:weightwatcher:Filtering layer by id 21\n",
      "INFO:weightwatcher:skipping layer 0 None by id\n",
      "INFO:weightwatcher:skipping layer 1 None by id\n",
      "INFO:weightwatcher:skipping layer 2 None by id\n",
      "INFO:weightwatcher:skipping layer 3 None by id\n",
      "INFO:weightwatcher:skipping layer 4 None by id\n",
      "INFO:weightwatcher:skipping layer 5 None by id\n",
      "INFO:weightwatcher:skipping layer 6 None by id\n",
      "INFO:weightwatcher:skipping layer 7 None by id\n",
      "INFO:weightwatcher:skipping layer 8 None by id\n",
      "INFO:weightwatcher:skipping layer 9 None by id\n",
      "INFO:weightwatcher:skipping layer 10 None by id\n",
      "INFO:weightwatcher:skipping layer 11 None by id\n",
      "INFO:weightwatcher:skipping layer 12 None by id\n",
      "INFO:weightwatcher:skipping layer 13 None by id\n",
      "INFO:weightwatcher:skipping layer 14 None by id\n",
      "INFO:weightwatcher:skipping layer 15 None by id\n",
      "INFO:weightwatcher:skipping layer 16 None by id\n",
      "INFO:weightwatcher:skipping layer 17 None by id\n",
      "INFO:weightwatcher:skipping layer 18 None by id\n",
      "INFO:weightwatcher:skipping layer 19 None by id\n",
      "INFO:weightwatcher:skipping layer 20 None by id\n",
      "INFO:weightwatcher:keeping layer 21 None by id\n",
      "INFO:weightwatcher:Getting ESD for layer 21 \n",
      "INFO:weightwatcher:Found 4608 eiganvalues for 21 None\n",
      "INFO:weightwatcher:params {'glorot_fix': False, 'normalize': False, 'conv2d_norm': True, 'randomize': False, 'savedir': 'ww-img', 'savefig': 'ww-img', 'rescale': True, 'deltaEs': False, 'intra': False, 'channels': None, 'conv2d_fft': False, 'ww2x': False, 'min_evals': 0, 'max_evals': None, 'plot': False, 'mp_fit': False, 'layers': []}\n",
      "INFO:weightwatcher:Saving all images to ww-img\n",
      "INFO:weightwatcher:params {'glorot_fix': False, 'normalize': False, 'conv2d_norm': True, 'randomize': False, 'savedir': 'ww-img', 'savefig': 'ww-img', 'rescale': True, 'deltaEs': False, 'intra': False, 'channels': None, 'conv2d_fft': False, 'ww2x': False, 'min_evals': 0, 'max_evals': None, 'plot': False, 'mp_fit': False, 'layers': []}\n",
      "INFO:weightwatcher:Saving all images to ww-img\n"
     ]
    },
    {
     "name": "stdout",
     "output_type": "stream",
     "text": [
      "23\n"
     ]
    },
    {
     "name": "stderr",
     "output_type": "stream",
     "text": [
      "INFO:weightwatcher:Filtering layer by id 23\n",
      "INFO:weightwatcher:skipping layer 0 None by id\n",
      "INFO:weightwatcher:skipping layer 1 None by id\n",
      "INFO:weightwatcher:skipping layer 2 None by id\n",
      "INFO:weightwatcher:skipping layer 3 None by id\n",
      "INFO:weightwatcher:skipping layer 4 None by id\n",
      "INFO:weightwatcher:skipping layer 5 None by id\n",
      "INFO:weightwatcher:skipping layer 6 None by id\n",
      "INFO:weightwatcher:skipping layer 7 None by id\n",
      "INFO:weightwatcher:skipping layer 8 None by id\n",
      "INFO:weightwatcher:skipping layer 9 None by id\n",
      "INFO:weightwatcher:skipping layer 10 None by id\n",
      "INFO:weightwatcher:skipping layer 11 None by id\n",
      "INFO:weightwatcher:skipping layer 12 None by id\n",
      "INFO:weightwatcher:skipping layer 13 None by id\n",
      "INFO:weightwatcher:skipping layer 14 None by id\n",
      "INFO:weightwatcher:skipping layer 15 None by id\n",
      "INFO:weightwatcher:skipping layer 16 None by id\n",
      "INFO:weightwatcher:skipping layer 17 None by id\n",
      "INFO:weightwatcher:skipping layer 18 None by id\n",
      "INFO:weightwatcher:skipping layer 19 None by id\n",
      "INFO:weightwatcher:skipping layer 20 None by id\n",
      "INFO:weightwatcher:skipping layer 21 None by id\n",
      "INFO:weightwatcher:skipping layer 22 None by id\n",
      "INFO:weightwatcher:keeping layer 23 None by id\n",
      "INFO:weightwatcher:Getting ESD for layer 23 \n",
      "INFO:weightwatcher:Found 4608 eiganvalues for 23 None\n",
      "INFO:weightwatcher:params {'glorot_fix': False, 'normalize': False, 'conv2d_norm': True, 'randomize': False, 'savedir': 'ww-img', 'savefig': 'ww-img', 'rescale': True, 'deltaEs': False, 'intra': False, 'channels': None, 'conv2d_fft': False, 'ww2x': False, 'min_evals': 0, 'max_evals': None, 'plot': False, 'mp_fit': False, 'layers': []}\n",
      "INFO:weightwatcher:Saving all images to ww-img\n",
      "INFO:weightwatcher:params {'glorot_fix': False, 'normalize': False, 'conv2d_norm': True, 'randomize': False, 'savedir': 'ww-img', 'savefig': 'ww-img', 'rescale': True, 'deltaEs': False, 'intra': False, 'channels': None, 'conv2d_fft': False, 'ww2x': False, 'min_evals': 0, 'max_evals': None, 'plot': False, 'mp_fit': False, 'layers': []}\n",
      "INFO:weightwatcher:Saving all images to ww-img\n"
     ]
    },
    {
     "name": "stdout",
     "output_type": "stream",
     "text": [
      "26\n"
     ]
    },
    {
     "name": "stderr",
     "output_type": "stream",
     "text": [
      "INFO:weightwatcher:Filtering layer by id 26\n",
      "INFO:weightwatcher:skipping layer 0 None by id\n",
      "INFO:weightwatcher:skipping layer 1 None by id\n",
      "INFO:weightwatcher:skipping layer 2 None by id\n",
      "INFO:weightwatcher:skipping layer 3 None by id\n",
      "INFO:weightwatcher:skipping layer 4 None by id\n",
      "INFO:weightwatcher:skipping layer 5 None by id\n",
      "INFO:weightwatcher:skipping layer 6 None by id\n",
      "INFO:weightwatcher:skipping layer 7 None by id\n",
      "INFO:weightwatcher:skipping layer 8 None by id\n",
      "INFO:weightwatcher:skipping layer 9 None by id\n",
      "INFO:weightwatcher:skipping layer 10 None by id\n",
      "INFO:weightwatcher:skipping layer 11 None by id\n",
      "INFO:weightwatcher:skipping layer 12 None by id\n",
      "INFO:weightwatcher:skipping layer 13 None by id\n",
      "INFO:weightwatcher:skipping layer 14 None by id\n",
      "INFO:weightwatcher:skipping layer 15 None by id\n",
      "INFO:weightwatcher:skipping layer 16 None by id\n",
      "INFO:weightwatcher:skipping layer 17 None by id\n",
      "INFO:weightwatcher:skipping layer 18 None by id\n",
      "INFO:weightwatcher:skipping layer 19 None by id\n",
      "INFO:weightwatcher:skipping layer 20 None by id\n",
      "INFO:weightwatcher:skipping layer 21 None by id\n",
      "INFO:weightwatcher:skipping layer 22 None by id\n",
      "INFO:weightwatcher:skipping layer 23 None by id\n",
      "INFO:weightwatcher:skipping layer 24 None by id\n",
      "INFO:weightwatcher:skipping layer 25 None by id\n",
      "INFO:weightwatcher:keeping layer 26 None by id\n",
      "INFO:weightwatcher:Getting ESD for layer 26 \n",
      "INFO:weightwatcher:Found 4608 eiganvalues for 26 None\n",
      "INFO:weightwatcher:params {'glorot_fix': False, 'normalize': False, 'conv2d_norm': True, 'randomize': False, 'savedir': 'ww-img', 'savefig': 'ww-img', 'rescale': True, 'deltaEs': False, 'intra': False, 'channels': None, 'conv2d_fft': False, 'ww2x': False, 'min_evals': 0, 'max_evals': None, 'plot': False, 'mp_fit': False, 'layers': []}\n",
      "INFO:weightwatcher:Saving all images to ww-img\n",
      "INFO:weightwatcher:params {'glorot_fix': False, 'normalize': False, 'conv2d_norm': True, 'randomize': False, 'savedir': 'ww-img', 'savefig': 'ww-img', 'rescale': True, 'deltaEs': False, 'intra': False, 'channels': None, 'conv2d_fft': False, 'ww2x': False, 'min_evals': 0, 'max_evals': None, 'plot': False, 'mp_fit': False, 'layers': []}\n",
      "INFO:weightwatcher:Saving all images to ww-img\n"
     ]
    },
    {
     "name": "stdout",
     "output_type": "stream",
     "text": [
      "28\n"
     ]
    },
    {
     "name": "stderr",
     "output_type": "stream",
     "text": [
      "INFO:weightwatcher:Filtering layer by id 28\n",
      "INFO:weightwatcher:skipping layer 0 None by id\n",
      "INFO:weightwatcher:skipping layer 1 None by id\n",
      "INFO:weightwatcher:skipping layer 2 None by id\n",
      "INFO:weightwatcher:skipping layer 3 None by id\n",
      "INFO:weightwatcher:skipping layer 4 None by id\n",
      "INFO:weightwatcher:skipping layer 5 None by id\n",
      "INFO:weightwatcher:skipping layer 6 None by id\n",
      "INFO:weightwatcher:skipping layer 7 None by id\n",
      "INFO:weightwatcher:skipping layer 8 None by id\n",
      "INFO:weightwatcher:skipping layer 9 None by id\n",
      "INFO:weightwatcher:skipping layer 10 None by id\n",
      "INFO:weightwatcher:skipping layer 11 None by id\n",
      "INFO:weightwatcher:skipping layer 12 None by id\n",
      "INFO:weightwatcher:skipping layer 13 None by id\n",
      "INFO:weightwatcher:skipping layer 14 None by id\n",
      "INFO:weightwatcher:skipping layer 15 None by id\n",
      "INFO:weightwatcher:skipping layer 16 None by id\n",
      "INFO:weightwatcher:skipping layer 17 None by id\n",
      "INFO:weightwatcher:skipping layer 18 None by id\n",
      "INFO:weightwatcher:skipping layer 19 None by id\n",
      "INFO:weightwatcher:skipping layer 20 None by id\n",
      "INFO:weightwatcher:skipping layer 21 None by id\n",
      "INFO:weightwatcher:skipping layer 22 None by id\n",
      "INFO:weightwatcher:skipping layer 23 None by id\n",
      "INFO:weightwatcher:skipping layer 24 None by id\n",
      "INFO:weightwatcher:skipping layer 25 None by id\n",
      "INFO:weightwatcher:skipping layer 26 None by id\n",
      "INFO:weightwatcher:skipping layer 27 None by id\n",
      "INFO:weightwatcher:keeping layer 28 None by id\n",
      "INFO:weightwatcher:Getting ESD for layer 28 \n",
      "INFO:weightwatcher:Found 4608 eiganvalues for 28 None\n",
      "INFO:weightwatcher:params {'glorot_fix': False, 'normalize': False, 'conv2d_norm': True, 'randomize': False, 'savedir': 'ww-img', 'savefig': 'ww-img', 'rescale': True, 'deltaEs': False, 'intra': False, 'channels': None, 'conv2d_fft': False, 'ww2x': False, 'min_evals': 0, 'max_evals': None, 'plot': False, 'mp_fit': False, 'layers': []}\n",
      "INFO:weightwatcher:Saving all images to ww-img\n",
      "INFO:weightwatcher:params {'glorot_fix': False, 'normalize': False, 'conv2d_norm': True, 'randomize': False, 'savedir': 'ww-img', 'savefig': 'ww-img', 'rescale': True, 'deltaEs': False, 'intra': False, 'channels': None, 'conv2d_fft': False, 'ww2x': False, 'min_evals': 0, 'max_evals': None, 'plot': False, 'mp_fit': False, 'layers': []}\n",
      "INFO:weightwatcher:Saving all images to ww-img\n"
     ]
    },
    {
     "name": "stdout",
     "output_type": "stream",
     "text": [
      "30\n"
     ]
    },
    {
     "name": "stderr",
     "output_type": "stream",
     "text": [
      "INFO:weightwatcher:Filtering layer by id 30\n",
      "INFO:weightwatcher:skipping layer 0 None by id\n",
      "INFO:weightwatcher:skipping layer 1 None by id\n",
      "INFO:weightwatcher:skipping layer 2 None by id\n",
      "INFO:weightwatcher:skipping layer 3 None by id\n",
      "INFO:weightwatcher:skipping layer 4 None by id\n",
      "INFO:weightwatcher:skipping layer 5 None by id\n",
      "INFO:weightwatcher:skipping layer 6 None by id\n",
      "INFO:weightwatcher:skipping layer 7 None by id\n",
      "INFO:weightwatcher:skipping layer 8 None by id\n",
      "INFO:weightwatcher:skipping layer 9 None by id\n",
      "INFO:weightwatcher:skipping layer 10 None by id\n",
      "INFO:weightwatcher:skipping layer 11 None by id\n",
      "INFO:weightwatcher:skipping layer 12 None by id\n",
      "INFO:weightwatcher:skipping layer 13 None by id\n",
      "INFO:weightwatcher:skipping layer 14 None by id\n",
      "INFO:weightwatcher:skipping layer 15 None by id\n",
      "INFO:weightwatcher:skipping layer 16 None by id\n",
      "INFO:weightwatcher:skipping layer 17 None by id\n",
      "INFO:weightwatcher:skipping layer 18 None by id\n",
      "INFO:weightwatcher:skipping layer 19 None by id\n",
      "INFO:weightwatcher:skipping layer 20 None by id\n",
      "INFO:weightwatcher:skipping layer 21 None by id\n",
      "INFO:weightwatcher:skipping layer 22 None by id\n",
      "INFO:weightwatcher:skipping layer 23 None by id\n",
      "INFO:weightwatcher:skipping layer 24 None by id\n",
      "INFO:weightwatcher:skipping layer 25 None by id\n",
      "INFO:weightwatcher:skipping layer 26 None by id\n",
      "INFO:weightwatcher:skipping layer 27 None by id\n",
      "INFO:weightwatcher:skipping layer 28 None by id\n",
      "INFO:weightwatcher:skipping layer 29 None by id\n",
      "INFO:weightwatcher:keeping layer 30 None by id\n",
      "INFO:weightwatcher:Getting ESD for layer 30 \n",
      "INFO:weightwatcher:Found 4608 eiganvalues for 30 None\n",
      "INFO:weightwatcher:params {'glorot_fix': False, 'normalize': False, 'conv2d_norm': True, 'randomize': False, 'savedir': 'ww-img', 'savefig': 'ww-img', 'rescale': True, 'deltaEs': False, 'intra': False, 'channels': None, 'conv2d_fft': False, 'ww2x': False, 'min_evals': 0, 'max_evals': None, 'plot': False, 'mp_fit': False, 'layers': []}\n",
      "INFO:weightwatcher:Saving all images to ww-img\n",
      "INFO:weightwatcher:params {'glorot_fix': False, 'normalize': False, 'conv2d_norm': True, 'randomize': False, 'savedir': 'ww-img', 'savefig': 'ww-img', 'rescale': True, 'deltaEs': False, 'intra': False, 'channels': None, 'conv2d_fft': False, 'ww2x': False, 'min_evals': 0, 'max_evals': None, 'plot': False, 'mp_fit': False, 'layers': []}\n",
      "INFO:weightwatcher:Saving all images to ww-img\n"
     ]
    },
    {
     "name": "stdout",
     "output_type": "stream",
     "text": [
      "35\n"
     ]
    },
    {
     "name": "stderr",
     "output_type": "stream",
     "text": [
      "INFO:weightwatcher:Filtering layer by id 35\n",
      "INFO:weightwatcher:skipping layer 0 None by id\n",
      "INFO:weightwatcher:skipping layer 1 None by id\n",
      "INFO:weightwatcher:skipping layer 2 None by id\n",
      "INFO:weightwatcher:skipping layer 3 None by id\n",
      "INFO:weightwatcher:skipping layer 4 None by id\n",
      "INFO:weightwatcher:skipping layer 5 None by id\n",
      "INFO:weightwatcher:skipping layer 6 None by id\n",
      "INFO:weightwatcher:skipping layer 7 None by id\n",
      "INFO:weightwatcher:skipping layer 8 None by id\n",
      "INFO:weightwatcher:skipping layer 9 None by id\n",
      "INFO:weightwatcher:skipping layer 10 None by id\n",
      "INFO:weightwatcher:skipping layer 11 None by id\n",
      "INFO:weightwatcher:skipping layer 12 None by id\n",
      "INFO:weightwatcher:skipping layer 13 None by id\n",
      "INFO:weightwatcher:skipping layer 14 None by id\n",
      "INFO:weightwatcher:skipping layer 15 None by id\n",
      "INFO:weightwatcher:skipping layer 16 None by id\n",
      "INFO:weightwatcher:skipping layer 17 None by id\n",
      "INFO:weightwatcher:skipping layer 18 None by id\n",
      "INFO:weightwatcher:skipping layer 19 None by id\n",
      "INFO:weightwatcher:skipping layer 20 None by id\n",
      "INFO:weightwatcher:skipping layer 21 None by id\n",
      "INFO:weightwatcher:skipping layer 22 None by id\n",
      "INFO:weightwatcher:skipping layer 23 None by id\n",
      "INFO:weightwatcher:skipping layer 24 None by id\n",
      "INFO:weightwatcher:skipping layer 25 None by id\n",
      "INFO:weightwatcher:skipping layer 26 None by id\n",
      "INFO:weightwatcher:skipping layer 27 None by id\n",
      "INFO:weightwatcher:skipping layer 28 None by id\n",
      "INFO:weightwatcher:skipping layer 29 None by id\n",
      "INFO:weightwatcher:skipping layer 30 None by id\n",
      "INFO:weightwatcher:skipping layer 31 None by id\n",
      "INFO:weightwatcher:skipping layer 32 None by id\n",
      "INFO:weightwatcher:skipping layer 33 None by id\n",
      "INFO:weightwatcher:skipping layer 34 None by id\n",
      "INFO:weightwatcher:keeping layer 35 None by id\n",
      "INFO:weightwatcher:Getting ESD for layer 35 \n",
      "INFO:weightwatcher:Found 4096 eiganvalues for 35 None\n",
      "INFO:weightwatcher:params {'glorot_fix': False, 'normalize': False, 'conv2d_norm': True, 'randomize': False, 'savedir': 'ww-img', 'savefig': 'ww-img', 'rescale': True, 'deltaEs': False, 'intra': False, 'channels': None, 'conv2d_fft': False, 'ww2x': False, 'min_evals': 0, 'max_evals': None, 'plot': False, 'mp_fit': False, 'layers': []}\n",
      "INFO:weightwatcher:Saving all images to ww-img\n",
      "INFO:weightwatcher:params {'glorot_fix': False, 'normalize': False, 'conv2d_norm': True, 'randomize': False, 'savedir': 'ww-img', 'savefig': 'ww-img', 'rescale': True, 'deltaEs': False, 'intra': False, 'channels': None, 'conv2d_fft': False, 'ww2x': False, 'min_evals': 0, 'max_evals': None, 'plot': False, 'mp_fit': False, 'layers': []}\n",
      "INFO:weightwatcher:Saving all images to ww-img\n"
     ]
    },
    {
     "name": "stdout",
     "output_type": "stream",
     "text": [
      "38\n"
     ]
    },
    {
     "name": "stderr",
     "output_type": "stream",
     "text": [
      "INFO:weightwatcher:Filtering layer by id 38\n",
      "INFO:weightwatcher:skipping layer 0 None by id\n",
      "INFO:weightwatcher:skipping layer 1 None by id\n",
      "INFO:weightwatcher:skipping layer 2 None by id\n",
      "INFO:weightwatcher:skipping layer 3 None by id\n",
      "INFO:weightwatcher:skipping layer 4 None by id\n",
      "INFO:weightwatcher:skipping layer 5 None by id\n",
      "INFO:weightwatcher:skipping layer 6 None by id\n",
      "INFO:weightwatcher:skipping layer 7 None by id\n",
      "INFO:weightwatcher:skipping layer 8 None by id\n",
      "INFO:weightwatcher:skipping layer 9 None by id\n",
      "INFO:weightwatcher:skipping layer 10 None by id\n",
      "INFO:weightwatcher:skipping layer 11 None by id\n",
      "INFO:weightwatcher:skipping layer 12 None by id\n",
      "INFO:weightwatcher:skipping layer 13 None by id\n",
      "INFO:weightwatcher:skipping layer 14 None by id\n",
      "INFO:weightwatcher:skipping layer 15 None by id\n",
      "INFO:weightwatcher:skipping layer 16 None by id\n",
      "INFO:weightwatcher:skipping layer 17 None by id\n",
      "INFO:weightwatcher:skipping layer 18 None by id\n",
      "INFO:weightwatcher:skipping layer 19 None by id\n",
      "INFO:weightwatcher:skipping layer 20 None by id\n",
      "INFO:weightwatcher:skipping layer 21 None by id\n",
      "INFO:weightwatcher:skipping layer 22 None by id\n",
      "INFO:weightwatcher:skipping layer 23 None by id\n",
      "INFO:weightwatcher:skipping layer 24 None by id\n",
      "INFO:weightwatcher:skipping layer 25 None by id\n",
      "INFO:weightwatcher:skipping layer 26 None by id\n",
      "INFO:weightwatcher:skipping layer 27 None by id\n",
      "INFO:weightwatcher:skipping layer 28 None by id\n",
      "INFO:weightwatcher:skipping layer 29 None by id\n",
      "INFO:weightwatcher:skipping layer 30 None by id\n",
      "INFO:weightwatcher:skipping layer 31 None by id\n",
      "INFO:weightwatcher:skipping layer 32 None by id\n",
      "INFO:weightwatcher:skipping layer 33 None by id\n",
      "INFO:weightwatcher:skipping layer 34 None by id\n",
      "INFO:weightwatcher:skipping layer 35 None by id\n",
      "INFO:weightwatcher:skipping layer 36 None by id\n",
      "INFO:weightwatcher:skipping layer 37 None by id\n",
      "INFO:weightwatcher:keeping layer 38 None by id\n",
      "INFO:weightwatcher:Getting ESD for layer 38 \n",
      "INFO:weightwatcher:Found 4096 eiganvalues for 38 None\n",
      "INFO:weightwatcher:params {'glorot_fix': False, 'normalize': False, 'conv2d_norm': True, 'randomize': False, 'savedir': 'ww-img', 'savefig': 'ww-img', 'rescale': True, 'deltaEs': False, 'intra': False, 'channels': None, 'conv2d_fft': False, 'ww2x': False, 'min_evals': 0, 'max_evals': None, 'plot': False, 'mp_fit': False, 'layers': []}\n",
      "INFO:weightwatcher:Saving all images to ww-img\n",
      "INFO:weightwatcher:params {'glorot_fix': False, 'normalize': False, 'conv2d_norm': True, 'randomize': False, 'savedir': 'ww-img', 'savefig': 'ww-img', 'rescale': True, 'deltaEs': False, 'intra': False, 'channels': None, 'conv2d_fft': False, 'ww2x': False, 'min_evals': 0, 'max_evals': None, 'plot': False, 'mp_fit': False, 'layers': []}\n",
      "INFO:weightwatcher:Saving all images to ww-img\n"
     ]
    },
    {
     "name": "stdout",
     "output_type": "stream",
     "text": [
      "41\n"
     ]
    },
    {
     "name": "stderr",
     "output_type": "stream",
     "text": [
      "INFO:weightwatcher:Filtering layer by id 41\n",
      "INFO:weightwatcher:skipping layer 0 None by id\n",
      "INFO:weightwatcher:skipping layer 1 None by id\n",
      "INFO:weightwatcher:skipping layer 2 None by id\n",
      "INFO:weightwatcher:skipping layer 3 None by id\n",
      "INFO:weightwatcher:skipping layer 4 None by id\n",
      "INFO:weightwatcher:skipping layer 5 None by id\n",
      "INFO:weightwatcher:skipping layer 6 None by id\n",
      "INFO:weightwatcher:skipping layer 7 None by id\n",
      "INFO:weightwatcher:skipping layer 8 None by id\n",
      "INFO:weightwatcher:skipping layer 9 None by id\n",
      "INFO:weightwatcher:skipping layer 10 None by id\n",
      "INFO:weightwatcher:skipping layer 11 None by id\n",
      "INFO:weightwatcher:skipping layer 12 None by id\n",
      "INFO:weightwatcher:skipping layer 13 None by id\n",
      "INFO:weightwatcher:skipping layer 14 None by id\n",
      "INFO:weightwatcher:skipping layer 15 None by id\n",
      "INFO:weightwatcher:skipping layer 16 None by id\n",
      "INFO:weightwatcher:skipping layer 17 None by id\n",
      "INFO:weightwatcher:skipping layer 18 None by id\n",
      "INFO:weightwatcher:skipping layer 19 None by id\n",
      "INFO:weightwatcher:skipping layer 20 None by id\n",
      "INFO:weightwatcher:skipping layer 21 None by id\n",
      "INFO:weightwatcher:skipping layer 22 None by id\n",
      "INFO:weightwatcher:skipping layer 23 None by id\n",
      "INFO:weightwatcher:skipping layer 24 None by id\n",
      "INFO:weightwatcher:skipping layer 25 None by id\n",
      "INFO:weightwatcher:skipping layer 26 None by id\n",
      "INFO:weightwatcher:skipping layer 27 None by id\n",
      "INFO:weightwatcher:skipping layer 28 None by id\n",
      "INFO:weightwatcher:skipping layer 29 None by id\n",
      "INFO:weightwatcher:skipping layer 30 None by id\n",
      "INFO:weightwatcher:skipping layer 31 None by id\n",
      "INFO:weightwatcher:skipping layer 32 None by id\n",
      "INFO:weightwatcher:skipping layer 33 None by id\n",
      "INFO:weightwatcher:skipping layer 34 None by id\n",
      "INFO:weightwatcher:skipping layer 35 None by id\n",
      "INFO:weightwatcher:skipping layer 36 None by id\n",
      "INFO:weightwatcher:skipping layer 37 None by id\n",
      "INFO:weightwatcher:skipping layer 38 None by id\n",
      "INFO:weightwatcher:skipping layer 39 None by id\n",
      "INFO:weightwatcher:skipping layer 40 None by id\n",
      "INFO:weightwatcher:keeping layer 41 None by id\n",
      "INFO:weightwatcher:Getting ESD for layer 41 \n",
      "INFO:weightwatcher:Found 1000 eiganvalues for 41 None\n"
     ]
    }
   ],
   "source": [
    "all_esds = []\n",
    "for layer_id in details.layer_id.to_numpy():\n",
    "    print(layer_id)\n",
    "    esd = watcher.get_ESD(layer=layer_id) \n",
    "    all_esds.append(esd)\n",
    "    #plt.hist(np.log10(esd[esd>0.0]), bins=100, color='green', label='vgg16', alpha=0.5);\n",
    "\n",
    "    #plt.title(\"Layer {}, VGG16\".format(layer_id))\n",
    "    #plt.xlabel(r\"$log_{10} \\lambda $ Log 10 Eigenvalues\")\n",
    "    #plt.legend()\n",
    "    #plt.show()\n",
    "    \n"
   ]
  },
  {
   "cell_type": "code",
   "execution_count": 8,
   "metadata": {},
   "outputs": [
    {
     "name": "stderr",
     "output_type": "stream",
     "text": [
      "INFO:weightwatcher:params {'glorot_fix': False, 'normalize': False, 'conv2d_norm': True, 'randomize': False, 'savedir': 'ww-img', 'savefig': 'ww-img', 'rescale': True, 'deltaEs': False, 'intra': False, 'channels': None, 'conv2d_fft': False, 'ww2x': False, 'min_evals': 0, 'max_evals': None, 'plot': False, 'mp_fit': False, 'layers': []}\n",
      "INFO:weightwatcher:Saving all images to ww-img\n",
      "INFO:weightwatcher:params {'glorot_fix': False, 'normalize': False, 'conv2d_norm': True, 'randomize': False, 'savedir': 'ww-img', 'savefig': 'ww-img', 'rescale': True, 'deltaEs': False, 'intra': False, 'channels': None, 'conv2d_fft': False, 'ww2x': False, 'min_evals': 0, 'max_evals': None, 'plot': False, 'mp_fit': False, 'layers': []}\n",
      "INFO:weightwatcher:Saving all images to ww-img\n",
      "INFO:weightwatcher:LAYER: 2 16  : <class 'torch.nn.modules.conv.Conv2d'>\n",
      "INFO:weightwatcher:apply truncated SVD on Layer 2 None, with nsmooth=5,  keeping ncomp=5 out of 3. of the singular vectors\n",
      "INFO:weightwatcher:LAYER TYPE  16 out of 4 8 64 \n",
      "INFO:weightwatcher:LAYER: 4 16  : <class 'torch.nn.modules.conv.Conv2d'>\n",
      "INFO:weightwatcher:apply truncated SVD on Layer 4 None, with nsmooth=115,  keeping ncomp=115 out of 64. of the singular vectors\n",
      "INFO:weightwatcher:LAYER TYPE  16 out of 4 8 64 \n",
      "INFO:weightwatcher:LAYER: 7 16  : <class 'torch.nn.modules.conv.Conv2d'>\n",
      "INFO:weightwatcher:apply truncated SVD on Layer 7 None, with nsmooth=115,  keeping ncomp=115 out of 64. of the singular vectors\n",
      "INFO:weightwatcher:LAYER TYPE  16 out of 4 8 64 \n",
      "INFO:weightwatcher:LAYER: 9 16  : <class 'torch.nn.modules.conv.Conv2d'>\n",
      "INFO:weightwatcher:apply truncated SVD on Layer 9 None, with nsmooth=230,  keeping ncomp=230 out of 128. of the singular vectors\n",
      "INFO:weightwatcher:LAYER TYPE  16 out of 4 8 64 \n",
      "INFO:weightwatcher:LAYER: 12 16  : <class 'torch.nn.modules.conv.Conv2d'>\n",
      "INFO:weightwatcher:apply truncated SVD on Layer 12 None, with nsmooth=230,  keeping ncomp=230 out of 128. of the singular vectors\n",
      "INFO:weightwatcher:LAYER TYPE  16 out of 4 8 64 \n",
      "INFO:weightwatcher:LAYER: 14 16  : <class 'torch.nn.modules.conv.Conv2d'>\n",
      "INFO:weightwatcher:apply truncated SVD on Layer 14 None, with nsmooth=460,  keeping ncomp=460 out of 256. of the singular vectors\n",
      "INFO:weightwatcher:LAYER TYPE  16 out of 4 8 64 \n",
      "INFO:weightwatcher:LAYER: 16 16  : <class 'torch.nn.modules.conv.Conv2d'>\n",
      "INFO:weightwatcher:apply truncated SVD on Layer 16 None, with nsmooth=460,  keeping ncomp=460 out of 256. of the singular vectors\n",
      "INFO:weightwatcher:LAYER TYPE  16 out of 4 8 64 \n",
      "INFO:weightwatcher:LAYER: 19 16  : <class 'torch.nn.modules.conv.Conv2d'>\n",
      "INFO:weightwatcher:apply truncated SVD on Layer 19 None, with nsmooth=460,  keeping ncomp=460 out of 256. of the singular vectors\n",
      "INFO:weightwatcher:LAYER TYPE  16 out of 4 8 64 \n",
      "INFO:weightwatcher:LAYER: 21 16  : <class 'torch.nn.modules.conv.Conv2d'>\n",
      "INFO:weightwatcher:apply truncated SVD on Layer 21 None, with nsmooth=921,  keeping ncomp=921 out of 512. of the singular vectors\n",
      "INFO:weightwatcher:LAYER TYPE  16 out of 4 8 64 \n",
      "INFO:weightwatcher:LAYER: 23 16  : <class 'torch.nn.modules.conv.Conv2d'>\n",
      "INFO:weightwatcher:apply truncated SVD on Layer 23 None, with nsmooth=921,  keeping ncomp=921 out of 512. of the singular vectors\n",
      "INFO:weightwatcher:LAYER TYPE  16 out of 4 8 64 \n",
      "INFO:weightwatcher:LAYER: 26 16  : <class 'torch.nn.modules.conv.Conv2d'>\n",
      "INFO:weightwatcher:apply truncated SVD on Layer 26 None, with nsmooth=921,  keeping ncomp=921 out of 512. of the singular vectors\n",
      "INFO:weightwatcher:LAYER TYPE  16 out of 4 8 64 \n",
      "INFO:weightwatcher:LAYER: 28 16  : <class 'torch.nn.modules.conv.Conv2d'>\n",
      "INFO:weightwatcher:apply truncated SVD on Layer 28 None, with nsmooth=921,  keeping ncomp=921 out of 512. of the singular vectors\n",
      "INFO:weightwatcher:LAYER TYPE  16 out of 4 8 64 \n",
      "INFO:weightwatcher:LAYER: 30 16  : <class 'torch.nn.modules.conv.Conv2d'>\n",
      "INFO:weightwatcher:apply truncated SVD on Layer 30 None, with nsmooth=921,  keeping ncomp=921 out of 512. of the singular vectors\n",
      "INFO:weightwatcher:LAYER TYPE  16 out of 4 8 64 \n",
      "INFO:weightwatcher:LAYER: 35 4  : <class 'torch.nn.modules.linear.Linear'>\n",
      "INFO:weightwatcher:apply truncated SVD on Layer 35 None, with nsmooth=819,  keeping ncomp=819 out of 4096. of the singular vectors\n",
      "INFO:weightwatcher:LAYER TYPE  4 out of 4 8 64 \n",
      "INFO:weightwatcher:LAYER: 38 4  : <class 'torch.nn.modules.linear.Linear'>\n",
      "INFO:weightwatcher:apply truncated SVD on Layer 38 None, with nsmooth=819,  keeping ncomp=819 out of 4096. of the singular vectors\n",
      "INFO:weightwatcher:LAYER TYPE  4 out of 4 8 64 \n",
      "INFO:weightwatcher:LAYER: 41 4  : <class 'torch.nn.modules.linear.Linear'>\n",
      "INFO:weightwatcher:apply truncated SVD on Layer 41 None, with nsmooth=200,  keeping ncomp=200 out of 1000. of the singular vectors\n",
      "INFO:weightwatcher:LAYER TYPE  4 out of 4 8 64 \n",
      "INFO:weightwatcher:Returning smoothed model\n"
     ]
    }
   ],
   "source": [
    "smoother_vgg16 = watcher.SVDSmoothing(percent=0.2)"
   ]
  },
  {
   "cell_type": "code",
   "execution_count": 9,
   "metadata": {
    "scrolled": false
   },
   "outputs": [
    {
     "name": "stderr",
     "output_type": "stream",
     "text": [
      "INFO:weightwatcher:params {'glorot_fix': False, 'normalize': False, 'conv2d_norm': True, 'randomize': False, 'savedir': 'ww-img', 'savefig': 'ww-img', 'rescale': True, 'deltaEs': False, 'intra': False, 'channels': None, 'conv2d_fft': False, 'ww2x': False, 'min_evals': 0, 'max_evals': None, 'plot': False, 'mp_fit': False, 'layers': [], 'num_smooth': 200}\n",
      "INFO:weightwatcher:Saving all images to ww-img\n",
      "INFO:weightwatcher:params {'glorot_fix': False, 'normalize': False, 'conv2d_norm': True, 'randomize': False, 'savedir': 'ww-img', 'savefig': 'ww-img', 'rescale': True, 'deltaEs': False, 'intra': False, 'channels': None, 'conv2d_fft': False, 'ww2x': False, 'min_evals': 0, 'max_evals': None, 'plot': False, 'mp_fit': False, 'layers': [], 'num_smooth': 200}\n",
      "INFO:weightwatcher:Saving all images to ww-img\n"
     ]
    },
    {
     "name": "stdout",
     "output_type": "stream",
     "text": [
      "2\n"
     ]
    },
    {
     "name": "stderr",
     "output_type": "stream",
     "text": [
      "INFO:weightwatcher:Filtering layer by id 2\n",
      "INFO:weightwatcher:skipping layer 0 None by id\n",
      "INFO:weightwatcher:skipping layer 1 None by id\n",
      "INFO:weightwatcher:keeping layer 2 None by id\n",
      "INFO:weightwatcher:Getting ESD for layer 2 \n",
      "INFO:weightwatcher:Found 27 eiganvalues for 2 None\n"
     ]
    },
    {
     "data": {
      "image/png": "[encoded data removed]",
      "text/plain": [
       "<Figure size 432x288 with 1 Axes>"
      ]
     },
     "metadata": {
      "needs_background": "light"
     },
     "output_type": "display_data"
    },
    {
     "name": "stderr",
     "output_type": "stream",
     "text": [
      "INFO:weightwatcher:params {'glorot_fix': False, 'normalize': False, 'conv2d_norm': True, 'randomize': False, 'savedir': 'ww-img', 'savefig': 'ww-img', 'rescale': True, 'deltaEs': False, 'intra': False, 'channels': None, 'conv2d_fft': False, 'ww2x': False, 'min_evals': 0, 'max_evals': None, 'plot': False, 'mp_fit': False, 'layers': [], 'num_smooth': 200}\n",
      "INFO:weightwatcher:Saving all images to ww-img\n",
      "INFO:weightwatcher:params {'glorot_fix': False, 'normalize': False, 'conv2d_norm': True, 'randomize': False, 'savedir': 'ww-img', 'savefig': 'ww-img', 'rescale': True, 'deltaEs': False, 'intra': False, 'channels': None, 'conv2d_fft': False, 'ww2x': False, 'min_evals': 0, 'max_evals': None, 'plot': False, 'mp_fit': False, 'layers': [], 'num_smooth': 200}\n",
      "INFO:weightwatcher:Saving all images to ww-img\n"
     ]
    },
    {
     "name": "stdout",
     "output_type": "stream",
     "text": [
      "4\n"
     ]
    },
    {
     "name": "stderr",
     "output_type": "stream",
     "text": [
      "INFO:weightwatcher:Filtering layer by id 4\n",
      "INFO:weightwatcher:skipping layer 0 None by id\n",
      "INFO:weightwatcher:skipping layer 1 None by id\n",
      "INFO:weightwatcher:skipping layer 2 None by id\n",
      "INFO:weightwatcher:skipping layer 3 None by id\n",
      "INFO:weightwatcher:keeping layer 4 None by id\n",
      "INFO:weightwatcher:Getting ESD for layer 4 \n",
      "INFO:weightwatcher:Found 576 eiganvalues for 4 None\n"
     ]
    },
    {
     "data": {
      "image/png": "[encoded data removed]",
      "text/plain": [
       "<Figure size 432x288 with 1 Axes>"
      ]
     },
     "metadata": {
      "needs_background": "light"
     },
     "output_type": "display_data"
    },
    {
     "name": "stderr",
     "output_type": "stream",
     "text": [
      "INFO:weightwatcher:params {'glorot_fix': False, 'normalize': False, 'conv2d_norm': True, 'randomize': False, 'savedir': 'ww-img', 'savefig': 'ww-img', 'rescale': True, 'deltaEs': False, 'intra': False, 'channels': None, 'conv2d_fft': False, 'ww2x': False, 'min_evals': 0, 'max_evals': None, 'plot': False, 'mp_fit': False, 'layers': [], 'num_smooth': 200}\n",
      "INFO:weightwatcher:Saving all images to ww-img\n",
      "INFO:weightwatcher:params {'glorot_fix': False, 'normalize': False, 'conv2d_norm': True, 'randomize': False, 'savedir': 'ww-img', 'savefig': 'ww-img', 'rescale': True, 'deltaEs': False, 'intra': False, 'channels': None, 'conv2d_fft': False, 'ww2x': False, 'min_evals': 0, 'max_evals': None, 'plot': False, 'mp_fit': False, 'layers': [], 'num_smooth': 200}\n",
      "INFO:weightwatcher:Saving all images to ww-img\n"
     ]
    },
    {
     "name": "stdout",
     "output_type": "stream",
     "text": [
      "7\n"
     ]
    },
    {
     "name": "stderr",
     "output_type": "stream",
     "text": [
      "INFO:weightwatcher:Filtering layer by id 7\n",
      "INFO:weightwatcher:skipping layer 0 None by id\n",
      "INFO:weightwatcher:skipping layer 1 None by id\n",
      "INFO:weightwatcher:skipping layer 2 None by id\n",
      "INFO:weightwatcher:skipping layer 3 None by id\n",
      "INFO:weightwatcher:skipping layer 4 None by id\n",
      "INFO:weightwatcher:skipping layer 5 None by id\n",
      "INFO:weightwatcher:skipping layer 6 None by id\n",
      "INFO:weightwatcher:keeping layer 7 None by id\n",
      "INFO:weightwatcher:Getting ESD for layer 7 \n",
      "INFO:weightwatcher:Found 576 eiganvalues for 7 None\n"
     ]
    },
    {
     "data": {
      "image/png": "[encoded data removed]",
      "text/plain": [
       "<Figure size 432x288 with 1 Axes>"
      ]
     },
     "metadata": {
      "needs_background": "light"
     },
     "output_type": "display_data"
    },
    {
     "name": "stderr",
     "output_type": "stream",
     "text": [
      "INFO:weightwatcher:params {'glorot_fix': False, 'normalize': False, 'conv2d_norm': True, 'randomize': False, 'savedir': 'ww-img', 'savefig': 'ww-img', 'rescale': True, 'deltaEs': False, 'intra': False, 'channels': None, 'conv2d_fft': False, 'ww2x': False, 'min_evals': 0, 'max_evals': None, 'plot': False, 'mp_fit': False, 'layers': [], 'num_smooth': 200}\n",
      "INFO:weightwatcher:Saving all images to ww-img\n",
      "INFO:weightwatcher:params {'glorot_fix': False, 'normalize': False, 'conv2d_norm': True, 'randomize': False, 'savedir': 'ww-img', 'savefig': 'ww-img', 'rescale': True, 'deltaEs': False, 'intra': False, 'channels': None, 'conv2d_fft': False, 'ww2x': False, 'min_evals': 0, 'max_evals': None, 'plot': False, 'mp_fit': False, 'layers': [], 'num_smooth': 200}\n",
      "INFO:weightwatcher:Saving all images to ww-img\n"
     ]
    },
    {
     "name": "stdout",
     "output_type": "stream",
     "text": [
      "9\n"
     ]
    },
    {
     "name": "stderr",
     "output_type": "stream",
     "text": [
      "INFO:weightwatcher:Filtering layer by id 9\n",
      "INFO:weightwatcher:skipping layer 0 None by id\n",
      "INFO:weightwatcher:skipping layer 1 None by id\n",
      "INFO:weightwatcher:skipping layer 2 None by id\n",
      "INFO:weightwatcher:skipping layer 3 None by id\n",
      "INFO:weightwatcher:skipping layer 4 None by id\n",
      "INFO:weightwatcher:skipping layer 5 None by id\n",
      "INFO:weightwatcher:skipping layer 6 None by id\n",
      "INFO:weightwatcher:skipping layer 7 None by id\n",
      "INFO:weightwatcher:skipping layer 8 None by id\n",
      "INFO:weightwatcher:keeping layer 9 None by id\n",
      "INFO:weightwatcher:Getting ESD for layer 9 \n",
      "INFO:weightwatcher:Found 1152 eiganvalues for 9 None\n"
     ]
    },
    {
     "data": {
      "image/png": "[encoded data removed]",
      "text/plain": [
       "<Figure size 432x288 with 1 Axes>"
      ]
     },
     "metadata": {
      "needs_background": "light"
     },
     "output_type": "display_data"
    },
    {
     "name": "stderr",
     "output_type": "stream",
     "text": [
      "INFO:weightwatcher:params {'glorot_fix': False, 'normalize': False, 'conv2d_norm': True, 'randomize': False, 'savedir': 'ww-img', 'savefig': 'ww-img', 'rescale': True, 'deltaEs': False, 'intra': False, 'channels': None, 'conv2d_fft': False, 'ww2x': False, 'min_evals': 0, 'max_evals': None, 'plot': False, 'mp_fit': False, 'layers': [], 'num_smooth': 200}\n",
      "INFO:weightwatcher:Saving all images to ww-img\n",
      "INFO:weightwatcher:params {'glorot_fix': False, 'normalize': False, 'conv2d_norm': True, 'randomize': False, 'savedir': 'ww-img', 'savefig': 'ww-img', 'rescale': True, 'deltaEs': False, 'intra': False, 'channels': None, 'conv2d_fft': False, 'ww2x': False, 'min_evals': 0, 'max_evals': None, 'plot': False, 'mp_fit': False, 'layers': [], 'num_smooth': 200}\n",
      "INFO:weightwatcher:Saving all images to ww-img\n"
     ]
    },
    {
     "name": "stdout",
     "output_type": "stream",
     "text": [
      "12\n"
     ]
    },
    {
     "name": "stderr",
     "output_type": "stream",
     "text": [
      "INFO:weightwatcher:Filtering layer by id 12\n",
      "INFO:weightwatcher:skipping layer 0 None by id\n",
      "INFO:weightwatcher:skipping layer 1 None by id\n",
      "INFO:weightwatcher:skipping layer 2 None by id\n",
      "INFO:weightwatcher:skipping layer 3 None by id\n",
      "INFO:weightwatcher:skipping layer 4 None by id\n",
      "INFO:weightwatcher:skipping layer 5 None by id\n",
      "INFO:weightwatcher:skipping layer 6 None by id\n",
      "INFO:weightwatcher:skipping layer 7 None by id\n",
      "INFO:weightwatcher:skipping layer 8 None by id\n",
      "INFO:weightwatcher:skipping layer 9 None by id\n",
      "INFO:weightwatcher:skipping layer 10 None by id\n",
      "INFO:weightwatcher:skipping layer 11 None by id\n",
      "INFO:weightwatcher:keeping layer 12 None by id\n",
      "INFO:weightwatcher:Getting ESD for layer 12 \n",
      "INFO:weightwatcher:Found 1152 eiganvalues for 12 None\n"
     ]
    },
    {
     "data": {
      "image/png": "[encoded data removed]",
      "text/plain": [
       "<Figure size 432x288 with 1 Axes>"
      ]
     },
     "metadata": {
      "needs_background": "light"
     },
     "output_type": "display_data"
    },
    {
     "name": "stderr",
     "output_type": "stream",
     "text": [
      "INFO:weightwatcher:params {'glorot_fix': False, 'normalize': False, 'conv2d_norm': True, 'randomize': False, 'savedir': 'ww-img', 'savefig': 'ww-img', 'rescale': True, 'deltaEs': False, 'intra': False, 'channels': None, 'conv2d_fft': False, 'ww2x': False, 'min_evals': 0, 'max_evals': None, 'plot': False, 'mp_fit': False, 'layers': [], 'num_smooth': 200}\n",
      "INFO:weightwatcher:Saving all images to ww-img\n",
      "INFO:weightwatcher:params {'glorot_fix': False, 'normalize': False, 'conv2d_norm': True, 'randomize': False, 'savedir': 'ww-img', 'savefig': 'ww-img', 'rescale': True, 'deltaEs': False, 'intra': False, 'channels': None, 'conv2d_fft': False, 'ww2x': False, 'min_evals': 0, 'max_evals': None, 'plot': False, 'mp_fit': False, 'layers': [], 'num_smooth': 200}\n",
      "INFO:weightwatcher:Saving all images to ww-img\n"
     ]
    },
    {
     "name": "stdout",
     "output_type": "stream",
     "text": [
      "14\n"
     ]
    },
    {
     "name": "stderr",
     "output_type": "stream",
     "text": [
      "INFO:weightwatcher:Filtering layer by id 14\n",
      "INFO:weightwatcher:skipping layer 0 None by id\n",
      "INFO:weightwatcher:skipping layer 1 None by id\n",
      "INFO:weightwatcher:skipping layer 2 None by id\n",
      "INFO:weightwatcher:skipping layer 3 None by id\n",
      "INFO:weightwatcher:skipping layer 4 None by id\n",
      "INFO:weightwatcher:skipping layer 5 None by id\n",
      "INFO:weightwatcher:skipping layer 6 None by id\n",
      "INFO:weightwatcher:skipping layer 7 None by id\n",
      "INFO:weightwatcher:skipping layer 8 None by id\n",
      "INFO:weightwatcher:skipping layer 9 None by id\n",
      "INFO:weightwatcher:skipping layer 10 None by id\n",
      "INFO:weightwatcher:skipping layer 11 None by id\n",
      "INFO:weightwatcher:skipping layer 12 None by id\n",
      "INFO:weightwatcher:skipping layer 13 None by id\n",
      "INFO:weightwatcher:keeping layer 14 None by id\n",
      "INFO:weightwatcher:Getting ESD for layer 14 \n",
      "INFO:weightwatcher:Found 2304 eiganvalues for 14 None\n"
     ]
    },
    {
     "data": {
      "image/png": "[encoded data removed]",
      "text/plain": [
       "<Figure size 432x288 with 1 Axes>"
      ]
     },
     "metadata": {
      "needs_background": "light"
     },
     "output_type": "display_data"
    },
    {
     "name": "stderr",
     "output_type": "stream",
     "text": [
      "INFO:weightwatcher:params {'glorot_fix': False, 'normalize': False, 'conv2d_norm': True, 'randomize': False, 'savedir': 'ww-img', 'savefig': 'ww-img', 'rescale': True, 'deltaEs': False, 'intra': False, 'channels': None, 'conv2d_fft': False, 'ww2x': False, 'min_evals': 0, 'max_evals': None, 'plot': False, 'mp_fit': False, 'layers': [], 'num_smooth': 200}\n",
      "INFO:weightwatcher:Saving all images to ww-img\n",
      "INFO:weightwatcher:params {'glorot_fix': False, 'normalize': False, 'conv2d_norm': True, 'randomize': False, 'savedir': 'ww-img', 'savefig': 'ww-img', 'rescale': True, 'deltaEs': False, 'intra': False, 'channels': None, 'conv2d_fft': False, 'ww2x': False, 'min_evals': 0, 'max_evals': None, 'plot': False, 'mp_fit': False, 'layers': [], 'num_smooth': 200}\n",
      "INFO:weightwatcher:Saving all images to ww-img\n"
     ]
    },
    {
     "name": "stdout",
     "output_type": "stream",
     "text": [
      "16\n"
     ]
    },
    {
     "name": "stderr",
     "output_type": "stream",
     "text": [
      "INFO:weightwatcher:Filtering layer by id 16\n",
      "INFO:weightwatcher:skipping layer 0 None by id\n",
      "INFO:weightwatcher:skipping layer 1 None by id\n",
      "INFO:weightwatcher:skipping layer 2 None by id\n",
      "INFO:weightwatcher:skipping layer 3 None by id\n",
      "INFO:weightwatcher:skipping layer 4 None by id\n",
      "INFO:weightwatcher:skipping layer 5 None by id\n",
      "INFO:weightwatcher:skipping layer 6 None by id\n",
      "INFO:weightwatcher:skipping layer 7 None by id\n",
      "INFO:weightwatcher:skipping layer 8 None by id\n",
      "INFO:weightwatcher:skipping layer 9 None by id\n",
      "INFO:weightwatcher:skipping layer 10 None by id\n",
      "INFO:weightwatcher:skipping layer 11 None by id\n",
      "INFO:weightwatcher:skipping layer 12 None by id\n",
      "INFO:weightwatcher:skipping layer 13 None by id\n",
      "INFO:weightwatcher:skipping layer 14 None by id\n",
      "INFO:weightwatcher:skipping layer 15 None by id\n",
      "INFO:weightwatcher:keeping layer 16 None by id\n",
      "INFO:weightwatcher:Getting ESD for layer 16 \n",
      "INFO:weightwatcher:Found 2304 eiganvalues for 16 None\n"
     ]
    },
    {
     "data": {
      "image/png": "[encoded data removed]",
      "text/plain": [
       "<Figure size 432x288 with 1 Axes>"
      ]
     },
     "metadata": {
      "needs_background": "light"
     },
     "output_type": "display_data"
    },
    {
     "name": "stderr",
     "output_type": "stream",
     "text": [
      "INFO:weightwatcher:params {'glorot_fix': False, 'normalize': False, 'conv2d_norm': True, 'randomize': False, 'savedir': 'ww-img', 'savefig': 'ww-img', 'rescale': True, 'deltaEs': False, 'intra': False, 'channels': None, 'conv2d_fft': False, 'ww2x': False, 'min_evals': 0, 'max_evals': None, 'plot': False, 'mp_fit': False, 'layers': [], 'num_smooth': 200}\n",
      "INFO:weightwatcher:Saving all images to ww-img\n",
      "INFO:weightwatcher:params {'glorot_fix': False, 'normalize': False, 'conv2d_norm': True, 'randomize': False, 'savedir': 'ww-img', 'savefig': 'ww-img', 'rescale': True, 'deltaEs': False, 'intra': False, 'channels': None, 'conv2d_fft': False, 'ww2x': False, 'min_evals': 0, 'max_evals': None, 'plot': False, 'mp_fit': False, 'layers': [], 'num_smooth': 200}\n",
      "INFO:weightwatcher:Saving all images to ww-img\n"
     ]
    },
    {
     "name": "stdout",
     "output_type": "stream",
     "text": [
      "19\n"
     ]
    },
    {
     "name": "stderr",
     "output_type": "stream",
     "text": [
      "INFO:weightwatcher:Filtering layer by id 19\n",
      "INFO:weightwatcher:skipping layer 0 None by id\n",
      "INFO:weightwatcher:skipping layer 1 None by id\n",
      "INFO:weightwatcher:skipping layer 2 None by id\n",
      "INFO:weightwatcher:skipping layer 3 None by id\n",
      "INFO:weightwatcher:skipping layer 4 None by id\n",
      "INFO:weightwatcher:skipping layer 5 None by id\n",
      "INFO:weightwatcher:skipping layer 6 None by id\n",
      "INFO:weightwatcher:skipping layer 7 None by id\n",
      "INFO:weightwatcher:skipping layer 8 None by id\n",
      "INFO:weightwatcher:skipping layer 9 None by id\n",
      "INFO:weightwatcher:skipping layer 10 None by id\n",
      "INFO:weightwatcher:skipping layer 11 None by id\n",
      "INFO:weightwatcher:skipping layer 12 None by id\n",
      "INFO:weightwatcher:skipping layer 13 None by id\n",
      "INFO:weightwatcher:skipping layer 14 None by id\n",
      "INFO:weightwatcher:skipping layer 15 None by id\n",
      "INFO:weightwatcher:skipping layer 16 None by id\n",
      "INFO:weightwatcher:skipping layer 17 None by id\n",
      "INFO:weightwatcher:skipping layer 18 None by id\n",
      "INFO:weightwatcher:keeping layer 19 None by id\n",
      "INFO:weightwatcher:Getting ESD for layer 19 \n",
      "INFO:weightwatcher:Found 2304 eiganvalues for 19 None\n"
     ]
    },
    {
     "data": {
      "image/png": "[encoded data removed]",
      "text/plain": [
       "<Figure size 432x288 with 1 Axes>"
      ]
     },
     "metadata": {
      "needs_background": "light"
     },
     "output_type": "display_data"
    },
    {
     "name": "stderr",
     "output_type": "stream",
     "text": [
      "INFO:weightwatcher:params {'glorot_fix': False, 'normalize': False, 'conv2d_norm': True, 'randomize': False, 'savedir': 'ww-img', 'savefig': 'ww-img', 'rescale': True, 'deltaEs': False, 'intra': False, 'channels': None, 'conv2d_fft': False, 'ww2x': False, 'min_evals': 0, 'max_evals': None, 'plot': False, 'mp_fit': False, 'layers': [], 'num_smooth': 200}\n",
      "INFO:weightwatcher:Saving all images to ww-img\n",
      "INFO:weightwatcher:params {'glorot_fix': False, 'normalize': False, 'conv2d_norm': True, 'randomize': False, 'savedir': 'ww-img', 'savefig': 'ww-img', 'rescale': True, 'deltaEs': False, 'intra': False, 'channels': None, 'conv2d_fft': False, 'ww2x': False, 'min_evals': 0, 'max_evals': None, 'plot': False, 'mp_fit': False, 'layers': [], 'num_smooth': 200}\n",
      "INFO:weightwatcher:Saving all images to ww-img\n"
     ]
    },
    {
     "name": "stdout",
     "output_type": "stream",
     "text": [
      "21\n"
     ]
    },
    {
     "name": "stderr",
     "output_type": "stream",
     "text": [
      "INFO:weightwatcher:Filtering layer by id 21\n",
      "INFO:weightwatcher:skipping layer 0 None by id\n",
      "INFO:weightwatcher:skipping layer 1 None by id\n",
      "INFO:weightwatcher:skipping layer 2 None by id\n",
      "INFO:weightwatcher:skipping layer 3 None by id\n",
      "INFO:weightwatcher:skipping layer 4 None by id\n",
      "INFO:weightwatcher:skipping layer 5 None by id\n",
      "INFO:weightwatcher:skipping layer 6 None by id\n",
      "INFO:weightwatcher:skipping layer 7 None by id\n",
      "INFO:weightwatcher:skipping layer 8 None by id\n",
      "INFO:weightwatcher:skipping layer 9 None by id\n",
      "INFO:weightwatcher:skipping layer 10 None by id\n",
      "INFO:weightwatcher:skipping layer 11 None by id\n",
      "INFO:weightwatcher:skipping layer 12 None by id\n",
      "INFO:weightwatcher:skipping layer 13 None by id\n",
      "INFO:weightwatcher:skipping layer 14 None by id\n",
      "INFO:weightwatcher:skipping layer 15 None by id\n",
      "INFO:weightwatcher:skipping layer 16 None by id\n",
      "INFO:weightwatcher:skipping layer 17 None by id\n",
      "INFO:weightwatcher:skipping layer 18 None by id\n",
      "INFO:weightwatcher:skipping layer 19 None by id\n",
      "INFO:weightwatcher:skipping layer 20 None by id\n",
      "INFO:weightwatcher:keeping layer 21 None by id\n",
      "INFO:weightwatcher:Getting ESD for layer 21 \n",
      "INFO:weightwatcher:Found 4608 eiganvalues for 21 None\n"
     ]
    },
    {
     "data": {
      "image/png": "[encoded data removed]",
      "text/plain": [
       "<Figure size 432x288 with 1 Axes>"
      ]
     },
     "metadata": {
      "needs_background": "light"
     },
     "output_type": "display_data"
    },
    {
     "name": "stderr",
     "output_type": "stream",
     "text": [
      "INFO:weightwatcher:params {'glorot_fix': False, 'normalize': False, 'conv2d_norm': True, 'randomize': False, 'savedir': 'ww-img', 'savefig': 'ww-img', 'rescale': True, 'deltaEs': False, 'intra': False, 'channels': None, 'conv2d_fft': False, 'ww2x': False, 'min_evals': 0, 'max_evals': None, 'plot': False, 'mp_fit': False, 'layers': [], 'num_smooth': 200}\n",
      "INFO:weightwatcher:Saving all images to ww-img\n",
      "INFO:weightwatcher:params {'glorot_fix': False, 'normalize': False, 'conv2d_norm': True, 'randomize': False, 'savedir': 'ww-img', 'savefig': 'ww-img', 'rescale': True, 'deltaEs': False, 'intra': False, 'channels': None, 'conv2d_fft': False, 'ww2x': False, 'min_evals': 0, 'max_evals': None, 'plot': False, 'mp_fit': False, 'layers': [], 'num_smooth': 200}\n",
      "INFO:weightwatcher:Saving all images to ww-img\n"
     ]
    },
    {
     "name": "stdout",
     "output_type": "stream",
     "text": [
      "23\n"
     ]
    },
    {
     "name": "stderr",
     "output_type": "stream",
     "text": [
      "INFO:weightwatcher:Filtering layer by id 23\n",
      "INFO:weightwatcher:skipping layer 0 None by id\n",
      "INFO:weightwatcher:skipping layer 1 None by id\n",
      "INFO:weightwatcher:skipping layer 2 None by id\n",
      "INFO:weightwatcher:skipping layer 3 None by id\n",
      "INFO:weightwatcher:skipping layer 4 None by id\n",
      "INFO:weightwatcher:skipping layer 5 None by id\n",
      "INFO:weightwatcher:skipping layer 6 None by id\n",
      "INFO:weightwatcher:skipping layer 7 None by id\n",
      "INFO:weightwatcher:skipping layer 8 None by id\n",
      "INFO:weightwatcher:skipping layer 9 None by id\n",
      "INFO:weightwatcher:skipping layer 10 None by id\n",
      "INFO:weightwatcher:skipping layer 11 None by id\n",
      "INFO:weightwatcher:skipping layer 12 None by id\n",
      "INFO:weightwatcher:skipping layer 13 None by id\n",
      "INFO:weightwatcher:skipping layer 14 None by id\n",
      "INFO:weightwatcher:skipping layer 15 None by id\n",
      "INFO:weightwatcher:skipping layer 16 None by id\n",
      "INFO:weightwatcher:skipping layer 17 None by id\n",
      "INFO:weightwatcher:skipping layer 18 None by id\n",
      "INFO:weightwatcher:skipping layer 19 None by id\n",
      "INFO:weightwatcher:skipping layer 20 None by id\n",
      "INFO:weightwatcher:skipping layer 21 None by id\n",
      "INFO:weightwatcher:skipping layer 22 None by id\n",
      "INFO:weightwatcher:keeping layer 23 None by id\n",
      "INFO:weightwatcher:Getting ESD for layer 23 \n",
      "INFO:weightwatcher:Found 4608 eiganvalues for 23 None\n"
     ]
    },
    {
     "data": {
      "image/png": "[encoded data removed]",
      "text/plain": [
       "<Figure size 432x288 with 1 Axes>"
      ]
     },
     "metadata": {
      "needs_background": "light"
     },
     "output_type": "display_data"
    },
    {
     "name": "stderr",
     "output_type": "stream",
     "text": [
      "INFO:weightwatcher:params {'glorot_fix': False, 'normalize': False, 'conv2d_norm': True, 'randomize': False, 'savedir': 'ww-img', 'savefig': 'ww-img', 'rescale': True, 'deltaEs': False, 'intra': False, 'channels': None, 'conv2d_fft': False, 'ww2x': False, 'min_evals': 0, 'max_evals': None, 'plot': False, 'mp_fit': False, 'layers': [], 'num_smooth': 200}\n",
      "INFO:weightwatcher:Saving all images to ww-img\n",
      "INFO:weightwatcher:params {'glorot_fix': False, 'normalize': False, 'conv2d_norm': True, 'randomize': False, 'savedir': 'ww-img', 'savefig': 'ww-img', 'rescale': True, 'deltaEs': False, 'intra': False, 'channels': None, 'conv2d_fft': False, 'ww2x': False, 'min_evals': 0, 'max_evals': None, 'plot': False, 'mp_fit': False, 'layers': [], 'num_smooth': 200}\n",
      "INFO:weightwatcher:Saving all images to ww-img\n"
     ]
    },
    {
     "name": "stdout",
     "output_type": "stream",
     "text": [
      "26\n"
     ]
    },
    {
     "name": "stderr",
     "output_type": "stream",
     "text": [
      "INFO:weightwatcher:Filtering layer by id 26\n",
      "INFO:weightwatcher:skipping layer 0 None by id\n",
      "INFO:weightwatcher:skipping layer 1 None by id\n",
      "INFO:weightwatcher:skipping layer 2 None by id\n",
      "INFO:weightwatcher:skipping layer 3 None by id\n",
      "INFO:weightwatcher:skipping layer 4 None by id\n",
      "INFO:weightwatcher:skipping layer 5 None by id\n",
      "INFO:weightwatcher:skipping layer 6 None by id\n",
      "INFO:weightwatcher:skipping layer 7 None by id\n",
      "INFO:weightwatcher:skipping layer 8 None by id\n",
      "INFO:weightwatcher:skipping layer 9 None by id\n",
      "INFO:weightwatcher:skipping layer 10 None by id\n",
      "INFO:weightwatcher:skipping layer 11 None by id\n",
      "INFO:weightwatcher:skipping layer 12 None by id\n",
      "INFO:weightwatcher:skipping layer 13 None by id\n",
      "INFO:weightwatcher:skipping layer 14 None by id\n",
      "INFO:weightwatcher:skipping layer 15 None by id\n",
      "INFO:weightwatcher:skipping layer 16 None by id\n",
      "INFO:weightwatcher:skipping layer 17 None by id\n",
      "INFO:weightwatcher:skipping layer 18 None by id\n",
      "INFO:weightwatcher:skipping layer 19 None by id\n",
      "INFO:weightwatcher:skipping layer 20 None by id\n",
      "INFO:weightwatcher:skipping layer 21 None by id\n",
      "INFO:weightwatcher:skipping layer 22 None by id\n",
      "INFO:weightwatcher:skipping layer 23 None by id\n",
      "INFO:weightwatcher:skipping layer 24 None by id\n",
      "INFO:weightwatcher:skipping layer 25 None by id\n",
      "INFO:weightwatcher:keeping layer 26 None by id\n",
      "INFO:weightwatcher:Getting ESD for layer 26 \n",
      "INFO:weightwatcher:Found 4608 eiganvalues for 26 None\n"
     ]
    },
    {
     "data": {
      "image/png": "[encoded data removed]",
      "text/plain": [
       "<Figure size 432x288 with 1 Axes>"
      ]
     },
     "metadata": {
      "needs_background": "light"
     },
     "output_type": "display_data"
    },
    {
     "name": "stderr",
     "output_type": "stream",
     "text": [
      "INFO:weightwatcher:params {'glorot_fix': False, 'normalize': False, 'conv2d_norm': True, 'randomize': False, 'savedir': 'ww-img', 'savefig': 'ww-img', 'rescale': True, 'deltaEs': False, 'intra': False, 'channels': None, 'conv2d_fft': False, 'ww2x': False, 'min_evals': 0, 'max_evals': None, 'plot': False, 'mp_fit': False, 'layers': [], 'num_smooth': 200}\n",
      "INFO:weightwatcher:Saving all images to ww-img\n",
      "INFO:weightwatcher:params {'glorot_fix': False, 'normalize': False, 'conv2d_norm': True, 'randomize': False, 'savedir': 'ww-img', 'savefig': 'ww-img', 'rescale': True, 'deltaEs': False, 'intra': False, 'channels': None, 'conv2d_fft': False, 'ww2x': False, 'min_evals': 0, 'max_evals': None, 'plot': False, 'mp_fit': False, 'layers': [], 'num_smooth': 200}\n",
      "INFO:weightwatcher:Saving all images to ww-img\n"
     ]
    },
    {
     "name": "stdout",
     "output_type": "stream",
     "text": [
      "28\n"
     ]
    },
    {
     "name": "stderr",
     "output_type": "stream",
     "text": [
      "INFO:weightwatcher:Filtering layer by id 28\n",
      "INFO:weightwatcher:skipping layer 0 None by id\n",
      "INFO:weightwatcher:skipping layer 1 None by id\n",
      "INFO:weightwatcher:skipping layer 2 None by id\n",
      "INFO:weightwatcher:skipping layer 3 None by id\n",
      "INFO:weightwatcher:skipping layer 4 None by id\n",
      "INFO:weightwatcher:skipping layer 5 None by id\n",
      "INFO:weightwatcher:skipping layer 6 None by id\n",
      "INFO:weightwatcher:skipping layer 7 None by id\n",
      "INFO:weightwatcher:skipping layer 8 None by id\n",
      "INFO:weightwatcher:skipping layer 9 None by id\n",
      "INFO:weightwatcher:skipping layer 10 None by id\n",
      "INFO:weightwatcher:skipping layer 11 None by id\n",
      "INFO:weightwatcher:skipping layer 12 None by id\n",
      "INFO:weightwatcher:skipping layer 13 None by id\n",
      "INFO:weightwatcher:skipping layer 14 None by id\n",
      "INFO:weightwatcher:skipping layer 15 None by id\n",
      "INFO:weightwatcher:skipping layer 16 None by id\n",
      "INFO:weightwatcher:skipping layer 17 None by id\n",
      "INFO:weightwatcher:skipping layer 18 None by id\n",
      "INFO:weightwatcher:skipping layer 19 None by id\n",
      "INFO:weightwatcher:skipping layer 20 None by id\n",
      "INFO:weightwatcher:skipping layer 21 None by id\n",
      "INFO:weightwatcher:skipping layer 22 None by id\n",
      "INFO:weightwatcher:skipping layer 23 None by id\n",
      "INFO:weightwatcher:skipping layer 24 None by id\n",
      "INFO:weightwatcher:skipping layer 25 None by id\n",
      "INFO:weightwatcher:skipping layer 26 None by id\n",
      "INFO:weightwatcher:skipping layer 27 None by id\n",
      "INFO:weightwatcher:keeping layer 28 None by id\n",
      "INFO:weightwatcher:Getting ESD for layer 28 \n",
      "INFO:weightwatcher:Found 4608 eiganvalues for 28 None\n"
     ]
    },
    {
     "data": {
      "image/png": "[encoded data removed]",
      "text/plain": [
       "<Figure size 432x288 with 1 Axes>"
      ]
     },
     "metadata": {
      "needs_background": "light"
     },
     "output_type": "display_data"
    },
    {
     "name": "stderr",
     "output_type": "stream",
     "text": [
      "INFO:weightwatcher:params {'glorot_fix': False, 'normalize': False, 'conv2d_norm': True, 'randomize': False, 'savedir': 'ww-img', 'savefig': 'ww-img', 'rescale': True, 'deltaEs': False, 'intra': False, 'channels': None, 'conv2d_fft': False, 'ww2x': False, 'min_evals': 0, 'max_evals': None, 'plot': False, 'mp_fit': False, 'layers': [], 'num_smooth': 200}\n",
      "INFO:weightwatcher:Saving all images to ww-img\n",
      "INFO:weightwatcher:params {'glorot_fix': False, 'normalize': False, 'conv2d_norm': True, 'randomize': False, 'savedir': 'ww-img', 'savefig': 'ww-img', 'rescale': True, 'deltaEs': False, 'intra': False, 'channels': None, 'conv2d_fft': False, 'ww2x': False, 'min_evals': 0, 'max_evals': None, 'plot': False, 'mp_fit': False, 'layers': [], 'num_smooth': 200}\n",
      "INFO:weightwatcher:Saving all images to ww-img\n"
     ]
    },
    {
     "name": "stdout",
     "output_type": "stream",
     "text": [
      "30\n"
     ]
    },
    {
     "name": "stderr",
     "output_type": "stream",
     "text": [
      "INFO:weightwatcher:Filtering layer by id 30\n",
      "INFO:weightwatcher:skipping layer 0 None by id\n",
      "INFO:weightwatcher:skipping layer 1 None by id\n",
      "INFO:weightwatcher:skipping layer 2 None by id\n",
      "INFO:weightwatcher:skipping layer 3 None by id\n",
      "INFO:weightwatcher:skipping layer 4 None by id\n",
      "INFO:weightwatcher:skipping layer 5 None by id\n",
      "INFO:weightwatcher:skipping layer 6 None by id\n",
      "INFO:weightwatcher:skipping layer 7 None by id\n",
      "INFO:weightwatcher:skipping layer 8 None by id\n",
      "INFO:weightwatcher:skipping layer 9 None by id\n",
      "INFO:weightwatcher:skipping layer 10 None by id\n",
      "INFO:weightwatcher:skipping layer 11 None by id\n",
      "INFO:weightwatcher:skipping layer 12 None by id\n",
      "INFO:weightwatcher:skipping layer 13 None by id\n",
      "INFO:weightwatcher:skipping layer 14 None by id\n",
      "INFO:weightwatcher:skipping layer 15 None by id\n",
      "INFO:weightwatcher:skipping layer 16 None by id\n",
      "INFO:weightwatcher:skipping layer 17 None by id\n",
      "INFO:weightwatcher:skipping layer 18 None by id\n",
      "INFO:weightwatcher:skipping layer 19 None by id\n",
      "INFO:weightwatcher:skipping layer 20 None by id\n",
      "INFO:weightwatcher:skipping layer 21 None by id\n",
      "INFO:weightwatcher:skipping layer 22 None by id\n",
      "INFO:weightwatcher:skipping layer 23 None by id\n",
      "INFO:weightwatcher:skipping layer 24 None by id\n",
      "INFO:weightwatcher:skipping layer 25 None by id\n",
      "INFO:weightwatcher:skipping layer 26 None by id\n",
      "INFO:weightwatcher:skipping layer 27 None by id\n",
      "INFO:weightwatcher:skipping layer 28 None by id\n",
      "INFO:weightwatcher:skipping layer 29 None by id\n",
      "INFO:weightwatcher:keeping layer 30 None by id\n",
      "INFO:weightwatcher:Getting ESD for layer 30 \n",
      "INFO:weightwatcher:Found 4608 eiganvalues for 30 None\n"
     ]
    },
    {
     "data": {
      "image/png": "[encoded data removed]",
      "text/plain": [
       "<Figure size 432x288 with 1 Axes>"
      ]
     },
     "metadata": {
      "needs_background": "light"
     },
     "output_type": "display_data"
    },
    {
     "name": "stderr",
     "output_type": "stream",
     "text": [
      "INFO:weightwatcher:params {'glorot_fix': False, 'normalize': False, 'conv2d_norm': True, 'randomize': False, 'savedir': 'ww-img', 'savefig': 'ww-img', 'rescale': True, 'deltaEs': False, 'intra': False, 'channels': None, 'conv2d_fft': False, 'ww2x': False, 'min_evals': 0, 'max_evals': None, 'plot': False, 'mp_fit': False, 'layers': [], 'num_smooth': 200}\n",
      "INFO:weightwatcher:Saving all images to ww-img\n",
      "INFO:weightwatcher:params {'glorot_fix': False, 'normalize': False, 'conv2d_norm': True, 'randomize': False, 'savedir': 'ww-img', 'savefig': 'ww-img', 'rescale': True, 'deltaEs': False, 'intra': False, 'channels': None, 'conv2d_fft': False, 'ww2x': False, 'min_evals': 0, 'max_evals': None, 'plot': False, 'mp_fit': False, 'layers': [], 'num_smooth': 200}\n",
      "INFO:weightwatcher:Saving all images to ww-img\n"
     ]
    },
    {
     "name": "stdout",
     "output_type": "stream",
     "text": [
      "35\n"
     ]
    },
    {
     "name": "stderr",
     "output_type": "stream",
     "text": [
      "INFO:weightwatcher:Filtering layer by id 35\n",
      "INFO:weightwatcher:skipping layer 0 None by id\n",
      "INFO:weightwatcher:skipping layer 1 None by id\n",
      "INFO:weightwatcher:skipping layer 2 None by id\n",
      "INFO:weightwatcher:skipping layer 3 None by id\n",
      "INFO:weightwatcher:skipping layer 4 None by id\n",
      "INFO:weightwatcher:skipping layer 5 None by id\n",
      "INFO:weightwatcher:skipping layer 6 None by id\n",
      "INFO:weightwatcher:skipping layer 7 None by id\n",
      "INFO:weightwatcher:skipping layer 8 None by id\n",
      "INFO:weightwatcher:skipping layer 9 None by id\n",
      "INFO:weightwatcher:skipping layer 10 None by id\n",
      "INFO:weightwatcher:skipping layer 11 None by id\n",
      "INFO:weightwatcher:skipping layer 12 None by id\n",
      "INFO:weightwatcher:skipping layer 13 None by id\n",
      "INFO:weightwatcher:skipping layer 14 None by id\n",
      "INFO:weightwatcher:skipping layer 15 None by id\n",
      "INFO:weightwatcher:skipping layer 16 None by id\n",
      "INFO:weightwatcher:skipping layer 17 None by id\n",
      "INFO:weightwatcher:skipping layer 18 None by id\n",
      "INFO:weightwatcher:skipping layer 19 None by id\n",
      "INFO:weightwatcher:skipping layer 20 None by id\n",
      "INFO:weightwatcher:skipping layer 21 None by id\n",
      "INFO:weightwatcher:skipping layer 22 None by id\n",
      "INFO:weightwatcher:skipping layer 23 None by id\n",
      "INFO:weightwatcher:skipping layer 24 None by id\n",
      "INFO:weightwatcher:skipping layer 25 None by id\n",
      "INFO:weightwatcher:skipping layer 26 None by id\n",
      "INFO:weightwatcher:skipping layer 27 None by id\n",
      "INFO:weightwatcher:skipping layer 28 None by id\n",
      "INFO:weightwatcher:skipping layer 29 None by id\n",
      "INFO:weightwatcher:skipping layer 30 None by id\n",
      "INFO:weightwatcher:skipping layer 31 None by id\n",
      "INFO:weightwatcher:skipping layer 32 None by id\n",
      "INFO:weightwatcher:skipping layer 33 None by id\n",
      "INFO:weightwatcher:skipping layer 34 None by id\n",
      "INFO:weightwatcher:keeping layer 35 None by id\n",
      "INFO:weightwatcher:Getting ESD for layer 35 \n",
      "INFO:weightwatcher:Found 4096 eiganvalues for 35 None\n"
     ]
    },
    {
     "data": {
      "image/png": "[encoded data removed]",
      "text/plain": [
       "<Figure size 432x288 with 1 Axes>"
      ]
     },
     "metadata": {
      "needs_background": "light"
     },
     "output_type": "display_data"
    },
    {
     "name": "stderr",
     "output_type": "stream",
     "text": [
      "INFO:weightwatcher:params {'glorot_fix': False, 'normalize': False, 'conv2d_norm': True, 'randomize': False, 'savedir': 'ww-img', 'savefig': 'ww-img', 'rescale': True, 'deltaEs': False, 'intra': False, 'channels': None, 'conv2d_fft': False, 'ww2x': False, 'min_evals': 0, 'max_evals': None, 'plot': False, 'mp_fit': False, 'layers': [], 'num_smooth': 200}\n",
      "INFO:weightwatcher:Saving all images to ww-img\n",
      "INFO:weightwatcher:params {'glorot_fix': False, 'normalize': False, 'conv2d_norm': True, 'randomize': False, 'savedir': 'ww-img', 'savefig': 'ww-img', 'rescale': True, 'deltaEs': False, 'intra': False, 'channels': None, 'conv2d_fft': False, 'ww2x': False, 'min_evals': 0, 'max_evals': None, 'plot': False, 'mp_fit': False, 'layers': [], 'num_smooth': 200}\n",
      "INFO:weightwatcher:Saving all images to ww-img\n"
     ]
    },
    {
     "name": "stdout",
     "output_type": "stream",
     "text": [
      "38\n"
     ]
    },
    {
     "name": "stderr",
     "output_type": "stream",
     "text": [
      "INFO:weightwatcher:Filtering layer by id 38\n",
      "INFO:weightwatcher:skipping layer 0 None by id\n",
      "INFO:weightwatcher:skipping layer 1 None by id\n",
      "INFO:weightwatcher:skipping layer 2 None by id\n",
      "INFO:weightwatcher:skipping layer 3 None by id\n",
      "INFO:weightwatcher:skipping layer 4 None by id\n",
      "INFO:weightwatcher:skipping layer 5 None by id\n",
      "INFO:weightwatcher:skipping layer 6 None by id\n",
      "INFO:weightwatcher:skipping layer 7 None by id\n",
      "INFO:weightwatcher:skipping layer 8 None by id\n",
      "INFO:weightwatcher:skipping layer 9 None by id\n",
      "INFO:weightwatcher:skipping layer 10 None by id\n",
      "INFO:weightwatcher:skipping layer 11 None by id\n",
      "INFO:weightwatcher:skipping layer 12 None by id\n",
      "INFO:weightwatcher:skipping layer 13 None by id\n",
      "INFO:weightwatcher:skipping layer 14 None by id\n",
      "INFO:weightwatcher:skipping layer 15 None by id\n",
      "INFO:weightwatcher:skipping layer 16 None by id\n",
      "INFO:weightwatcher:skipping layer 17 None by id\n",
      "INFO:weightwatcher:skipping layer 18 None by id\n",
      "INFO:weightwatcher:skipping layer 19 None by id\n",
      "INFO:weightwatcher:skipping layer 20 None by id\n",
      "INFO:weightwatcher:skipping layer 21 None by id\n",
      "INFO:weightwatcher:skipping layer 22 None by id\n",
      "INFO:weightwatcher:skipping layer 23 None by id\n",
      "INFO:weightwatcher:skipping layer 24 None by id\n",
      "INFO:weightwatcher:skipping layer 25 None by id\n",
      "INFO:weightwatcher:skipping layer 26 None by id\n",
      "INFO:weightwatcher:skipping layer 27 None by id\n",
      "INFO:weightwatcher:skipping layer 28 None by id\n",
      "INFO:weightwatcher:skipping layer 29 None by id\n",
      "INFO:weightwatcher:skipping layer 30 None by id\n",
      "INFO:weightwatcher:skipping layer 31 None by id\n",
      "INFO:weightwatcher:skipping layer 32 None by id\n",
      "INFO:weightwatcher:skipping layer 33 None by id\n",
      "INFO:weightwatcher:skipping layer 34 None by id\n",
      "INFO:weightwatcher:skipping layer 35 None by id\n",
      "INFO:weightwatcher:skipping layer 36 None by id\n",
      "INFO:weightwatcher:skipping layer 37 None by id\n",
      "INFO:weightwatcher:keeping layer 38 None by id\n",
      "INFO:weightwatcher:Getting ESD for layer 38 \n",
      "INFO:weightwatcher:Found 4096 eiganvalues for 38 None\n"
     ]
    },
    {
     "data": {
      "image/png": "[encoded data removed]",
      "text/plain": [
       "<Figure size 432x288 with 1 Axes>"
      ]
     },
     "metadata": {
      "needs_background": "light"
     },
     "output_type": "display_data"
    },
    {
     "name": "stderr",
     "output_type": "stream",
     "text": [
      "INFO:weightwatcher:params {'glorot_fix': False, 'normalize': False, 'conv2d_norm': True, 'randomize': False, 'savedir': 'ww-img', 'savefig': 'ww-img', 'rescale': True, 'deltaEs': False, 'intra': False, 'channels': None, 'conv2d_fft': False, 'ww2x': False, 'min_evals': 0, 'max_evals': None, 'plot': False, 'mp_fit': False, 'layers': [], 'num_smooth': 200}\n",
      "INFO:weightwatcher:Saving all images to ww-img\n",
      "INFO:weightwatcher:params {'glorot_fix': False, 'normalize': False, 'conv2d_norm': True, 'randomize': False, 'savedir': 'ww-img', 'savefig': 'ww-img', 'rescale': True, 'deltaEs': False, 'intra': False, 'channels': None, 'conv2d_fft': False, 'ww2x': False, 'min_evals': 0, 'max_evals': None, 'plot': False, 'mp_fit': False, 'layers': [], 'num_smooth': 200}\n",
      "INFO:weightwatcher:Saving all images to ww-img\n"
     ]
    },
    {
     "name": "stdout",
     "output_type": "stream",
     "text": [
      "41\n"
     ]
    },
    {
     "name": "stderr",
     "output_type": "stream",
     "text": [
      "INFO:weightwatcher:Filtering layer by id 41\n",
      "INFO:weightwatcher:skipping layer 0 None by id\n",
      "INFO:weightwatcher:skipping layer 1 None by id\n",
      "INFO:weightwatcher:skipping layer 2 None by id\n",
      "INFO:weightwatcher:skipping layer 3 None by id\n",
      "INFO:weightwatcher:skipping layer 4 None by id\n",
      "INFO:weightwatcher:skipping layer 5 None by id\n",
      "INFO:weightwatcher:skipping layer 6 None by id\n",
      "INFO:weightwatcher:skipping layer 7 None by id\n",
      "INFO:weightwatcher:skipping layer 8 None by id\n",
      "INFO:weightwatcher:skipping layer 9 None by id\n",
      "INFO:weightwatcher:skipping layer 10 None by id\n",
      "INFO:weightwatcher:skipping layer 11 None by id\n",
      "INFO:weightwatcher:skipping layer 12 None by id\n",
      "INFO:weightwatcher:skipping layer 13 None by id\n",
      "INFO:weightwatcher:skipping layer 14 None by id\n",
      "INFO:weightwatcher:skipping layer 15 None by id\n",
      "INFO:weightwatcher:skipping layer 16 None by id\n",
      "INFO:weightwatcher:skipping layer 17 None by id\n",
      "INFO:weightwatcher:skipping layer 18 None by id\n",
      "INFO:weightwatcher:skipping layer 19 None by id\n",
      "INFO:weightwatcher:skipping layer 20 None by id\n",
      "INFO:weightwatcher:skipping layer 21 None by id\n",
      "INFO:weightwatcher:skipping layer 22 None by id\n",
      "INFO:weightwatcher:skipping layer 23 None by id\n",
      "INFO:weightwatcher:skipping layer 24 None by id\n",
      "INFO:weightwatcher:skipping layer 25 None by id\n",
      "INFO:weightwatcher:skipping layer 26 None by id\n",
      "INFO:weightwatcher:skipping layer 27 None by id\n",
      "INFO:weightwatcher:skipping layer 28 None by id\n",
      "INFO:weightwatcher:skipping layer 29 None by id\n",
      "INFO:weightwatcher:skipping layer 30 None by id\n",
      "INFO:weightwatcher:skipping layer 31 None by id\n",
      "INFO:weightwatcher:skipping layer 32 None by id\n",
      "INFO:weightwatcher:skipping layer 33 None by id\n",
      "INFO:weightwatcher:skipping layer 34 None by id\n",
      "INFO:weightwatcher:skipping layer 35 None by id\n",
      "INFO:weightwatcher:skipping layer 36 None by id\n",
      "INFO:weightwatcher:skipping layer 37 None by id\n",
      "INFO:weightwatcher:skipping layer 38 None by id\n",
      "INFO:weightwatcher:skipping layer 39 None by id\n",
      "INFO:weightwatcher:skipping layer 40 None by id\n",
      "INFO:weightwatcher:keeping layer 41 None by id\n",
      "INFO:weightwatcher:Getting ESD for layer 41 \n",
      "INFO:weightwatcher:Found 1000 eiganvalues for 41 None\n"
     ]
    },
    {
     "data": {
      "image/png": "[encoded data removed]",
      "text/plain": [
       "<Figure size 432x288 with 1 Axes>"
      ]
     },
     "metadata": {
      "needs_background": "light"
     },
     "output_type": "display_data"
    }
   ],
   "source": [
    "\n",
    "for iesd, layer_id in enumerate(details.layer_id.to_numpy()):\n",
    "    print(layer_id)\n",
    "    esd = all_esds[iesd]\n",
    "    smoothed_esd = watcher.get_ESD(model=smoother_vgg16, layer=layer_id) \n",
    "    plt.hist(np.log10(esd[esd>0.0]), bins=100, color='green', label='vgg16', alpha=0.5, density=True);\n",
    "    plt.hist(np.log10(smoothed_esd[smoothed_esd>0.0]), bins=100, color='red', label='smoothed', density=True);\n",
    "\n",
    "    plt.title(\"Layer {}, VGG16\".format(layer_id))\n",
    "    plt.xlabel(r\"$log_{10} \\lambda $ Log 10 Eigenvalues\")\n",
    "    plt.legend()\n",
    "    plt.show()"
   ]
  },
  {
   "cell_type": "code",
   "execution_count": null,
   "metadata": {
    "scrolled": true
   },
   "outputs": [],
   "source": []
  },
  {
   "cell_type": "code",
   "execution_count": null,
   "metadata": {},
   "outputs": [],
   "source": []
  }
 ],
 "metadata": {
  "kernelspec": {
   "display_name": "Python 3 (ipykernel)",
   "language": "python",
   "name": "python3"
  },
  "language_info": {
   "codemirror_mode": {
    "name": "ipython",
    "version": 3
   },
   "file_extension": ".py",
   "mimetype": "text/x-python",
   "name": "python",
   "nbconvert_exporter": "python",
   "pygments_lexer": "ipython3",
   "version": "3.9.5"
  }
 },
 "nbformat": 4,
 "nbformat_minor": 4
}
