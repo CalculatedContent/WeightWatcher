{
 "cells": [
  {
   "cell_type": "markdown",
   "id": "95fa8042",
   "metadata": {},
   "source": [
    "# Analyze Lightning Flash Tasks with WeightWatcher"
   ]
  },
  {
   "cell_type": "markdown",
   "id": "9a273fdc",
   "metadata": {},
   "source": [
    "[Lightning Flash](https://github.com/PyTorchLightning/lightning-flash/tree/master/flash_examples) offers a variety of tasks backed by [PyTorch Lightning](https://github.com/PyTorchLightning/pytorch-lightning). Since these tasks are just ``nn.Modules`` we can analyze these tasks!\n",
    "\n",
    "Below we analyze the [Object Detection](https://lightning-flash.readthedocs.io/en/latest/reference/object_detection.html) Task, comparing the [alpha PL exponent](https://github.com/CalculatedContent/WeightWatcher#detecting-overtraining) across two different backbones."
   ]
  },
  {
   "cell_type": "code",
   "execution_count": 1,
   "id": "b37e596e",
   "metadata": {},
   "outputs": [],
   "source": [
    "import numpy as np\n",
    "import pandas as pd\n",
    "\n",
    "import matplotlib\n",
    "import matplotlib.pyplot as plt\n",
    "%matplotlib inline"
   ]
  },
  {
   "cell_type": "markdown",
   "id": "0a2eb07f",
   "metadata": {},
   "source": [
    "#### Import WeightWatcher & Flash ObjectDetector"
   ]
  },
  {
   "cell_type": "code",
   "execution_count": 2,
   "id": "ececca0c",
   "metadata": {},
   "outputs": [],
   "source": [
    "import weightwatcher as ww\n",
    "\n",
    "from flash.image import ObjectDetector"
   ]
  },
  {
   "cell_type": "code",
   "execution_count": 3,
   "id": "136694e0",
   "metadata": {},
   "outputs": [
    {
     "name": "stderr",
     "output_type": "stream",
     "text": [
      "INFO:pytorch_lightning.utilities.distributed:Using 'efficientdet' provided by airctic/IceVision (https://github.com/airctic/icevision) and rwightman/efficientdet-pytorch (https://github.com/rwightman/efficientdet-pytorch).\n",
      "INFO:weightwatcher:\n",
      "\n",
      "python      version 3.8.8 (default, Apr 13 2021, 19:58:26) \n",
      "[GCC 7.3.0]\n",
      "numpy       version 1.21.2\n",
      "tensforflow version 2.6.0\n",
      "keras       version 2.6.0\n",
      "INFO:weightwatcher:Saving all images to ww-img\n",
      "INFO:weightwatcher:params {'glorot_fix': False, 'normalize': False, 'conv2d_norm': True, 'randomize': False, 'savedir': 'ww-img', 'savefig': 'ww-img', 'rescale': True, 'deltaEs': False, 'intra': False, 'channels': None, 'conv2d_fft': False, 'ww2x': False, 'min_evals': 0, 'max_evals': None, 'plot': False, 'mp_fit': False, 'layers': []}\n",
      "INFO:weightwatcher:Saving all images to ww-img\n",
      "Assuming nested distributions\n",
      "WARNING:weightwatcher:pytorch layer: BatchNorm2d(32, eps=1e-05, momentum=0.1, affine=True, track_running_stats=True)  type LAYER_TYPE.UNKNOWN not found \n",
      "Assuming nested distributions\n",
      "WARNING:weightwatcher:pytorch layer: BatchNorm2d(32, eps=1e-05, momentum=0.1, affine=True, track_running_stats=True)  type LAYER_TYPE.UNKNOWN not found \n",
      "Assuming nested distributions\n"
     ]
    },
    {
     "name": "stdout",
     "output_type": "stream",
     "text": [
      "xmin progress: 85%\r"
     ]
    },
    {
     "name": "stderr",
     "output_type": "stream",
     "text": [
      "Assuming nested distributions\n",
      "Assuming nested distributions\n",
      "WARNING:weightwatcher:pytorch layer: BatchNorm2d(16, eps=1e-05, momentum=0.1, affine=True, track_running_stats=True)  type LAYER_TYPE.UNKNOWN not found \n",
      "Assuming nested distributions\n",
      "WARNING:weightwatcher:pytorch layer: BatchNorm2d(96, eps=1e-05, momentum=0.1, affine=True, track_running_stats=True)  type LAYER_TYPE.UNKNOWN not found \n"
     ]
    },
    {
     "name": "stdout",
     "output_type": "stream",
     "text": [
      "xmin progress: 12%"
     ]
    },
    {
     "name": "stderr",
     "output_type": "stream",
     "text": [
      "Assuming nested distributions\n",
      "/home/sean/anaconda3/lib/python3.8/site-packages/powerlaw.py:1615: RuntimeWarning: invalid value encountered in true_divide\n",
      "  CDF = CDF/norm\n",
      "'nan' in fit cumulative distribution values.\n",
      "Likely underflow or overflow error: the optimal fit for this distribution gives values that are so extreme that we lack the numerical precision to calculate them.\n",
      "WARNING:weightwatcher:pytorch layer: BatchNorm2d(96, eps=1e-05, momentum=0.1, affine=True, track_running_stats=True)  type LAYER_TYPE.UNKNOWN not found \n",
      "Assuming nested distributions\n",
      "Assuming nested distributions\n"
     ]
    },
    {
     "name": "stdout",
     "output_type": "stream",
     "text": [
      "xmin progress: 66%\r"
     ]
    },
    {
     "name": "stderr",
     "output_type": "stream",
     "text": [
      "Assuming nested distributions\n",
      "WARNING:weightwatcher:pytorch layer: BatchNorm2d(24, eps=1e-05, momentum=0.1, affine=True, track_running_stats=True)  type LAYER_TYPE.UNKNOWN not found \n",
      "Assuming nested distributions\n",
      "WARNING:weightwatcher:pytorch layer: BatchNorm2d(144, eps=1e-05, momentum=0.1, affine=True, track_running_stats=True)  type LAYER_TYPE.UNKNOWN not found \n"
     ]
    },
    {
     "name": "stdout",
     "output_type": "stream",
     "text": [
      "xmin progress: 87%\r"
     ]
    },
    {
     "name": "stderr",
     "output_type": "stream",
     "text": [
      "Assuming nested distributions\n",
      "'nan' in fit cumulative distribution values.\n",
      "Likely underflow or overflow error: the optimal fit for this distribution gives values that are so extreme that we lack the numerical precision to calculate them.\n",
      "WARNING:weightwatcher:pytorch layer: BatchNorm2d(144, eps=1e-05, momentum=0.1, affine=True, track_running_stats=True)  type LAYER_TYPE.UNKNOWN not found \n",
      "Assuming nested distributions\n",
      "'nan' in fit cumulative distribution values.\n",
      "Likely underflow or overflow error: the optimal fit for this distribution gives values that are so extreme that we lack the numerical precision to calculate them.\n",
      "Assuming nested distributions\n",
      "Assuming nested distributions\n"
     ]
    },
    {
     "name": "stdout",
     "output_type": "stream",
     "text": [
      "xmin progress: 95%\r"
     ]
    },
    {
     "name": "stderr",
     "output_type": "stream",
     "text": [
      "WARNING:weightwatcher:pytorch layer: BatchNorm2d(24, eps=1e-05, momentum=0.1, affine=True, track_running_stats=True)  type LAYER_TYPE.UNKNOWN not found \n",
      "Assuming nested distributions\n",
      "WARNING:weightwatcher:pytorch layer: BatchNorm2d(144, eps=1e-05, momentum=0.1, affine=True, track_running_stats=True)  type LAYER_TYPE.UNKNOWN not found \n",
      "Assuming nested distributions\n",
      "WARNING:weightwatcher:pytorch layer: BatchNorm2d(144, eps=1e-05, momentum=0.1, affine=True, track_running_stats=True)  type LAYER_TYPE.UNKNOWN not found \n",
      "Assuming nested distributions\n"
     ]
    },
    {
     "name": "stdout",
     "output_type": "stream",
     "text": [
      "xmin progress: 80%\r"
     ]
    },
    {
     "name": "stderr",
     "output_type": "stream",
     "text": [
      "Assuming nested distributions\n",
      "'nan' in fit cumulative distribution values.\n",
      "Likely underflow or overflow error: the optimal fit for this distribution gives values that are so extreme that we lack the numerical precision to calculate them.\n"
     ]
    },
    {
     "name": "stdout",
     "output_type": "stream",
     "text": [
      "xmin progress: 97%\r"
     ]
    },
    {
     "name": "stderr",
     "output_type": "stream",
     "text": [
      "Assuming nested distributions\n",
      "WARNING:weightwatcher:pytorch layer: BatchNorm2d(40, eps=1e-05, momentum=0.1, affine=True, track_running_stats=True)  type LAYER_TYPE.UNKNOWN not found \n",
      "Assuming nested distributions\n",
      "WARNING:weightwatcher:pytorch layer: BatchNorm2d(240, eps=1e-05, momentum=0.1, affine=True, track_running_stats=True)  type LAYER_TYPE.UNKNOWN not found \n"
     ]
    },
    {
     "name": "stdout",
     "output_type": "stream",
     "text": [
      "xmin progress: 95%\r"
     ]
    },
    {
     "name": "stderr",
     "output_type": "stream",
     "text": [
      "Assuming nested distributions\n",
      "WARNING:weightwatcher:pytorch layer: BatchNorm2d(240, eps=1e-05, momentum=0.1, affine=True, track_running_stats=True)  type LAYER_TYPE.UNKNOWN not found \n",
      "Assuming nested distributions\n",
      "Assuming nested distributions\n"
     ]
    },
    {
     "name": "stdout",
     "output_type": "stream",
     "text": [
      "xmin progress: 79%\r"
     ]
    },
    {
     "name": "stderr",
     "output_type": "stream",
     "text": [
      "Assuming nested distributions\n",
      "WARNING:weightwatcher:pytorch layer: BatchNorm2d(40, eps=1e-05, momentum=0.1, affine=True, track_running_stats=True)  type LAYER_TYPE.UNKNOWN not found \n",
      "Assuming nested distributions\n",
      "WARNING:weightwatcher:pytorch layer: BatchNorm2d(240, eps=1e-05, momentum=0.1, affine=True, track_running_stats=True)  type LAYER_TYPE.UNKNOWN not found \n"
     ]
    },
    {
     "name": "stdout",
     "output_type": "stream",
     "text": [
      "xmin progress: 87%\r"
     ]
    },
    {
     "name": "stderr",
     "output_type": "stream",
     "text": [
      "Assuming nested distributions\n",
      "WARNING:weightwatcher:pytorch layer: BatchNorm2d(240, eps=1e-05, momentum=0.1, affine=True, track_running_stats=True)  type LAYER_TYPE.UNKNOWN not found \n",
      "Assuming nested distributions\n",
      "Assuming nested distributions\n"
     ]
    },
    {
     "name": "stdout",
     "output_type": "stream",
     "text": [
      "xmin progress: 27%"
     ]
    },
    {
     "name": "stderr",
     "output_type": "stream",
     "text": [
      "Assuming nested distributions\n",
      "WARNING:weightwatcher:pytorch layer: BatchNorm2d(80, eps=1e-05, momentum=0.1, affine=True, track_running_stats=True)  type LAYER_TYPE.UNKNOWN not found \n"
     ]
    },
    {
     "name": "stdout",
     "output_type": "stream",
     "text": [
      "xmin progress: 39%"
     ]
    },
    {
     "name": "stderr",
     "output_type": "stream",
     "text": [
      "Assuming nested distributions\n",
      "WARNING:weightwatcher:pytorch layer: BatchNorm2d(480, eps=1e-05, momentum=0.1, affine=True, track_running_stats=True)  type LAYER_TYPE.UNKNOWN not found \n",
      "Assuming nested distributions\n"
     ]
    },
    {
     "name": "stdout",
     "output_type": "stream",
     "text": [
      "xmin progress: 87%\r"
     ]
    },
    {
     "name": "stderr",
     "output_type": "stream",
     "text": [
      "'nan' in fit cumulative distribution values.\n",
      "Likely underflow or overflow error: the optimal fit for this distribution gives values that are so extreme that we lack the numerical precision to calculate them.\n",
      "WARNING:weightwatcher:pytorch layer: BatchNorm2d(480, eps=1e-05, momentum=0.1, affine=True, track_running_stats=True)  type LAYER_TYPE.UNKNOWN not found \n",
      "Assuming nested distributions\n",
      "Assuming nested distributions\n"
     ]
    },
    {
     "name": "stdout",
     "output_type": "stream",
     "text": [
      "xmin progress: 35%"
     ]
    },
    {
     "name": "stderr",
     "output_type": "stream",
     "text": [
      "Assuming nested distributions\n",
      "WARNING:weightwatcher:pytorch layer: BatchNorm2d(80, eps=1e-05, momentum=0.1, affine=True, track_running_stats=True)  type LAYER_TYPE.UNKNOWN not found \n"
     ]
    },
    {
     "name": "stdout",
     "output_type": "stream",
     "text": [
      "xmin progress: 40%"
     ]
    },
    {
     "name": "stderr",
     "output_type": "stream",
     "text": [
      "Assuming nested distributions\n",
      "WARNING:weightwatcher:pytorch layer: BatchNorm2d(480, eps=1e-05, momentum=0.1, affine=True, track_running_stats=True)  type LAYER_TYPE.UNKNOWN not found \n",
      "Assuming nested distributions\n"
     ]
    },
    {
     "name": "stdout",
     "output_type": "stream",
     "text": [
      "xmin progress: 87%\r"
     ]
    },
    {
     "name": "stderr",
     "output_type": "stream",
     "text": [
      "'nan' in fit cumulative distribution values.\n",
      "Likely underflow or overflow error: the optimal fit for this distribution gives values that are so extreme that we lack the numerical precision to calculate them.\n",
      "WARNING:weightwatcher:pytorch layer: BatchNorm2d(480, eps=1e-05, momentum=0.1, affine=True, track_running_stats=True)  type LAYER_TYPE.UNKNOWN not found \n",
      "Assuming nested distributions\n",
      "Assuming nested distributions\n"
     ]
    },
    {
     "name": "stdout",
     "output_type": "stream",
     "text": [
      "xmin progress: 78%\r"
     ]
    },
    {
     "name": "stderr",
     "output_type": "stream",
     "text": [
      "Assuming nested distributions\n",
      "WARNING:weightwatcher:pytorch layer: BatchNorm2d(80, eps=1e-05, momentum=0.1, affine=True, track_running_stats=True)  type LAYER_TYPE.UNKNOWN not found \n"
     ]
    },
    {
     "name": "stdout",
     "output_type": "stream",
     "text": [
      "xmin progress: 98%\r"
     ]
    },
    {
     "name": "stderr",
     "output_type": "stream",
     "text": [
      "Assuming nested distributions\n",
      "WARNING:weightwatcher:pytorch layer: BatchNorm2d(480, eps=1e-05, momentum=0.1, affine=True, track_running_stats=True)  type LAYER_TYPE.UNKNOWN not found \n",
      "Assuming nested distributions\n",
      "WARNING:weightwatcher:pytorch layer: BatchNorm2d(480, eps=1e-05, momentum=0.1, affine=True, track_running_stats=True)  type LAYER_TYPE.UNKNOWN not found \n",
      "Assuming nested distributions\n"
     ]
    },
    {
     "name": "stdout",
     "output_type": "stream",
     "text": [
      "xmin progress: 94%\r"
     ]
    },
    {
     "name": "stderr",
     "output_type": "stream",
     "text": [
      "Assuming nested distributions\n"
     ]
    },
    {
     "name": "stdout",
     "output_type": "stream",
     "text": [
      "xmin progress: 99%\r"
     ]
    },
    {
     "name": "stderr",
     "output_type": "stream",
     "text": [
      "Assuming nested distributions\n",
      "WARNING:weightwatcher:pytorch layer: BatchNorm2d(112, eps=1e-05, momentum=0.1, affine=True, track_running_stats=True)  type LAYER_TYPE.UNKNOWN not found \n"
     ]
    },
    {
     "name": "stdout",
     "output_type": "stream",
     "text": [
      "xmin progress: 99%\r"
     ]
    },
    {
     "name": "stderr",
     "output_type": "stream",
     "text": [
      "Assuming nested distributions\n",
      "WARNING:weightwatcher:pytorch layer: BatchNorm2d(672, eps=1e-05, momentum=0.1, affine=True, track_running_stats=True)  type LAYER_TYPE.UNKNOWN not found \n",
      "Assuming nested distributions\n",
      "WARNING:weightwatcher:pytorch layer: BatchNorm2d(672, eps=1e-05, momentum=0.1, affine=True, track_running_stats=True)  type LAYER_TYPE.UNKNOWN not found \n",
      "Assuming nested distributions\n"
     ]
    },
    {
     "name": "stdout",
     "output_type": "stream",
     "text": [
      "xmin progress: 96%\r"
     ]
    },
    {
     "name": "stderr",
     "output_type": "stream",
     "text": [
      "Assuming nested distributions\n"
     ]
    },
    {
     "name": "stdout",
     "output_type": "stream",
     "text": [
      "xmin progress: 99%\r"
     ]
    },
    {
     "name": "stderr",
     "output_type": "stream",
     "text": [
      "Assuming nested distributions\n",
      "WARNING:weightwatcher:pytorch layer: BatchNorm2d(112, eps=1e-05, momentum=0.1, affine=True, track_running_stats=True)  type LAYER_TYPE.UNKNOWN not found \n"
     ]
    },
    {
     "name": "stdout",
     "output_type": "stream",
     "text": [
      "xmin progress: 99%\r"
     ]
    },
    {
     "name": "stderr",
     "output_type": "stream",
     "text": [
      "Assuming nested distributions\n",
      "WARNING:weightwatcher:pytorch layer: BatchNorm2d(672, eps=1e-05, momentum=0.1, affine=True, track_running_stats=True)  type LAYER_TYPE.UNKNOWN not found \n",
      "Assuming nested distributions\n",
      "'nan' in fit cumulative distribution values.\n",
      "Likely underflow or overflow error: the optimal fit for this distribution gives values that are so extreme that we lack the numerical precision to calculate them.\n",
      "WARNING:weightwatcher:pytorch layer: BatchNorm2d(672, eps=1e-05, momentum=0.1, affine=True, track_running_stats=True)  type LAYER_TYPE.UNKNOWN not found \n",
      "Assuming nested distributions\n"
     ]
    },
    {
     "name": "stdout",
     "output_type": "stream",
     "text": [
      "xmin progress: 22%\r"
     ]
    },
    {
     "name": "stderr",
     "output_type": "stream",
     "text": [
      "Assuming nested distributions\n"
     ]
    },
    {
     "name": "stdout",
     "output_type": "stream",
     "text": [
      "xmin progress: 56%\r"
     ]
    },
    {
     "name": "stderr",
     "output_type": "stream",
     "text": [
      "Assuming nested distributions\n",
      "WARNING:weightwatcher:pytorch layer: BatchNorm2d(112, eps=1e-05, momentum=0.1, affine=True, track_running_stats=True)  type LAYER_TYPE.UNKNOWN not found \n"
     ]
    },
    {
     "name": "stdout",
     "output_type": "stream",
     "text": [
      "xmin progress: 27%"
     ]
    },
    {
     "name": "stderr",
     "output_type": "stream",
     "text": [
      "Assuming nested distributions\n",
      "WARNING:weightwatcher:pytorch layer: BatchNorm2d(672, eps=1e-05, momentum=0.1, affine=True, track_running_stats=True)  type LAYER_TYPE.UNKNOWN not found \n"
     ]
    },
    {
     "name": "stdout",
     "output_type": "stream",
     "text": [
      "xmin progress: 95%\r"
     ]
    },
    {
     "name": "stderr",
     "output_type": "stream",
     "text": [
      "Assuming nested distributions\n",
      "WARNING:weightwatcher:pytorch layer: BatchNorm2d(672, eps=1e-05, momentum=0.1, affine=True, track_running_stats=True)  type LAYER_TYPE.UNKNOWN not found \n",
      "Assuming nested distributions\n",
      "'nan' in fit cumulative distribution values.\n",
      "Likely underflow or overflow error: the optimal fit for this distribution gives values that are so extreme that we lack the numerical precision to calculate them.\n"
     ]
    },
    {
     "name": "stdout",
     "output_type": "stream",
     "text": [
      "xmin progress: 96%\r"
     ]
    },
    {
     "name": "stderr",
     "output_type": "stream",
     "text": [
      "Assuming nested distributions\n",
      "'nan' in fit cumulative distribution values.\n",
      "Likely underflow or overflow error: the optimal fit for this distribution gives values that are so extreme that we lack the numerical precision to calculate them.\n"
     ]
    },
    {
     "name": "stdout",
     "output_type": "stream",
     "text": [
      "xmin progress: 99%\r"
     ]
    },
    {
     "name": "stderr",
     "output_type": "stream",
     "text": [
      "Assuming nested distributions\n",
      "WARNING:weightwatcher:pytorch layer: BatchNorm2d(192, eps=1e-05, momentum=0.1, affine=True, track_running_stats=True)  type LAYER_TYPE.UNKNOWN not found \n"
     ]
    },
    {
     "name": "stdout",
     "output_type": "stream",
     "text": [
      "xmin progress: 99%\r"
     ]
    },
    {
     "name": "stderr",
     "output_type": "stream",
     "text": [
      "Assuming nested distributions\n",
      "WARNING:weightwatcher:pytorch layer: BatchNorm2d(1152, eps=1e-05, momentum=0.1, affine=True, track_running_stats=True)  type LAYER_TYPE.UNKNOWN not found \n",
      "Assuming nested distributions\n",
      "'nan' in fit cumulative distribution values.\n",
      "Likely underflow or overflow error: the optimal fit for this distribution gives values that are so extreme that we lack the numerical precision to calculate them.\n",
      "WARNING:weightwatcher:pytorch layer: BatchNorm2d(1152, eps=1e-05, momentum=0.1, affine=True, track_running_stats=True)  type LAYER_TYPE.UNKNOWN not found \n"
     ]
    },
    {
     "name": "stdout",
     "output_type": "stream",
     "text": [
      "xmin progress: 97%\r"
     ]
    },
    {
     "name": "stderr",
     "output_type": "stream",
     "text": [
      "Assuming nested distributions\n",
      "Assuming nested distributions\n"
     ]
    },
    {
     "name": "stdout",
     "output_type": "stream",
     "text": [
      "xmin progress: 50%\r"
     ]
    },
    {
     "name": "stderr",
     "output_type": "stream",
     "text": [
      "Assuming nested distributions\n",
      "WARNING:weightwatcher:pytorch layer: BatchNorm2d(192, eps=1e-05, momentum=0.1, affine=True, track_running_stats=True)  type LAYER_TYPE.UNKNOWN not found \n"
     ]
    },
    {
     "name": "stdout",
     "output_type": "stream",
     "text": [
      "xmin progress: 99%\r"
     ]
    },
    {
     "name": "stderr",
     "output_type": "stream",
     "text": [
      "Assuming nested distributions\n",
      "'nan' in fit cumulative distribution values.\n",
      "Likely underflow or overflow error: the optimal fit for this distribution gives values that are so extreme that we lack the numerical precision to calculate them.\n",
      "WARNING:weightwatcher:pytorch layer: BatchNorm2d(1152, eps=1e-05, momentum=0.1, affine=True, track_running_stats=True)  type LAYER_TYPE.UNKNOWN not found \n",
      "Assuming nested distributions\n",
      "'nan' in fit cumulative distribution values.\n",
      "Likely underflow or overflow error: the optimal fit for this distribution gives values that are so extreme that we lack the numerical precision to calculate them.\n",
      "WARNING:weightwatcher:pytorch layer: BatchNorm2d(1152, eps=1e-05, momentum=0.1, affine=True, track_running_stats=True)  type LAYER_TYPE.UNKNOWN not found \n"
     ]
    },
    {
     "name": "stdout",
     "output_type": "stream",
     "text": [
      "xmin progress: 97%\r"
     ]
    },
    {
     "name": "stderr",
     "output_type": "stream",
     "text": [
      "Assuming nested distributions\n",
      "Assuming nested distributions\n"
     ]
    },
    {
     "name": "stdout",
     "output_type": "stream",
     "text": [
      "xmin progress: 62%\r"
     ]
    },
    {
     "name": "stderr",
     "output_type": "stream",
     "text": [
      "Assuming nested distributions\n",
      "WARNING:weightwatcher:pytorch layer: BatchNorm2d(192, eps=1e-05, momentum=0.1, affine=True, track_running_stats=True)  type LAYER_TYPE.UNKNOWN not found \n"
     ]
    },
    {
     "name": "stdout",
     "output_type": "stream",
     "text": [
      "xmin progress: 99%\r"
     ]
    },
    {
     "name": "stderr",
     "output_type": "stream",
     "text": [
      "Assuming nested distributions\n",
      "WARNING:weightwatcher:pytorch layer: BatchNorm2d(1152, eps=1e-05, momentum=0.1, affine=True, track_running_stats=True)  type LAYER_TYPE.UNKNOWN not found \n"
     ]
    },
    {
     "name": "stdout",
     "output_type": "stream",
     "text": [
      "xmin progress: 95%\r"
     ]
    },
    {
     "name": "stderr",
     "output_type": "stream",
     "text": [
      "Assuming nested distributions\n",
      "'nan' in fit cumulative distribution values.\n",
      "Likely underflow or overflow error: the optimal fit for this distribution gives values that are so extreme that we lack the numerical precision to calculate them.\n",
      "WARNING:weightwatcher:pytorch layer: BatchNorm2d(1152, eps=1e-05, momentum=0.1, affine=True, track_running_stats=True)  type LAYER_TYPE.UNKNOWN not found \n"
     ]
    },
    {
     "name": "stdout",
     "output_type": "stream",
     "text": [
      "xmin progress: 97%\r"
     ]
    },
    {
     "name": "stderr",
     "output_type": "stream",
     "text": [
      "Assuming nested distributions\n",
      "Assuming nested distributions\n",
      "'nan' in fit cumulative distribution values.\n",
      "Likely underflow or overflow error: the optimal fit for this distribution gives values that are so extreme that we lack the numerical precision to calculate them.\n"
     ]
    },
    {
     "name": "stdout",
     "output_type": "stream",
     "text": [
      "xmin progress: 99%\r"
     ]
    },
    {
     "name": "stderr",
     "output_type": "stream",
     "text": [
      "Assuming nested distributions\n",
      "WARNING:weightwatcher:pytorch layer: BatchNorm2d(192, eps=1e-05, momentum=0.1, affine=True, track_running_stats=True)  type LAYER_TYPE.UNKNOWN not found \n"
     ]
    },
    {
     "name": "stdout",
     "output_type": "stream",
     "text": [
      "xmin progress: 99%\r"
     ]
    },
    {
     "name": "stderr",
     "output_type": "stream",
     "text": [
      "Assuming nested distributions\n",
      "'nan' in fit cumulative distribution values.\n",
      "Likely underflow or overflow error: the optimal fit for this distribution gives values that are so extreme that we lack the numerical precision to calculate them.\n",
      "WARNING:weightwatcher:pytorch layer: BatchNorm2d(1152, eps=1e-05, momentum=0.1, affine=True, track_running_stats=True)  type LAYER_TYPE.UNKNOWN not found \n",
      "Assuming nested distributions\n",
      "'nan' in fit cumulative distribution values.\n",
      "Likely underflow or overflow error: the optimal fit for this distribution gives values that are so extreme that we lack the numerical precision to calculate them.\n",
      "WARNING:weightwatcher:pytorch layer: BatchNorm2d(1152, eps=1e-05, momentum=0.1, affine=True, track_running_stats=True)  type LAYER_TYPE.UNKNOWN not found \n"
     ]
    },
    {
     "name": "stdout",
     "output_type": "stream",
     "text": [
      "xmin progress: 97%\r"
     ]
    },
    {
     "name": "stderr",
     "output_type": "stream",
     "text": [
      "Assuming nested distributions\n",
      "Assuming nested distributions\n",
      "'nan' in fit cumulative distribution values.\n",
      "Likely underflow or overflow error: the optimal fit for this distribution gives values that are so extreme that we lack the numerical precision to calculate them.\n"
     ]
    },
    {
     "name": "stdout",
     "output_type": "stream",
     "text": [
      "xmin progress: 99%\r"
     ]
    },
    {
     "name": "stderr",
     "output_type": "stream",
     "text": [
      "Assuming nested distributions\n",
      "WARNING:weightwatcher:pytorch layer: BatchNorm2d(320, eps=1e-05, momentum=0.1, affine=True, track_running_stats=True)  type LAYER_TYPE.UNKNOWN not found \n",
      "Assuming nested distributions\n",
      "WARNING:weightwatcher:pytorch layer: BatchNorm2d(64, eps=0.001, momentum=0.01, affine=True, track_running_stats=True)  type LAYER_TYPE.UNKNOWN not found \n"
     ]
    },
    {
     "name": "stdout",
     "output_type": "stream",
     "text": [
      "xmin progress: 87%\r"
     ]
    },
    {
     "name": "stderr",
     "output_type": "stream",
     "text": [
      "Assuming nested distributions\n",
      "Assuming nested distributions\n",
      "WARNING:weightwatcher:pytorch layer: BatchNorm2d(64, eps=0.001, momentum=0.01, affine=True, track_running_stats=True)  type LAYER_TYPE.UNKNOWN not found \n"
     ]
    },
    {
     "name": "stdout",
     "output_type": "stream",
     "text": [
      "xmin progress: 57%\r"
     ]
    },
    {
     "name": "stderr",
     "output_type": "stream",
     "text": [
      "Assuming nested distributions\n",
      "WARNING:weightwatcher:pytorch layer: BatchNorm2d(64, eps=0.001, momentum=0.01, affine=True, track_running_stats=True)  type LAYER_TYPE.UNKNOWN not found \n",
      "Assuming nested distributions\n"
     ]
    },
    {
     "name": "stdout",
     "output_type": "stream",
     "text": [
      "xmin progress: 39%\r"
     ]
    },
    {
     "name": "stderr",
     "output_type": "stream",
     "text": [
      "'nan' in fit cumulative distribution values.\n",
      "Likely underflow or overflow error: the optimal fit for this distribution gives values that are so extreme that we lack the numerical precision to calculate them.\n",
      "Assuming nested distributions\n",
      "WARNING:weightwatcher:pytorch layer: BatchNorm2d(64, eps=0.001, momentum=0.01, affine=True, track_running_stats=True)  type LAYER_TYPE.UNKNOWN not found \n"
     ]
    },
    {
     "name": "stdout",
     "output_type": "stream",
     "text": [
      "xmin progress: 98%\r"
     ]
    },
    {
     "name": "stderr",
     "output_type": "stream",
     "text": [
      "Assuming nested distributions\n",
      "WARNING:weightwatcher:pytorch layer: BatchNorm2d(64, eps=0.001, momentum=0.01, affine=True, track_running_stats=True)  type LAYER_TYPE.UNKNOWN not found \n",
      "Assuming nested distributions\n",
      "Assuming nested distributions\n",
      "WARNING:weightwatcher:pytorch layer: BatchNorm2d(64, eps=0.001, momentum=0.01, affine=True, track_running_stats=True)  type LAYER_TYPE.UNKNOWN not found \n"
     ]
    },
    {
     "name": "stdout",
     "output_type": "stream",
     "text": [
      "xmin progress: 23%\r"
     ]
    },
    {
     "name": "stderr",
     "output_type": "stream",
     "text": [
      "Assuming nested distributions\n",
      "WARNING:weightwatcher:pytorch layer: BatchNorm2d(64, eps=0.001, momentum=0.01, affine=True, track_running_stats=True)  type LAYER_TYPE.UNKNOWN not found \n",
      "Assuming nested distributions\n"
     ]
    },
    {
     "name": "stdout",
     "output_type": "stream",
     "text": [
      "xmin progress: 42%\r"
     ]
    },
    {
     "name": "stderr",
     "output_type": "stream",
     "text": [
      "Assuming nested distributions\n",
      "WARNING:weightwatcher:pytorch layer: BatchNorm2d(64, eps=0.001, momentum=0.01, affine=True, track_running_stats=True)  type LAYER_TYPE.UNKNOWN not found \n"
     ]
    },
    {
     "name": "stdout",
     "output_type": "stream",
     "text": [
      "xmin progress: 98%\r"
     ]
    },
    {
     "name": "stderr",
     "output_type": "stream",
     "text": [
      "Assuming nested distributions\n",
      "WARNING:weightwatcher:pytorch layer: BatchNorm2d(64, eps=0.001, momentum=0.01, affine=True, track_running_stats=True)  type LAYER_TYPE.UNKNOWN not found \n",
      "Assuming nested distributions\n",
      "'nan' in fit cumulative distribution values.\n",
      "Likely underflow or overflow error: the optimal fit for this distribution gives values that are so extreme that we lack the numerical precision to calculate them.\n"
     ]
    },
    {
     "name": "stdout",
     "output_type": "stream",
     "text": [
      "xmin progress: 98%\r"
     ]
    },
    {
     "name": "stderr",
     "output_type": "stream",
     "text": [
      "Assuming nested distributions\n",
      "WARNING:weightwatcher:pytorch layer: BatchNorm2d(64, eps=0.001, momentum=0.01, affine=True, track_running_stats=True)  type LAYER_TYPE.UNKNOWN not found \n",
      "Assuming nested distributions\n",
      "WARNING:weightwatcher:pytorch layer: BatchNorm2d(64, eps=0.001, momentum=0.01, affine=True, track_running_stats=True)  type LAYER_TYPE.UNKNOWN not found \n",
      "Assuming nested distributions\n"
     ]
    },
    {
     "name": "stdout",
     "output_type": "stream",
     "text": [
      "xmin progress: 87%\r"
     ]
    },
    {
     "name": "stderr",
     "output_type": "stream",
     "text": [
      "'nan' in fit cumulative distribution values.\n",
      "Likely underflow or overflow error: the optimal fit for this distribution gives values that are so extreme that we lack the numerical precision to calculate them.\n",
      "Assuming nested distributions\n",
      "WARNING:weightwatcher:pytorch layer: BatchNorm2d(64, eps=0.001, momentum=0.01, affine=True, track_running_stats=True)  type LAYER_TYPE.UNKNOWN not found \n",
      "Assuming nested distributions\n"
     ]
    },
    {
     "name": "stdout",
     "output_type": "stream",
     "text": [
      "xmin progress: 03%\r"
     ]
    },
    {
     "name": "stderr",
     "output_type": "stream",
     "text": [
      "Assuming nested distributions\n",
      "WARNING:weightwatcher:pytorch layer: BatchNorm2d(64, eps=0.001, momentum=0.01, affine=True, track_running_stats=True)  type LAYER_TYPE.UNKNOWN not found \n"
     ]
    },
    {
     "name": "stdout",
     "output_type": "stream",
     "text": [
      "xmin progress: 87%\r"
     ]
    },
    {
     "name": "stderr",
     "output_type": "stream",
     "text": [
      "Assuming nested distributions\n",
      "Assuming nested distributions\n",
      "WARNING:weightwatcher:pytorch layer: BatchNorm2d(64, eps=0.001, momentum=0.01, affine=True, track_running_stats=True)  type LAYER_TYPE.UNKNOWN not found \n"
     ]
    },
    {
     "name": "stdout",
     "output_type": "stream",
     "text": [
      "xmin progress: 11%\r"
     ]
    },
    {
     "name": "stderr",
     "output_type": "stream",
     "text": [
      "Assuming nested distributions\n",
      "Assuming nested distributions\n",
      "WARNING:weightwatcher:pytorch layer: BatchNorm2d(64, eps=0.001, momentum=0.01, affine=True, track_running_stats=True)  type LAYER_TYPE.UNKNOWN not found \n",
      "Assuming nested distributions\n"
     ]
    },
    {
     "name": "stdout",
     "output_type": "stream",
     "text": [
      "xmin progress: 87%\r"
     ]
    },
    {
     "name": "stderr",
     "output_type": "stream",
     "text": [
      "'nan' in fit cumulative distribution values.\n",
      "Likely underflow or overflow error: the optimal fit for this distribution gives values that are so extreme that we lack the numerical precision to calculate them.\n",
      "Assuming nested distributions\n",
      "WARNING:weightwatcher:pytorch layer: BatchNorm2d(64, eps=0.001, momentum=0.01, affine=True, track_running_stats=True)  type LAYER_TYPE.UNKNOWN not found \n",
      "Assuming nested distributions\n"
     ]
    },
    {
     "name": "stdout",
     "output_type": "stream",
     "text": [
      "xmin progress: 87%\r"
     ]
    },
    {
     "name": "stderr",
     "output_type": "stream",
     "text": [
      "Assuming nested distributions\n",
      "WARNING:weightwatcher:pytorch layer: BatchNorm2d(64, eps=0.001, momentum=0.01, affine=True, track_running_stats=True)  type LAYER_TYPE.UNKNOWN not found \n",
      "Assuming nested distributions\n"
     ]
    },
    {
     "name": "stdout",
     "output_type": "stream",
     "text": [
      "xmin progress: 00%\r"
     ]
    },
    {
     "name": "stderr",
     "output_type": "stream",
     "text": [
      "Assuming nested distributions\n",
      "WARNING:weightwatcher:pytorch layer: BatchNorm2d(64, eps=0.001, momentum=0.01, affine=True, track_running_stats=True)  type LAYER_TYPE.UNKNOWN not found \n"
     ]
    },
    {
     "name": "stdout",
     "output_type": "stream",
     "text": [
      "xmin progress: 87%\r"
     ]
    },
    {
     "name": "stderr",
     "output_type": "stream",
     "text": [
      "Assuming nested distributions\n",
      "'nan' in fit cumulative distribution values.\n",
      "Likely underflow or overflow error: the optimal fit for this distribution gives values that are so extreme that we lack the numerical precision to calculate them.\n",
      "Assuming nested distributions\n",
      "WARNING:weightwatcher:pytorch layer: BatchNorm2d(64, eps=0.001, momentum=0.01, affine=True, track_running_stats=True)  type LAYER_TYPE.UNKNOWN not found \n"
     ]
    },
    {
     "name": "stdout",
     "output_type": "stream",
     "text": [
      "xmin progress: 87%\r"
     ]
    },
    {
     "name": "stderr",
     "output_type": "stream",
     "text": [
      "Assuming nested distributions\n",
      "'nan' in fit cumulative distribution values.\n",
      "Likely underflow or overflow error: the optimal fit for this distribution gives values that are so extreme that we lack the numerical precision to calculate them.\n",
      "Assuming nested distributions\n",
      "WARNING:weightwatcher:pytorch layer: BatchNorm2d(64, eps=0.001, momentum=0.01, affine=True, track_running_stats=True)  type LAYER_TYPE.UNKNOWN not found \n"
     ]
    },
    {
     "name": "stdout",
     "output_type": "stream",
     "text": [
      "xmin progress: 87%\r"
     ]
    },
    {
     "name": "stderr",
     "output_type": "stream",
     "text": [
      "Assuming nested distributions\n",
      "'nan' in fit cumulative distribution values.\n",
      "Likely underflow or overflow error: the optimal fit for this distribution gives values that are so extreme that we lack the numerical precision to calculate them.\n",
      "Assuming nested distributions\n",
      "WARNING:weightwatcher:pytorch layer: BatchNorm2d(64, eps=0.001, momentum=0.01, affine=True, track_running_stats=True)  type LAYER_TYPE.UNKNOWN not found \n"
     ]
    },
    {
     "name": "stdout",
     "output_type": "stream",
     "text": [
      "xmin progress: 87%\r"
     ]
    },
    {
     "name": "stderr",
     "output_type": "stream",
     "text": [
      "Assuming nested distributions\n",
      "Assuming nested distributions\n",
      "WARNING:weightwatcher:pytorch layer: BatchNorm2d(64, eps=0.001, momentum=0.01, affine=True, track_running_stats=True)  type LAYER_TYPE.UNKNOWN not found \n"
     ]
    },
    {
     "name": "stdout",
     "output_type": "stream",
     "text": [
      "xmin progress: 87%\r"
     ]
    },
    {
     "name": "stderr",
     "output_type": "stream",
     "text": [
      "Assuming nested distributions\n",
      "Assuming nested distributions\n",
      "WARNING:weightwatcher:pytorch layer: BatchNorm2d(64, eps=0.001, momentum=0.01, affine=True, track_running_stats=True)  type LAYER_TYPE.UNKNOWN not found \n"
     ]
    },
    {
     "name": "stdout",
     "output_type": "stream",
     "text": [
      "xmin progress: 87%\r"
     ]
    },
    {
     "name": "stderr",
     "output_type": "stream",
     "text": [
      "Assuming nested distributions\n",
      "'nan' in fit cumulative distribution values.\n",
      "Likely underflow or overflow error: the optimal fit for this distribution gives values that are so extreme that we lack the numerical precision to calculate them.\n",
      "Assuming nested distributions\n",
      "WARNING:weightwatcher:pytorch layer: BatchNorm2d(64, eps=0.001, momentum=0.01, affine=True, track_running_stats=True)  type LAYER_TYPE.UNKNOWN not found \n"
     ]
    },
    {
     "name": "stdout",
     "output_type": "stream",
     "text": [
      "xmin progress: 06%\r"
     ]
    },
    {
     "name": "stderr",
     "output_type": "stream",
     "text": [
      "Assuming nested distributions\n",
      "Assuming nested distributions\n",
      "WARNING:weightwatcher:pytorch layer: BatchNorm2d(64, eps=0.001, momentum=0.01, affine=True, track_running_stats=True)  type LAYER_TYPE.UNKNOWN not found \n"
     ]
    },
    {
     "name": "stdout",
     "output_type": "stream",
     "text": [
      "xmin progress: 01%\r"
     ]
    },
    {
     "name": "stderr",
     "output_type": "stream",
     "text": [
      "Assuming nested distributions\n",
      "Assuming nested distributions\n",
      "WARNING:weightwatcher:pytorch layer: BatchNorm2d(64, eps=0.001, momentum=0.01, affine=True, track_running_stats=True)  type LAYER_TYPE.UNKNOWN not found \n"
     ]
    },
    {
     "name": "stdout",
     "output_type": "stream",
     "text": [
      "xmin progress: 03%\r"
     ]
    },
    {
     "name": "stderr",
     "output_type": "stream",
     "text": [
      "Assuming nested distributions\n",
      "Assuming nested distributions\n",
      "'nan' in fit cumulative distribution values.\n",
      "Likely underflow or overflow error: the optimal fit for this distribution gives values that are so extreme that we lack the numerical precision to calculate them.\n",
      "WARNING:weightwatcher:pytorch layer: BatchNorm2d(64, eps=0.001, momentum=0.01, affine=True, track_running_stats=True)  type LAYER_TYPE.UNKNOWN not found \n"
     ]
    },
    {
     "name": "stdout",
     "output_type": "stream",
     "text": [
      "xmin progress: 87%\r"
     ]
    },
    {
     "name": "stderr",
     "output_type": "stream",
     "text": [
      "Assuming nested distributions\n",
      "Assuming nested distributions\n",
      "WARNING:weightwatcher:pytorch layer: BatchNorm2d(64, eps=0.001, momentum=0.01, affine=True, track_running_stats=True)  type LAYER_TYPE.UNKNOWN not found \n"
     ]
    },
    {
     "name": "stdout",
     "output_type": "stream",
     "text": [
      "xmin progress: 87%\r"
     ]
    },
    {
     "name": "stderr",
     "output_type": "stream",
     "text": [
      "Assuming nested distributions\n",
      "Assuming nested distributions\n",
      "WARNING:weightwatcher:pytorch layer: BatchNorm2d(64, eps=0.001, momentum=0.01, affine=True, track_running_stats=True)  type LAYER_TYPE.UNKNOWN not found \n",
      "Assuming nested distributions\n"
     ]
    },
    {
     "name": "stdout",
     "output_type": "stream",
     "text": [
      "xmin progress: 87%\r"
     ]
    },
    {
     "name": "stderr",
     "output_type": "stream",
     "text": [
      "Assuming nested distributions\n",
      "WARNING:weightwatcher:pytorch layer: BatchNorm2d(64, eps=0.001, momentum=0.01, affine=True, track_running_stats=True)  type LAYER_TYPE.UNKNOWN not found \n"
     ]
    },
    {
     "name": "stdout",
     "output_type": "stream",
     "text": [
      "xmin progress: 87%\r"
     ]
    },
    {
     "name": "stderr",
     "output_type": "stream",
     "text": [
      "Assuming nested distributions\n",
      "'nan' in fit cumulative distribution values.\n",
      "Likely underflow or overflow error: the optimal fit for this distribution gives values that are so extreme that we lack the numerical precision to calculate them.\n",
      "Assuming nested distributions\n"
     ]
    },
    {
     "name": "stdout",
     "output_type": "stream",
     "text": [
      "xmin progress: 87%\r"
     ]
    },
    {
     "name": "stderr",
     "output_type": "stream",
     "text": [
      "'nan' in fit cumulative distribution values.\n",
      "Likely underflow or overflow error: the optimal fit for this distribution gives values that are so extreme that we lack the numerical precision to calculate them.\n",
      "Assuming nested distributions\n",
      "'nan' in fit cumulative distribution values.\n",
      "Likely underflow or overflow error: the optimal fit for this distribution gives values that are so extreme that we lack the numerical precision to calculate them.\n",
      "Assuming nested distributions\n"
     ]
    },
    {
     "name": "stdout",
     "output_type": "stream",
     "text": [
      "xmin progress: 87%\r"
     ]
    },
    {
     "name": "stderr",
     "output_type": "stream",
     "text": [
      "Assuming nested distributions\n",
      "Assuming nested distributions\n",
      "WARNING:weightwatcher:pytorch layer: BatchNorm2d(64, eps=0.001, momentum=0.01, affine=True, track_running_stats=True)  type LAYER_TYPE.UNKNOWN not found \n",
      "WARNING:weightwatcher:pytorch layer: BatchNorm2d(64, eps=0.001, momentum=0.01, affine=True, track_running_stats=True)  type LAYER_TYPE.UNKNOWN not found \n",
      "WARNING:weightwatcher:pytorch layer: BatchNorm2d(64, eps=0.001, momentum=0.01, affine=True, track_running_stats=True)  type LAYER_TYPE.UNKNOWN not found \n",
      "WARNING:weightwatcher:pytorch layer: BatchNorm2d(64, eps=0.001, momentum=0.01, affine=True, track_running_stats=True)  type LAYER_TYPE.UNKNOWN not found \n",
      "WARNING:weightwatcher:pytorch layer: BatchNorm2d(64, eps=0.001, momentum=0.01, affine=True, track_running_stats=True)  type LAYER_TYPE.UNKNOWN not found \n",
      "WARNING:weightwatcher:pytorch layer: BatchNorm2d(64, eps=0.001, momentum=0.01, affine=True, track_running_stats=True)  type LAYER_TYPE.UNKNOWN not found \n",
      "WARNING:weightwatcher:pytorch layer: BatchNorm2d(64, eps=0.001, momentum=0.01, affine=True, track_running_stats=True)  type LAYER_TYPE.UNKNOWN not found \n",
      "WARNING:weightwatcher:pytorch layer: BatchNorm2d(64, eps=0.001, momentum=0.01, affine=True, track_running_stats=True)  type LAYER_TYPE.UNKNOWN not found \n",
      "WARNING:weightwatcher:pytorch layer: BatchNorm2d(64, eps=0.001, momentum=0.01, affine=True, track_running_stats=True)  type LAYER_TYPE.UNKNOWN not found \n",
      "WARNING:weightwatcher:pytorch layer: BatchNorm2d(64, eps=0.001, momentum=0.01, affine=True, track_running_stats=True)  type LAYER_TYPE.UNKNOWN not found \n",
      "WARNING:weightwatcher:pytorch layer: BatchNorm2d(64, eps=0.001, momentum=0.01, affine=True, track_running_stats=True)  type LAYER_TYPE.UNKNOWN not found \n",
      "WARNING:weightwatcher:pytorch layer: BatchNorm2d(64, eps=0.001, momentum=0.01, affine=True, track_running_stats=True)  type LAYER_TYPE.UNKNOWN not found \n",
      "WARNING:weightwatcher:pytorch layer: BatchNorm2d(64, eps=0.001, momentum=0.01, affine=True, track_running_stats=True)  type LAYER_TYPE.UNKNOWN not found \n",
      "WARNING:weightwatcher:pytorch layer: BatchNorm2d(64, eps=0.001, momentum=0.01, affine=True, track_running_stats=True)  type LAYER_TYPE.UNKNOWN not found \n",
      "WARNING:weightwatcher:pytorch layer: BatchNorm2d(64, eps=0.001, momentum=0.01, affine=True, track_running_stats=True)  type LAYER_TYPE.UNKNOWN not found \n"
     ]
    },
    {
     "name": "stdout",
     "output_type": "stream",
     "text": [
      "xmin progress: 87%\r"
     ]
    },
    {
     "name": "stderr",
     "output_type": "stream",
     "text": [
      "Assuming nested distributions\n",
      "'nan' in fit cumulative distribution values.\n",
      "Likely underflow or overflow error: the optimal fit for this distribution gives values that are so extreme that we lack the numerical precision to calculate them.\n",
      "Assuming nested distributions\n"
     ]
    },
    {
     "name": "stdout",
     "output_type": "stream",
     "text": [
      "xmin progress: 87%\r"
     ]
    },
    {
     "name": "stderr",
     "output_type": "stream",
     "text": [
      "'nan' in fit cumulative distribution values.\n",
      "Likely underflow or overflow error: the optimal fit for this distribution gives values that are so extreme that we lack the numerical precision to calculate them.\n",
      "Assuming nested distributions\n",
      "Assuming nested distributions\n"
     ]
    },
    {
     "name": "stdout",
     "output_type": "stream",
     "text": [
      "xmin progress: 87%\r"
     ]
    },
    {
     "name": "stderr",
     "output_type": "stream",
     "text": [
      "Assuming nested distributions\n",
      "Assuming nested distributions\n"
     ]
    },
    {
     "name": "stdout",
     "output_type": "stream",
     "text": [
      "xmin progress: 87%\r"
     ]
    },
    {
     "name": "stderr",
     "output_type": "stream",
     "text": [
      "Assuming nested distributions\n",
      "'nan' in fit cumulative distribution values.\n",
      "Likely underflow or overflow error: the optimal fit for this distribution gives values that are so extreme that we lack the numerical precision to calculate them.\n",
      "Assuming nested distributions\n",
      "WARNING:weightwatcher:pytorch layer: BatchNorm2d(64, eps=0.001, momentum=0.01, affine=True, track_running_stats=True)  type LAYER_TYPE.UNKNOWN not found \n",
      "WARNING:weightwatcher:pytorch layer: BatchNorm2d(64, eps=0.001, momentum=0.01, affine=True, track_running_stats=True)  type LAYER_TYPE.UNKNOWN not found \n",
      "WARNING:weightwatcher:pytorch layer: BatchNorm2d(64, eps=0.001, momentum=0.01, affine=True, track_running_stats=True)  type LAYER_TYPE.UNKNOWN not found \n",
      "WARNING:weightwatcher:pytorch layer: BatchNorm2d(64, eps=0.001, momentum=0.01, affine=True, track_running_stats=True)  type LAYER_TYPE.UNKNOWN not found \n",
      "WARNING:weightwatcher:pytorch layer: BatchNorm2d(64, eps=0.001, momentum=0.01, affine=True, track_running_stats=True)  type LAYER_TYPE.UNKNOWN not found \n",
      "WARNING:weightwatcher:pytorch layer: BatchNorm2d(64, eps=0.001, momentum=0.01, affine=True, track_running_stats=True)  type LAYER_TYPE.UNKNOWN not found \n",
      "WARNING:weightwatcher:pytorch layer: BatchNorm2d(64, eps=0.001, momentum=0.01, affine=True, track_running_stats=True)  type LAYER_TYPE.UNKNOWN not found \n",
      "WARNING:weightwatcher:pytorch layer: BatchNorm2d(64, eps=0.001, momentum=0.01, affine=True, track_running_stats=True)  type LAYER_TYPE.UNKNOWN not found \n",
      "WARNING:weightwatcher:pytorch layer: BatchNorm2d(64, eps=0.001, momentum=0.01, affine=True, track_running_stats=True)  type LAYER_TYPE.UNKNOWN not found \n",
      "WARNING:weightwatcher:pytorch layer: BatchNorm2d(64, eps=0.001, momentum=0.01, affine=True, track_running_stats=True)  type LAYER_TYPE.UNKNOWN not found \n",
      "WARNING:weightwatcher:pytorch layer: BatchNorm2d(64, eps=0.001, momentum=0.01, affine=True, track_running_stats=True)  type LAYER_TYPE.UNKNOWN not found \n",
      "WARNING:weightwatcher:pytorch layer: BatchNorm2d(64, eps=0.001, momentum=0.01, affine=True, track_running_stats=True)  type LAYER_TYPE.UNKNOWN not found \n",
      "WARNING:weightwatcher:pytorch layer: BatchNorm2d(64, eps=0.001, momentum=0.01, affine=True, track_running_stats=True)  type LAYER_TYPE.UNKNOWN not found \n",
      "WARNING:weightwatcher:pytorch layer: BatchNorm2d(64, eps=0.001, momentum=0.01, affine=True, track_running_stats=True)  type LAYER_TYPE.UNKNOWN not found \n",
      "WARNING:weightwatcher:pytorch layer: BatchNorm2d(64, eps=0.001, momentum=0.01, affine=True, track_running_stats=True)  type LAYER_TYPE.UNKNOWN not found \n"
     ]
    },
    {
     "name": "stdout",
     "output_type": "stream",
     "text": [
      "xmin progress: 97%\r"
     ]
    },
    {
     "name": "stderr",
     "output_type": "stream",
     "text": [
      "Assuming nested distributions\n",
      "'nan' in fit cumulative distribution values.\n",
      "Likely underflow or overflow error: the optimal fit for this distribution gives values that are so extreme that we lack the numerical precision to calculate them.\n",
      "Assuming nested distributions\n"
     ]
    }
   ],
   "source": [
    "model = ObjectDetector(\n",
    "    head=\"efficientdet\", \n",
    "    backbone=\"d0\", \n",
    "    num_classes=91, # number of features in the CoCo dataset \n",
    "    image_size=128\n",
    ")\n",
    "watcher = ww.WeightWatcher(model=model)\n",
    "effecientdet_details = watcher.analyze()"
   ]
  },
  {
   "cell_type": "code",
   "execution_count": 4,
   "id": "f258a56a",
   "metadata": {},
   "outputs": [
    {
     "name": "stderr",
     "output_type": "stream",
     "text": [
      "INFO:pytorch_lightning.utilities.distributed:Using 'faster_rcnn' provided by airctic/IceVision (https://github.com/airctic/icevision) and PyTorch/torchvision (https://github.com/pytorch/vision).\n",
      "INFO:weightwatcher:\n",
      "\n",
      "python      version 3.8.8 (default, Apr 13 2021, 19:58:26) \n",
      "[GCC 7.3.0]\n",
      "numpy       version 1.21.2\n",
      "tensforflow version 2.6.0\n",
      "keras       version 2.6.0\n",
      "INFO:weightwatcher:Saving all images to ww-img\n",
      "INFO:weightwatcher:params {'glorot_fix': False, 'normalize': False, 'conv2d_norm': True, 'randomize': False, 'savedir': 'ww-img', 'savefig': 'ww-img', 'rescale': True, 'deltaEs': False, 'intra': False, 'channels': None, 'conv2d_fft': False, 'ww2x': False, 'min_evals': 0, 'max_evals': None, 'plot': False, 'mp_fit': False, 'layers': []}\n",
      "INFO:weightwatcher:Saving all images to ww-img\n",
      "Assuming nested distributions\n",
      "WARNING:weightwatcher:pytorch layer: BatchNorm2d(32, eps=1e-05, momentum=0.1, affine=True, track_running_stats=True)  type LAYER_TYPE.UNKNOWN not found \n",
      "Assuming nested distributions\n",
      "'nan' in fit cumulative distribution values.\n",
      "Likely underflow or overflow error: the optimal fit for this distribution gives values that are so extreme that we lack the numerical precision to calculate them.\n",
      "WARNING:weightwatcher:pytorch layer: BatchNorm2d(32, eps=1e-05, momentum=0.1, affine=True, track_running_stats=True)  type LAYER_TYPE.UNKNOWN not found \n",
      "Assuming nested distributions\n"
     ]
    },
    {
     "name": "stdout",
     "output_type": "stream",
     "text": [
      "xmin progress: 93%\r"
     ]
    },
    {
     "name": "stderr",
     "output_type": "stream",
     "text": [
      "WARNING:weightwatcher:pytorch layer: BatchNorm2d(16, eps=1e-05, momentum=0.1, affine=True, track_running_stats=True)  type LAYER_TYPE.UNKNOWN not found \n",
      "Assuming nested distributions\n",
      "WARNING:weightwatcher:pytorch layer: BatchNorm2d(96, eps=1e-05, momentum=0.1, affine=True, track_running_stats=True)  type LAYER_TYPE.UNKNOWN not found \n",
      "Assuming nested distributions\n",
      "WARNING:weightwatcher:pytorch layer: BatchNorm2d(96, eps=1e-05, momentum=0.1, affine=True, track_running_stats=True)  type LAYER_TYPE.UNKNOWN not found \n",
      "Assuming nested distributions\n"
     ]
    },
    {
     "name": "stdout",
     "output_type": "stream",
     "text": [
      "xmin progress: 95%\r"
     ]
    },
    {
     "name": "stderr",
     "output_type": "stream",
     "text": [
      "WARNING:weightwatcher:pytorch layer: BatchNorm2d(24, eps=1e-05, momentum=0.1, affine=True, track_running_stats=True)  type LAYER_TYPE.UNKNOWN not found \n",
      "Assuming nested distributions\n",
      "WARNING:weightwatcher:pytorch layer: BatchNorm2d(144, eps=1e-05, momentum=0.1, affine=True, track_running_stats=True)  type LAYER_TYPE.UNKNOWN not found \n",
      "Assuming nested distributions\n",
      "WARNING:weightwatcher:pytorch layer: BatchNorm2d(144, eps=1e-05, momentum=0.1, affine=True, track_running_stats=True)  type LAYER_TYPE.UNKNOWN not found \n",
      "Assuming nested distributions\n"
     ]
    },
    {
     "name": "stdout",
     "output_type": "stream",
     "text": [
      "xmin progress: 95%\r"
     ]
    },
    {
     "name": "stderr",
     "output_type": "stream",
     "text": [
      "WARNING:weightwatcher:pytorch layer: BatchNorm2d(24, eps=1e-05, momentum=0.1, affine=True, track_running_stats=True)  type LAYER_TYPE.UNKNOWN not found \n",
      "Assuming nested distributions\n",
      "WARNING:weightwatcher:pytorch layer: BatchNorm2d(144, eps=1e-05, momentum=0.1, affine=True, track_running_stats=True)  type LAYER_TYPE.UNKNOWN not found \n",
      "Assuming nested distributions\n",
      "WARNING:weightwatcher:pytorch layer: BatchNorm2d(144, eps=1e-05, momentum=0.1, affine=True, track_running_stats=True)  type LAYER_TYPE.UNKNOWN not found \n"
     ]
    },
    {
     "name": "stdout",
     "output_type": "stream",
     "text": [
      "xmin progress: 58%\r"
     ]
    },
    {
     "name": "stderr",
     "output_type": "stream",
     "text": [
      "Assuming nested distributions\n",
      "WARNING:weightwatcher:pytorch layer: BatchNorm2d(32, eps=1e-05, momentum=0.1, affine=True, track_running_stats=True)  type LAYER_TYPE.UNKNOWN not found \n",
      "Assuming nested distributions\n"
     ]
    },
    {
     "name": "stdout",
     "output_type": "stream",
     "text": [
      "xmin progress: 96%\r"
     ]
    },
    {
     "name": "stderr",
     "output_type": "stream",
     "text": [
      "'nan' in fit cumulative distribution values.\n",
      "Likely underflow or overflow error: the optimal fit for this distribution gives values that are so extreme that we lack the numerical precision to calculate them.\n",
      "WARNING:weightwatcher:pytorch layer: BatchNorm2d(192, eps=1e-05, momentum=0.1, affine=True, track_running_stats=True)  type LAYER_TYPE.UNKNOWN not found \n",
      "Assuming nested distributions\n",
      "'nan' in fit cumulative distribution values.\n",
      "Likely underflow or overflow error: the optimal fit for this distribution gives values that are so extreme that we lack the numerical precision to calculate them.\n",
      "WARNING:weightwatcher:pytorch layer: BatchNorm2d(192, eps=1e-05, momentum=0.1, affine=True, track_running_stats=True)  type LAYER_TYPE.UNKNOWN not found \n",
      "Assuming nested distributions\n",
      "WARNING:weightwatcher:pytorch layer: BatchNorm2d(32, eps=1e-05, momentum=0.1, affine=True, track_running_stats=True)  type LAYER_TYPE.UNKNOWN not found \n"
     ]
    },
    {
     "name": "stdout",
     "output_type": "stream",
     "text": [
      "xmin progress: 96%\r"
     ]
    },
    {
     "name": "stderr",
     "output_type": "stream",
     "text": [
      "Assuming nested distributions\n",
      "WARNING:weightwatcher:pytorch layer: BatchNorm2d(192, eps=1e-05, momentum=0.1, affine=True, track_running_stats=True)  type LAYER_TYPE.UNKNOWN not found \n",
      "Assuming nested distributions\n",
      "'nan' in fit cumulative distribution values.\n",
      "Likely underflow or overflow error: the optimal fit for this distribution gives values that are so extreme that we lack the numerical precision to calculate them.\n",
      "WARNING:weightwatcher:pytorch layer: BatchNorm2d(192, eps=1e-05, momentum=0.1, affine=True, track_running_stats=True)  type LAYER_TYPE.UNKNOWN not found \n",
      "Assuming nested distributions\n",
      "WARNING:weightwatcher:pytorch layer: BatchNorm2d(32, eps=1e-05, momentum=0.1, affine=True, track_running_stats=True)  type LAYER_TYPE.UNKNOWN not found \n"
     ]
    },
    {
     "name": "stdout",
     "output_type": "stream",
     "text": [
      "xmin progress: 35%\r"
     ]
    },
    {
     "name": "stderr",
     "output_type": "stream",
     "text": [
      "Assuming nested distributions\n",
      "WARNING:weightwatcher:pytorch layer: BatchNorm2d(192, eps=1e-05, momentum=0.1, affine=True, track_running_stats=True)  type LAYER_TYPE.UNKNOWN not found \n",
      "Assuming nested distributions\n",
      "WARNING:weightwatcher:pytorch layer: BatchNorm2d(192, eps=1e-05, momentum=0.1, affine=True, track_running_stats=True)  type LAYER_TYPE.UNKNOWN not found \n"
     ]
    },
    {
     "name": "stdout",
     "output_type": "stream",
     "text": [
      "xmin progress: 52%\r"
     ]
    },
    {
     "name": "stderr",
     "output_type": "stream",
     "text": [
      "Assuming nested distributions\n",
      "WARNING:weightwatcher:pytorch layer: BatchNorm2d(64, eps=1e-05, momentum=0.1, affine=True, track_running_stats=True)  type LAYER_TYPE.UNKNOWN not found \n"
     ]
    },
    {
     "name": "stdout",
     "output_type": "stream",
     "text": [
      "xmin progress: 98%\r"
     ]
    },
    {
     "name": "stderr",
     "output_type": "stream",
     "text": [
      "Assuming nested distributions\n",
      "WARNING:weightwatcher:pytorch layer: BatchNorm2d(384, eps=1e-05, momentum=0.1, affine=True, track_running_stats=True)  type LAYER_TYPE.UNKNOWN not found \n",
      "Assuming nested distributions\n",
      "WARNING:weightwatcher:pytorch layer: BatchNorm2d(384, eps=1e-05, momentum=0.1, affine=True, track_running_stats=True)  type LAYER_TYPE.UNKNOWN not found \n",
      "Assuming nested distributions\n"
     ]
    },
    {
     "name": "stdout",
     "output_type": "stream",
     "text": [
      "xmin progress: 98%\r"
     ]
    },
    {
     "name": "stderr",
     "output_type": "stream",
     "text": [
      "WARNING:weightwatcher:pytorch layer: BatchNorm2d(64, eps=1e-05, momentum=0.1, affine=True, track_running_stats=True)  type LAYER_TYPE.UNKNOWN not found \n"
     ]
    },
    {
     "name": "stdout",
     "output_type": "stream",
     "text": [
      "xmin progress: 79%\r"
     ]
    },
    {
     "name": "stderr",
     "output_type": "stream",
     "text": [
      "Assuming nested distributions\n",
      "WARNING:weightwatcher:pytorch layer: BatchNorm2d(384, eps=1e-05, momentum=0.1, affine=True, track_running_stats=True)  type LAYER_TYPE.UNKNOWN not found \n",
      "Assuming nested distributions\n",
      "'nan' in fit cumulative distribution values.\n",
      "Likely underflow or overflow error: the optimal fit for this distribution gives values that are so extreme that we lack the numerical precision to calculate them.\n",
      "WARNING:weightwatcher:pytorch layer: BatchNorm2d(384, eps=1e-05, momentum=0.1, affine=True, track_running_stats=True)  type LAYER_TYPE.UNKNOWN not found \n"
     ]
    },
    {
     "name": "stdout",
     "output_type": "stream",
     "text": [
      "xmin progress: 58%\r"
     ]
    },
    {
     "name": "stderr",
     "output_type": "stream",
     "text": [
      "Assuming nested distributions\n",
      "WARNING:weightwatcher:pytorch layer: BatchNorm2d(64, eps=1e-05, momentum=0.1, affine=True, track_running_stats=True)  type LAYER_TYPE.UNKNOWN not found \n"
     ]
    },
    {
     "name": "stdout",
     "output_type": "stream",
     "text": [
      "xmin progress: 98%\r"
     ]
    },
    {
     "name": "stderr",
     "output_type": "stream",
     "text": [
      "Assuming nested distributions\n",
      "WARNING:weightwatcher:pytorch layer: BatchNorm2d(384, eps=1e-05, momentum=0.1, affine=True, track_running_stats=True)  type LAYER_TYPE.UNKNOWN not found \n",
      "Assuming nested distributions\n",
      "'nan' in fit cumulative distribution values.\n",
      "Likely underflow or overflow error: the optimal fit for this distribution gives values that are so extreme that we lack the numerical precision to calculate them.\n",
      "WARNING:weightwatcher:pytorch layer: BatchNorm2d(384, eps=1e-05, momentum=0.1, affine=True, track_running_stats=True)  type LAYER_TYPE.UNKNOWN not found \n",
      "Assuming nested distributions\n"
     ]
    },
    {
     "name": "stdout",
     "output_type": "stream",
     "text": [
      "xmin progress: 98%\r"
     ]
    },
    {
     "name": "stderr",
     "output_type": "stream",
     "text": [
      "WARNING:weightwatcher:pytorch layer: BatchNorm2d(64, eps=1e-05, momentum=0.1, affine=True, track_running_stats=True)  type LAYER_TYPE.UNKNOWN not found \n",
      "Assuming nested distributions\n",
      "WARNING:weightwatcher:pytorch layer: BatchNorm2d(384, eps=1e-05, momentum=0.1, affine=True, track_running_stats=True)  type LAYER_TYPE.UNKNOWN not found \n",
      "Assuming nested distributions\n",
      "'nan' in fit cumulative distribution values.\n",
      "Likely underflow or overflow error: the optimal fit for this distribution gives values that are so extreme that we lack the numerical precision to calculate them.\n",
      "WARNING:weightwatcher:pytorch layer: BatchNorm2d(384, eps=1e-05, momentum=0.1, affine=True, track_running_stats=True)  type LAYER_TYPE.UNKNOWN not found \n"
     ]
    },
    {
     "name": "stdout",
     "output_type": "stream",
     "text": [
      "xmin progress: 87%\r"
     ]
    },
    {
     "name": "stderr",
     "output_type": "stream",
     "text": [
      "Assuming nested distributions\n"
     ]
    },
    {
     "name": "stdout",
     "output_type": "stream",
     "text": [
      "xmin progress: 98%\r"
     ]
    },
    {
     "name": "stderr",
     "output_type": "stream",
     "text": [
      "'nan' in fit cumulative distribution values.\n",
      "Likely underflow or overflow error: the optimal fit for this distribution gives values that are so extreme that we lack the numerical precision to calculate them.\n",
      "WARNING:weightwatcher:pytorch layer: BatchNorm2d(96, eps=1e-05, momentum=0.1, affine=True, track_running_stats=True)  type LAYER_TYPE.UNKNOWN not found \n",
      "Assuming nested distributions\n",
      "WARNING:weightwatcher:pytorch layer: BatchNorm2d(576, eps=1e-05, momentum=0.1, affine=True, track_running_stats=True)  type LAYER_TYPE.UNKNOWN not found \n"
     ]
    },
    {
     "name": "stdout",
     "output_type": "stream",
     "text": [
      "xmin progress: 37%\r"
     ]
    },
    {
     "name": "stderr",
     "output_type": "stream",
     "text": [
      "Assuming nested distributions\n",
      "'nan' in fit cumulative distribution values.\n",
      "Likely underflow or overflow error: the optimal fit for this distribution gives values that are so extreme that we lack the numerical precision to calculate them.\n",
      "WARNING:weightwatcher:pytorch layer: BatchNorm2d(576, eps=1e-05, momentum=0.1, affine=True, track_running_stats=True)  type LAYER_TYPE.UNKNOWN not found \n"
     ]
    },
    {
     "name": "stdout",
     "output_type": "stream",
     "text": [
      "xmin progress: 63%\r"
     ]
    },
    {
     "name": "stderr",
     "output_type": "stream",
     "text": [
      "Assuming nested distributions\n",
      "WARNING:weightwatcher:pytorch layer: BatchNorm2d(96, eps=1e-05, momentum=0.1, affine=True, track_running_stats=True)  type LAYER_TYPE.UNKNOWN not found \n"
     ]
    },
    {
     "name": "stdout",
     "output_type": "stream",
     "text": [
      "xmin progress: 44%\r"
     ]
    },
    {
     "name": "stderr",
     "output_type": "stream",
     "text": [
      "Assuming nested distributions\n",
      "WARNING:weightwatcher:pytorch layer: BatchNorm2d(576, eps=1e-05, momentum=0.1, affine=True, track_running_stats=True)  type LAYER_TYPE.UNKNOWN not found \n"
     ]
    },
    {
     "name": "stdout",
     "output_type": "stream",
     "text": [
      "xmin progress: 87%\r"
     ]
    },
    {
     "name": "stderr",
     "output_type": "stream",
     "text": [
      "Assuming nested distributions\n",
      "WARNING:weightwatcher:pytorch layer: BatchNorm2d(576, eps=1e-05, momentum=0.1, affine=True, track_running_stats=True)  type LAYER_TYPE.UNKNOWN not found \n"
     ]
    },
    {
     "name": "stdout",
     "output_type": "stream",
     "text": [
      "xmin progress: 98%\r"
     ]
    },
    {
     "name": "stderr",
     "output_type": "stream",
     "text": [
      "Assuming nested distributions\n",
      "WARNING:weightwatcher:pytorch layer: BatchNorm2d(96, eps=1e-05, momentum=0.1, affine=True, track_running_stats=True)  type LAYER_TYPE.UNKNOWN not found \n",
      "Assuming nested distributions\n",
      "WARNING:weightwatcher:pytorch layer: BatchNorm2d(576, eps=1e-05, momentum=0.1, affine=True, track_running_stats=True)  type LAYER_TYPE.UNKNOWN not found \n"
     ]
    },
    {
     "name": "stdout",
     "output_type": "stream",
     "text": [
      "xmin progress: 87%\r"
     ]
    },
    {
     "name": "stderr",
     "output_type": "stream",
     "text": [
      "Assuming nested distributions\n",
      "WARNING:weightwatcher:pytorch layer: BatchNorm2d(576, eps=1e-05, momentum=0.1, affine=True, track_running_stats=True)  type LAYER_TYPE.UNKNOWN not found \n"
     ]
    },
    {
     "name": "stdout",
     "output_type": "stream",
     "text": [
      "xmin progress: 73%\r"
     ]
    },
    {
     "name": "stderr",
     "output_type": "stream",
     "text": [
      "Assuming nested distributions\n",
      "WARNING:weightwatcher:pytorch layer: BatchNorm2d(160, eps=1e-05, momentum=0.1, affine=True, track_running_stats=True)  type LAYER_TYPE.UNKNOWN not found \n"
     ]
    },
    {
     "name": "stdout",
     "output_type": "stream",
     "text": [
      "xmin progress: 76%\r"
     ]
    },
    {
     "name": "stderr",
     "output_type": "stream",
     "text": [
      "Assuming nested distributions\n",
      "WARNING:weightwatcher:pytorch layer: BatchNorm2d(960, eps=1e-05, momentum=0.1, affine=True, track_running_stats=True)  type LAYER_TYPE.UNKNOWN not found \n",
      "Assuming nested distributions\n",
      "'nan' in fit cumulative distribution values.\n",
      "Likely underflow or overflow error: the optimal fit for this distribution gives values that are so extreme that we lack the numerical precision to calculate them.\n",
      "WARNING:weightwatcher:pytorch layer: BatchNorm2d(960, eps=1e-05, momentum=0.1, affine=True, track_running_stats=True)  type LAYER_TYPE.UNKNOWN not found \n"
     ]
    },
    {
     "name": "stdout",
     "output_type": "stream",
     "text": [
      "xmin progress: 73%\r"
     ]
    },
    {
     "name": "stderr",
     "output_type": "stream",
     "text": [
      "Assuming nested distributions\n",
      "WARNING:weightwatcher:pytorch layer: BatchNorm2d(160, eps=1e-05, momentum=0.1, affine=True, track_running_stats=True)  type LAYER_TYPE.UNKNOWN not found \n"
     ]
    },
    {
     "name": "stdout",
     "output_type": "stream",
     "text": [
      "xmin progress: 21%\r"
     ]
    },
    {
     "name": "stderr",
     "output_type": "stream",
     "text": [
      "Assuming nested distributions\n",
      "WARNING:weightwatcher:pytorch layer: BatchNorm2d(960, eps=1e-05, momentum=0.1, affine=True, track_running_stats=True)  type LAYER_TYPE.UNKNOWN not found \n"
     ]
    },
    {
     "name": "stdout",
     "output_type": "stream",
     "text": [
      "xmin progress: 87%\r"
     ]
    },
    {
     "name": "stderr",
     "output_type": "stream",
     "text": [
      "Assuming nested distributions\n",
      "'nan' in fit cumulative distribution values.\n",
      "Likely underflow or overflow error: the optimal fit for this distribution gives values that are so extreme that we lack the numerical precision to calculate them.\n",
      "WARNING:weightwatcher:pytorch layer: BatchNorm2d(960, eps=1e-05, momentum=0.1, affine=True, track_running_stats=True)  type LAYER_TYPE.UNKNOWN not found \n"
     ]
    },
    {
     "name": "stdout",
     "output_type": "stream",
     "text": [
      "xmin progress: 99%\r"
     ]
    },
    {
     "name": "stderr",
     "output_type": "stream",
     "text": [
      "Assuming nested distributions\n",
      "'nan' in fit cumulative distribution values.\n",
      "Likely underflow or overflow error: the optimal fit for this distribution gives values that are so extreme that we lack the numerical precision to calculate them.\n",
      "WARNING:weightwatcher:pytorch layer: BatchNorm2d(160, eps=1e-05, momentum=0.1, affine=True, track_running_stats=True)  type LAYER_TYPE.UNKNOWN not found \n"
     ]
    },
    {
     "name": "stdout",
     "output_type": "stream",
     "text": [
      "xmin progress: 67%"
     ]
    },
    {
     "name": "stderr",
     "output_type": "stream",
     "text": [
      "Assuming nested distributions\n",
      "'nan' in fit cumulative distribution values.\n",
      "Likely underflow or overflow error: the optimal fit for this distribution gives values that are so extreme that we lack the numerical precision to calculate them.\n",
      "WARNING:weightwatcher:pytorch layer: BatchNorm2d(960, eps=1e-05, momentum=0.1, affine=True, track_running_stats=True)  type LAYER_TYPE.UNKNOWN not found \n"
     ]
    },
    {
     "name": "stdout",
     "output_type": "stream",
     "text": [
      "xmin progress: 87%\r"
     ]
    },
    {
     "name": "stderr",
     "output_type": "stream",
     "text": [
      "Assuming nested distributions\n",
      "/home/sean/anaconda3/lib/python3.8/site-packages/powerlaw.py:1408: RuntimeWarning: overflow encountered in double_scalars\n",
      "  C = ( self.Lambda**(1-self.alpha) /\n",
      "/home/sean/anaconda3/lib/python3.8/site-packages/powerlaw.py:1408: RuntimeWarning: invalid value encountered in double_scalars\n",
      "  C = ( self.Lambda**(1-self.alpha) /\n",
      "'nan' in fit cumulative distribution values.\n",
      "Likely underflow or overflow error: the optimal fit for this distribution gives values that are so extreme that we lack the numerical precision to calculate them.\n",
      "WARNING:weightwatcher:pytorch layer: BatchNorm2d(960, eps=1e-05, momentum=0.1, affine=True, track_running_stats=True)  type LAYER_TYPE.UNKNOWN not found \n"
     ]
    },
    {
     "name": "stdout",
     "output_type": "stream",
     "text": [
      "xmin progress: 91%\r"
     ]
    },
    {
     "name": "stderr",
     "output_type": "stream",
     "text": [
      "Assuming nested distributions\n",
      "WARNING:weightwatcher:pytorch layer: BatchNorm2d(320, eps=1e-05, momentum=0.1, affine=True, track_running_stats=True)  type LAYER_TYPE.UNKNOWN not found \n"
     ]
    },
    {
     "name": "stdout",
     "output_type": "stream",
     "text": [
      "xmin progress: 99%\r"
     ]
    },
    {
     "name": "stderr",
     "output_type": "stream",
     "text": [
      "Assuming nested distributions\n",
      "'nan' in fit cumulative distribution values.\n",
      "Likely underflow or overflow error: the optimal fit for this distribution gives values that are so extreme that we lack the numerical precision to calculate them.\n",
      "WARNING:weightwatcher:pytorch layer: BatchNorm2d(1280, eps=1e-05, momentum=0.1, affine=True, track_running_stats=True)  type LAYER_TYPE.UNKNOWN not found \n"
     ]
    },
    {
     "name": "stdout",
     "output_type": "stream",
     "text": [
      "xmin progress: 99%\r"
     ]
    },
    {
     "name": "stderr",
     "output_type": "stream",
     "text": [
      "/home/sean/anaconda3/lib/python3.8/site-packages/powerlaw.py:1184: RuntimeWarning: overflow encountered in power\n",
      "  return x**-self.alpha\n",
      "/home/sean/anaconda3/lib/python3.8/site-packages/powerlaw.py:835: RuntimeWarning: invalid value encountered in multiply\n",
      "  likelihoods = f*C\n",
      "Assuming nested distributions\n"
     ]
    },
    {
     "name": "stdout",
     "output_type": "stream",
     "text": [
      "xmin progress: 90%\r"
     ]
    },
    {
     "name": "stderr",
     "output_type": "stream",
     "text": [
      "Assuming nested distributions\n",
      "Assuming nested distributions\n"
     ]
    },
    {
     "name": "stdout",
     "output_type": "stream",
     "text": [
      "xmin progress: 99%\r"
     ]
    },
    {
     "name": "stderr",
     "output_type": "stream",
     "text": [
      "Assuming nested distributions\n"
     ]
    },
    {
     "name": "stdout",
     "output_type": "stream",
     "text": [
      "xmin progress: 99%\r"
     ]
    },
    {
     "name": "stderr",
     "output_type": "stream",
     "text": [
      "Assuming nested distributions\n"
     ]
    },
    {
     "name": "stdout",
     "output_type": "stream",
     "text": [
      "xmin progress: 98%\r"
     ]
    },
    {
     "name": "stderr",
     "output_type": "stream",
     "text": [
      "Assuming nested distributions\n"
     ]
    },
    {
     "name": "stdout",
     "output_type": "stream",
     "text": [
      "xmin progress: 99%\r"
     ]
    },
    {
     "name": "stderr",
     "output_type": "stream",
     "text": [
      "Assuming nested distributions\n"
     ]
    }
   ],
   "source": [
    "model = ObjectDetector(\n",
    "    head=\"faster_rcnn\", \n",
    "    backbone=\"mobilenet\", \n",
    "    num_classes=91, # number of features in the CoCo dataset \n",
    "    image_size=128\n",
    ")\n",
    "watcher = ww.WeightWatcher(model=model)\n",
    "faster_rcnn_details = watcher.analyze()"
   ]
  },
  {
   "cell_type": "code",
   "execution_count": 5,
   "id": "aecda234",
   "metadata": {},
   "outputs": [],
   "source": [
    "params = {\n",
    "    'legend.fontsize': 'x-large',\n",
    "    'figure.figsize': (7,5),\n",
    "    'axes.labelsize': 'x-large',\n",
    "    'axes.titlesize':'xx-large',\n",
    "    'xtick.labelsize':'xx-large',\n",
    "    'ytick.labelsize':'xx-large'\n",
    "}\n",
    "plt.rcParams.update(params)"
   ]
  },
  {
   "cell_type": "code",
   "execution_count": 6,
   "id": "8303ed80",
   "metadata": {},
   "outputs": [
    {
     "data": {
      "image/png": "[encoded data removed]",
      "text/plain": [
       "<Figure size 576x396 with 1 Axes>"
      ]
     },
     "metadata": {},
     "output_type": "display_data"
    }
   ],
   "source": [
    "effecientdet_details.alpha.plot.hist(bins=100, color='red', alpha=0.5, density=True, label='effecientdet')\n",
    "faster_rcnn_details.alpha.plot.hist(bins=100, color='green', density=True, label='faster rcnn')\n",
    "plt.legend()\n",
    "plt.xlabel(r\"alpha $(\\alpha)$ PL exponent\")\n",
    "plt.style.use(\"seaborn\")\n",
    "plt.show()"
   ]
  },
  {
   "cell_type": "markdown",
   "id": "f31afe94",
   "metadata": {},
   "source": [
    "The alpha metric can be used to detect overfitting and other generalization analytics. See the [README](https://github.com/CalculatedContent/WeightWatcher#advanced-usage) for more information and visit the [Lightning Flash documentation](https://lightning-flash.readthedocs.io/en/latest/index.html) to see more tasks!"
   ]
  }
 ],
 "metadata": {
  "kernelspec": {
   "display_name": "Python 3",
   "language": "python",
   "name": "python3"
  },
  "language_info": {
   "codemirror_mode": {
    "name": "ipython",
    "version": 3
   },
   "file_extension": ".py",
   "mimetype": "text/x-python",
   "name": "python",
   "nbconvert_exporter": "python",
   "pygments_lexer": "ipython3",
   "version": "3.8.8"
  }
 },
 "nbformat": 4,
 "nbformat_minor": 5
}
