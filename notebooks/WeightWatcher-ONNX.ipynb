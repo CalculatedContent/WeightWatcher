{
 "cells": [
  {
   "cell_type": "markdown",
   "metadata": {},
   "source": [
    "\n",
    "# WeightWatcher - ONNX\n",
    "\n",
    "### Note:  some ONNX models, such as VGG, appear to me malformed\n",
    "\n"
   ]
  },
  {
   "cell_type": "code",
   "execution_count": 14,
   "metadata": {
    "ExecuteTime": {
     "end_time": "2019-03-05T23:51:16.544327Z",
     "start_time": "2019-03-05T23:51:16.531457Z"
    }
   },
   "outputs": [],
   "source": [
    "# Suppress the powerlaw package warnings\n",
    "# \"powerlaw.py:700: RuntimeWarning: divide by zero encountered in true_divide\"\n",
    "# \"powerlaw.py:700: RuntimeWarning: invalid value encountered in true_divide\"\n",
    "import warnings\n",
    "warnings.simplefilter(action='ignore', category=RuntimeWarning)"
   ]
  },
  {
   "cell_type": "code",
   "execution_count": 15,
   "metadata": {
    "scrolled": true
   },
   "outputs": [],
   "source": [
    "import numpy as np\n",
    "import pandas as pd\n",
    "\n",
    "from tqdm import tqdm\n",
    "\n",
    "import matplotlib\n",
    "import matplotlib.pyplot as plt\n",
    "%matplotlib inline"
   ]
  },
  {
   "cell_type": "markdown",
   "metadata": {
    "ExecuteTime": {
     "end_time": "2019-03-06T00:16:43.249725Z",
     "start_time": "2019-03-06T00:16:43.240611Z"
    }
   },
   "source": [
    "### Import WeightWatcher\n",
    "\n",
    "set custom Logging at WARN Level"
   ]
  },
  {
   "cell_type": "code",
   "execution_count": 16,
   "metadata": {
    "scrolled": true
   },
   "outputs": [],
   "source": [
    "import logging\n",
    "logging.basicConfig(level=logging.INFO)\n",
    "logger = logging.getLogger(__name__)\n",
    "logger.setLevel(logging.INFO)\n"
   ]
  },
  {
   "cell_type": "code",
   "execution_count": 17,
   "metadata": {},
   "outputs": [],
   "source": [
    "import weightwatcher as ww"
   ]
  },
  {
   "cell_type": "code",
   "execution_count": 18,
   "metadata": {},
   "outputs": [
    {
     "data": {
      "text/plain": [
       "'0.4.8'"
      ]
     },
     "execution_count": 18,
     "metadata": {},
     "output_type": "execute_result"
    }
   ],
   "source": [
    "ww.__version__"
   ]
  },
  {
   "cell_type": "code",
   "execution_count": 19,
   "metadata": {},
   "outputs": [],
   "source": [
    "import onnx\n"
   ]
  },
  {
   "cell_type": "code",
   "execution_count": 24,
   "metadata": {},
   "outputs": [],
   "source": [
    "model = onnx.load(\"/Users/charleshmartin/work/tempNetwork.onnx\")\n",
    "\n",
    "#model = onnx.load(\"/Users/charleshmartin/work/alexnet.onnx\")\n",
    "#model = onnx.load(\"/Users/charleshmartin/work/vgg16.onnx\")\n"
   ]
  },
  {
   "cell_type": "code",
   "execution_count": 25,
   "metadata": {},
   "outputs": [
    {
     "name": "stderr",
     "output_type": "stream",
     "text": [
      "INFO:weightwatcher:\n",
      "\n",
      "python      version 3.8.5 (default, Sep  4 2020, 02:22:02) \n",
      "[Clang 10.0.0 ]\n",
      "numpy       version 1.18.5\n",
      "tensforflow version 2.3.0\n",
      "keras       version 2.4.0\n"
     ]
    }
   ],
   "source": [
    "watcher = ww.WeightWatcher(model=model)"
   ]
  },
  {
   "cell_type": "code",
   "execution_count": 26,
   "metadata": {
    "scrolled": false
   },
   "outputs": [
    {
     "name": "stderr",
     "output_type": "stream",
     "text": [
      "INFO:weightwatcher:params {'glorot_fix': False, 'normalize': False, 'conv2d_norm': True, 'randomize': False, 'savefig': False, 'rescale': True, 'deltas': False, 'min_evals': 0, 'max_evals': None, 'plot': False, 'mp_fit': False, 'ww2x': False, 'deltaEs': False}\n",
      "INFO:weightwatcher:Layer id 0  unknown type 1 layer  <class 'onnx.onnx_ml_pb2.TensorProto'>\n",
      "INFO:weightwatcher:Layer id 1  unknown type 1 layer  <class 'onnx.onnx_ml_pb2.TensorProto'>\n",
      "INFO:weightwatcher:LAYER: 2 8  : <class 'onnx.onnx_ml_pb2.TensorProto'>\n",
      "INFO:weightwatcher:Layer id 3  unknown type 1 layer  <class 'onnx.onnx_ml_pb2.TensorProto'>\n",
      "INFO:weightwatcher:Layer id 4  unknown type 1 layer  <class 'onnx.onnx_ml_pb2.TensorProto'>\n",
      "INFO:weightwatcher:Layer id 5  unknown type 1 layer  <class 'onnx.onnx_ml_pb2.TensorProto'>\n",
      "INFO:weightwatcher:LAYER: 6 8  : <class 'onnx.onnx_ml_pb2.TensorProto'>\n",
      "INFO:weightwatcher:Layer id 7  unknown type 1 layer  <class 'onnx.onnx_ml_pb2.TensorProto'>\n",
      "INFO:weightwatcher:Layer id 8  unknown type 1 layer  <class 'onnx.onnx_ml_pb2.TensorProto'>\n",
      "INFO:weightwatcher:Layer id 9  unknown type 1 layer  <class 'onnx.onnx_ml_pb2.TensorProto'>\n",
      "INFO:weightwatcher:LAYER: 10 8  : <class 'onnx.onnx_ml_pb2.TensorProto'>\n",
      "INFO:weightwatcher:Layer id 11  unknown type 1 layer  <class 'onnx.onnx_ml_pb2.TensorProto'>\n",
      "INFO:weightwatcher:Layer id 12  unknown type 1 layer  <class 'onnx.onnx_ml_pb2.TensorProto'>\n",
      "INFO:weightwatcher:Layer id 13  unknown type 1 layer  <class 'onnx.onnx_ml_pb2.TensorProto'>\n",
      "INFO:weightwatcher:LAYER: 14 8  : <class 'onnx.onnx_ml_pb2.TensorProto'>\n",
      "INFO:weightwatcher:Layer id 15  unknown type 1 layer  <class 'onnx.onnx_ml_pb2.TensorProto'>\n",
      "INFO:weightwatcher:Layer id 16  unknown type 1 layer  <class 'onnx.onnx_ml_pb2.TensorProto'>\n",
      "INFO:weightwatcher:Layer id 17  unknown type 1 layer  <class 'onnx.onnx_ml_pb2.TensorProto'>\n",
      "INFO:weightwatcher:Layer id 18  unknown type 1 layer  <class 'onnx.onnx_ml_pb2.TensorProto'>\n",
      "INFO:weightwatcher:Layer id 19  unknown type 1 layer  <class 'onnx.onnx_ml_pb2.TensorProto'>\n",
      "INFO:weightwatcher:Layer id 20  unknown type 1 layer  <class 'onnx.onnx_ml_pb2.TensorProto'>\n",
      "INFO:weightwatcher:Layer id 21  unknown type 1 layer  <class 'onnx.onnx_ml_pb2.TensorProto'>\n",
      "INFO:weightwatcher:Layer id 22  unknown type 1 layer  <class 'onnx.onnx_ml_pb2.TensorProto'>\n",
      "INFO:weightwatcher:LAYER: 23 2  : <class 'onnx.onnx_ml_pb2.TensorProto'>\n",
      "INFO:weightwatcher:Layer id 24  unknown type 1 layer  <class 'onnx.onnx_ml_pb2.TensorProto'>\n",
      "INFO:weightwatcher:Layer id 25  unknown type 1 layer  <class 'onnx.onnx_ml_pb2.TensorProto'>\n",
      "INFO:weightwatcher:Layer id 26  unknown type 1 layer  <class 'onnx.onnx_ml_pb2.TensorProto'>\n"
     ]
    },
    {
     "data": {
      "text/html": [
       "<div>\n",
       "<style scoped>\n",
       "    .dataframe tbody tr th:only-of-type {\n",
       "        vertical-align: middle;\n",
       "    }\n",
       "\n",
       "    .dataframe tbody tr th {\n",
       "        vertical-align: top;\n",
       "    }\n",
       "\n",
       "    .dataframe thead th {\n",
       "        text-align: right;\n",
       "    }\n",
       "</style>\n",
       "<table border=\"1\" class=\"dataframe\">\n",
       "  <thead>\n",
       "    <tr style=\"text-align: right;\">\n",
       "      <th></th>\n",
       "      <th>layer_id</th>\n",
       "      <th>name</th>\n",
       "      <th>D</th>\n",
       "      <th>M</th>\n",
       "      <th>N</th>\n",
       "      <th>alpha</th>\n",
       "      <th>alpha_weighted</th>\n",
       "      <th>entropy</th>\n",
       "      <th>has_esd</th>\n",
       "      <th>lambda_max</th>\n",
       "      <th>...</th>\n",
       "      <th>num_evals</th>\n",
       "      <th>num_pl_spikes</th>\n",
       "      <th>rank_loss</th>\n",
       "      <th>rf</th>\n",
       "      <th>sigma</th>\n",
       "      <th>spectral_norm</th>\n",
       "      <th>stable_rank</th>\n",
       "      <th>sv_max</th>\n",
       "      <th>xmax</th>\n",
       "      <th>xmin</th>\n",
       "    </tr>\n",
       "  </thead>\n",
       "  <tbody>\n",
       "    <tr>\n",
       "      <th>0</th>\n",
       "      <td>2</td>\n",
       "      <td>None</td>\n",
       "      <td>0.166866</td>\n",
       "      <td>1.0</td>\n",
       "      <td>10.0</td>\n",
       "      <td>4.574295</td>\n",
       "      <td>-5.283359</td>\n",
       "      <td>0.989995</td>\n",
       "      <td>1.0</td>\n",
       "      <td>0.069983</td>\n",
       "      <td>...</td>\n",
       "      <td>25.0</td>\n",
       "      <td>24.0</td>\n",
       "      <td>0.0</td>\n",
       "      <td>25.0</td>\n",
       "      <td>0.729600</td>\n",
       "      <td>0.069983</td>\n",
       "      <td>13.643873</td>\n",
       "      <td>0.264542</td>\n",
       "      <td>0.069983</td>\n",
       "      <td>0.028408</td>\n",
       "    </tr>\n",
       "    <tr>\n",
       "      <th>1</th>\n",
       "      <td>6</td>\n",
       "      <td>None</td>\n",
       "      <td>0.194783</td>\n",
       "      <td>7.0</td>\n",
       "      <td>7.0</td>\n",
       "      <td>2.301953</td>\n",
       "      <td>-2.420305</td>\n",
       "      <td>0.848028</td>\n",
       "      <td>1.0</td>\n",
       "      <td>0.088835</td>\n",
       "      <td>...</td>\n",
       "      <td>35.0</td>\n",
       "      <td>20.0</td>\n",
       "      <td>0.0</td>\n",
       "      <td>5.0</td>\n",
       "      <td>0.291126</td>\n",
       "      <td>0.088835</td>\n",
       "      <td>8.666678</td>\n",
       "      <td>0.298053</td>\n",
       "      <td>0.088835</td>\n",
       "      <td>0.014366</td>\n",
       "    </tr>\n",
       "    <tr>\n",
       "      <th>2</th>\n",
       "      <td>10</td>\n",
       "      <td>None</td>\n",
       "      <td>0.270755</td>\n",
       "      <td>9.0</td>\n",
       "      <td>9.0</td>\n",
       "      <td>2.942506</td>\n",
       "      <td>-3.334799</td>\n",
       "      <td>0.861890</td>\n",
       "      <td>1.0</td>\n",
       "      <td>0.073567</td>\n",
       "      <td>...</td>\n",
       "      <td>27.0</td>\n",
       "      <td>12.0</td>\n",
       "      <td>0.0</td>\n",
       "      <td>3.0</td>\n",
       "      <td>0.560753</td>\n",
       "      <td>0.073567</td>\n",
       "      <td>9.045430</td>\n",
       "      <td>0.271232</td>\n",
       "      <td>0.073567</td>\n",
       "      <td>0.025990</td>\n",
       "    </tr>\n",
       "    <tr>\n",
       "      <th>3</th>\n",
       "      <td>14</td>\n",
       "      <td>None</td>\n",
       "      <td>0.197402</td>\n",
       "      <td>10.0</td>\n",
       "      <td>10.0</td>\n",
       "      <td>3.552141</td>\n",
       "      <td>-4.414356</td>\n",
       "      <td>0.866025</td>\n",
       "      <td>1.0</td>\n",
       "      <td>0.057183</td>\n",
       "      <td>...</td>\n",
       "      <td>50.0</td>\n",
       "      <td>18.0</td>\n",
       "      <td>0.0</td>\n",
       "      <td>5.0</td>\n",
       "      <td>0.601545</td>\n",
       "      <td>0.057183</td>\n",
       "      <td>13.092802</td>\n",
       "      <td>0.239130</td>\n",
       "      <td>0.057183</td>\n",
       "      <td>0.021059</td>\n",
       "    </tr>\n",
       "    <tr>\n",
       "      <th>4</th>\n",
       "      <td>23</td>\n",
       "      <td>None</td>\n",
       "      <td>0.500000</td>\n",
       "      <td>2.0</td>\n",
       "      <td>24.0</td>\n",
       "      <td>1.170336</td>\n",
       "      <td>0.911176</td>\n",
       "      <td>0.000146</td>\n",
       "      <td>1.0</td>\n",
       "      <td>6.005640</td>\n",
       "      <td>...</td>\n",
       "      <td>2.0</td>\n",
       "      <td>2.0</td>\n",
       "      <td>0.0</td>\n",
       "      <td>1.0</td>\n",
       "      <td>0.120445</td>\n",
       "      <td>6.005640</td>\n",
       "      <td>1.000008</td>\n",
       "      <td>2.450641</td>\n",
       "      <td>6.005640</td>\n",
       "      <td>0.000048</td>\n",
       "    </tr>\n",
       "  </tbody>\n",
       "</table>\n",
       "<p>5 rows × 26 columns</p>\n",
       "</div>"
      ],
      "text/plain": [
       "  layer_id  name         D     M     N     alpha  alpha_weighted   entropy  \\\n",
       "0        2  None  0.166866   1.0  10.0  4.574295       -5.283359  0.989995   \n",
       "1        6  None  0.194783   7.0   7.0  2.301953       -2.420305  0.848028   \n",
       "2       10  None  0.270755   9.0   9.0  2.942506       -3.334799  0.861890   \n",
       "3       14  None  0.197402  10.0  10.0  3.552141       -4.414356  0.866025   \n",
       "4       23  None  0.500000   2.0  24.0  1.170336        0.911176  0.000146   \n",
       "\n",
       "   has_esd  lambda_max  ... num_evals  num_pl_spikes  rank_loss    rf  \\\n",
       "0      1.0    0.069983  ...      25.0           24.0        0.0  25.0   \n",
       "1      1.0    0.088835  ...      35.0           20.0        0.0   5.0   \n",
       "2      1.0    0.073567  ...      27.0           12.0        0.0   3.0   \n",
       "3      1.0    0.057183  ...      50.0           18.0        0.0   5.0   \n",
       "4      1.0    6.005640  ...       2.0            2.0        0.0   1.0   \n",
       "\n",
       "      sigma  spectral_norm  stable_rank    sv_max      xmax      xmin  \n",
       "0  0.729600       0.069983    13.643873  0.264542  0.069983  0.028408  \n",
       "1  0.291126       0.088835     8.666678  0.298053  0.088835  0.014366  \n",
       "2  0.560753       0.073567     9.045430  0.271232  0.073567  0.025990  \n",
       "3  0.601545       0.057183    13.092802  0.239130  0.057183  0.021059  \n",
       "4  0.120445       6.005640     1.000008  2.450641  6.005640  0.000048  \n",
       "\n",
       "[5 rows x 26 columns]"
      ]
     },
     "execution_count": 26,
     "metadata": {},
     "output_type": "execute_result"
    }
   ],
   "source": [
    "watcher.analyze(plot=False)"
   ]
  },
  {
   "cell_type": "code",
   "execution_count": null,
   "metadata": {},
   "outputs": [],
   "source": []
  },
  {
   "cell_type": "code",
   "execution_count": null,
   "metadata": {},
   "outputs": [],
   "source": []
  }
 ],
 "metadata": {
  "kernelspec": {
   "display_name": "Python 3",
   "language": "python",
   "name": "python3"
  },
  "language_info": {
   "codemirror_mode": {
    "name": "ipython",
    "version": 3
   },
   "file_extension": ".py",
   "mimetype": "text/x-python",
   "name": "python",
   "nbconvert_exporter": "python",
   "pygments_lexer": "ipython3",
   "version": "3.8.5"
  }
 },
 "nbformat": 4,
 "nbformat_minor": 4
}
