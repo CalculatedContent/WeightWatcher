{
 "cells": [
  {
   "cell_type": "code",
   "execution_count": null,
   "id": "8a235fa0-4727-4278-a707-080435f92e16",
   "metadata": {},
   "outputs": [],
   "source": [
    "from numpy.random import seed\n",
    "seed(1)\n",
    "import tensorflow\n",
    "tensorflow.random.set_seed(2)"
   ]
  },
  {
   "cell_type": "code",
   "execution_count": null,
   "id": "5b252eeb-3c8c-4af2-9cd1-000c0f5e58f7",
   "metadata": {},
   "outputs": [],
   "source": [
    "from tensorflow import keras\n",
    "from tensorflow.keras import layers\n",
    "import numpy as np\n",
    "import scipy as sp\n",
    "import sklearn\n",
    "from sklearn.decomposition import TruncatedSVD\n",
    "from matplotlib import pyplot as plt\n",
    "from IPython.display import clear_output\n",
    "import powerlaw\n",
    "import tensorflow_addons as tfa\n",
    "import copy\n",
    "import weightwatcher as ww\n",
    "import imageio\n",
    "from datetime import datetime\n",
    "import io\n",
    "import cv2\n",
    "# Suppress the powerlaw package warnings\n",
    "# \"powerlaw.py:700: RuntimeWarning: divide by zero encountered in true_divide\"\n",
    "# \"powerlaw.py:700: RuntimeWarning: invalid value encountered in true_divide\"\n",
    "import warnings\n",
    "warnings.simplefilter(action='ignore', category=RuntimeWarning)\n",
    "import random"
   ]
  },
  {
   "cell_type": "code",
   "execution_count": null,
   "id": "45bf19f5-4259-48c9-bc3d-e3f5b9e2fff3",
   "metadata": {},
   "outputs": [],
   "source": [
    "# Model / data parameters\n",
    "num_classes = 10\n",
    "inputShape = (28, 28, 1)\n",
    "\n",
    "# the data, split between train and test sets\n",
    "(x_train, y_train), (x_test, y_test) = keras.datasets.mnist.load_data()\n",
    "\n",
    "# Scale images to the [0, 1] range\n",
    "x_train = x_train.astype(\"float32\") / 255\n",
    "x_test = x_test.astype(\"float32\") / 255\n",
    "# Make sure images have shape (28, 28, 1)\n",
    "x_train = np.expand_dims(x_train, -1)\n",
    "x_test = np.expand_dims(x_test, -1)\n",
    "print(\"x_train shape:\", x_train.shape)\n",
    "print(x_train.shape[0], \"train samples\")\n",
    "print(x_test.shape[0], \"test samples\")\n",
    "\n",
    "# convert class vectors to binary class matrices\n",
    "y_train = keras.utils.to_categorical(y_train, num_classes)\n",
    "y_test = keras.utils.to_categorical(y_test, num_classes)\n",
    "\n",
    "# shuffle training set and its labels accordingly\n",
    "trainingIndexes = np.arange(0,y_train.shape[0]).tolist()\n",
    "random.shuffle(trainingIndexes)\n",
    "x_train = x_train[trainingIndexes,:,:,:]\n",
    "y_train = y_train[trainingIndexes,:]"
   ]
  },
  {
   "cell_type": "code",
   "execution_count": null,
   "id": "eeb0c8fa-f333-4a2d-b176-7a91005e0282",
   "metadata": {},
   "outputs": [],
   "source": [
    "# LENET\n",
    "model = keras.Sequential(\n",
    "    [\n",
    "        keras.layers.InputLayer(input_shape=inputShape),\n",
    "        layers.Conv2D(filters=32, kernel_size=(5,5), padding='same', activation='relu'),\n",
    "        layers.MaxPool2D(strides=2),\n",
    "        layers.Conv2D(filters=48, kernel_size=(5,5), padding='valid', activation='relu'),\n",
    "        layers.MaxPool2D(strides=2),\n",
    "        layers.Flatten(),\n",
    "        layers.Dense(256, activation='relu'),\n",
    "        layers.Dense(84, activation='relu'),\n",
    "        layers.Dense(10, activation='softmax'),\n",
    "    ]\n",
    ")\n",
    " \n",
    "model.summary()"
   ]
  },
  {
   "cell_type": "code",
   "execution_count": null,
   "id": "a5cfa60c-c861-456b-8dcb-c10b6e2b76c5",
   "metadata": {},
   "outputs": [],
   "source": [
    "trainingSize = 2000\n",
    "testSize = 10000\n",
    "batch_size = 128\n",
    "epochs = 15\n",
    "learningRate = .001"
   ]
  },
  {
   "cell_type": "code",
   "execution_count": null,
   "id": "0b46b282-5273-4a6a-9f0d-da1b7628c48f",
   "metadata": {},
   "outputs": [],
   "source": [
    "opt = keras.optimizers.Adam(learning_rate=learningRate)\n",
    " \n",
    "model.compile(loss=\"categorical_crossentropy\", optimizer=opt, metrics=[\"accuracy\"])\n",
    " \n",
    "model.fit(x_train[0:trainingSize], y_train[0:trainingSize], batch_size=batch_size, epochs=epochs, validation_split=0)"
   ]
  },
  {
   "cell_type": "code",
   "execution_count": null,
   "id": "7d4333ed-972b-4aab-a30e-22f090add63d",
   "metadata": {
    "tags": []
   },
   "outputs": [],
   "source": [
    "# do a deep copy (keras clone) of the model and work with that\n",
    "modelToSmooth = keras.models.clone_model(model)\n",
    "modelToSmooth.build(model.input_shape) \n",
    "modelToSmooth.compile(loss=model.loss, optimizer=model.optimizer, metrics=[\"accuracy\"])\n",
    "modelToSmooth.set_weights(model.get_weights())\n",
    "    \n",
    "watcher = ww.WeightWatcher(model=modelToSmooth)\n",
    "watcher.analyze()"
   ]
  },
  {
   "cell_type": "code",
   "execution_count": null,
   "id": "3288dc7d-2ef6-4b70-b33b-530b1ed2446c",
   "metadata": {},
   "outputs": [],
   "source": [
    "print(\"Training set accuracy \" + str(modelToSmooth.evaluate(x_train[0:trainingSize], y_train[0:trainingSize], verbose=0)[1]))"
   ]
  },
  {
   "cell_type": "code",
   "execution_count": null,
   "id": "cbc0ca3d-1c8c-4b33-bdd5-9e6f19164202",
   "metadata": {},
   "outputs": [],
   "source": [
    "print(\"Test set accuracy \" + str(modelToSmooth.evaluate(x_test[0:testSize], y_test[0:testSize], verbose=0)[1]))"
   ]
  },
  {
   "cell_type": "code",
   "execution_count": null,
   "id": "b99f36ac-6351-44bb-b03f-40310dcc4c81",
   "metadata": {
    "tags": []
   },
   "outputs": [],
   "source": [
    "(_, nComponents) = watcher.unifiedSVDSmoothing(methodSelectComponents = \"mp_spikes\") \n",
    "# Other options are: \n",
    "# methodSelectComponents = \"powerlaw_xmin\" ==> default\n",
    "# methodSelectComponents = \"powerlaw_spikes\"\n",
    "# methodSelectComponents = \"percentage\", percent = 0.49\n",
    "print(\"Components selected \" + str(nComponents))"
   ]
  },
  {
   "cell_type": "code",
   "execution_count": null,
   "id": "095ebc58-a60e-48f9-ba36-7e40b3c1ecdd",
   "metadata": {},
   "outputs": [],
   "source": [
    "print(\"Estimated test accuracy \" + str(modelToSmooth.evaluate(x_train[0:trainingSize], y_train[0:trainingSize], verbose=0)[1]))"
   ]
  }
 ],
 "metadata": {
  "kernelspec": {
   "display_name": "Python 3",
   "language": "python",
   "name": "python3"
  },
  "language_info": {
   "codemirror_mode": {
    "name": "ipython",
    "version": 3
   },
   "file_extension": ".py",
   "mimetype": "text/x-python",
   "name": "python",
   "nbconvert_exporter": "python",
   "pygments_lexer": "ipython3",
   "version": "3.8.10"
  }
 },
 "nbformat": 4,
 "nbformat_minor": 5
}
