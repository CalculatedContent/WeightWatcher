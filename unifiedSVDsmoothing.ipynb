{
 "cells": [
  {
   "cell_type": "code",
   "execution_count": 1,
   "id": "8a235fa0-4727-4278-a707-080435f92e16",
   "metadata": {},
   "outputs": [],
   "source": [
    "from numpy.random import seed\n",
    "seed(1)\n",
    "import tensorflow\n",
    "tensorflow.random.set_seed(2)"
   ]
  },
  {
   "cell_type": "code",
   "execution_count": 2,
   "id": "5b252eeb-3c8c-4af2-9cd1-000c0f5e58f7",
   "metadata": {},
   "outputs": [],
   "source": [
    "from tensorflow import keras\n",
    "from tensorflow.keras import layers\n",
    "import numpy as np\n",
    "import scipy as sp\n",
    "import sklearn\n",
    "from sklearn.decomposition import TruncatedSVD\n",
    "from matplotlib import pyplot as plt\n",
    "from IPython.display import clear_output\n",
    "import powerlaw\n",
    "import tensorflow_addons as tfa\n",
    "import copy\n",
    "import weightwatcher as ww\n",
    "import imageio\n",
    "from datetime import datetime\n",
    "import io\n",
    "import cv2\n",
    "# Suppress the powerlaw package warnings\n",
    "# \"powerlaw.py:700: RuntimeWarning: divide by zero encountered in true_divide\"\n",
    "# \"powerlaw.py:700: RuntimeWarning: invalid value encountered in true_divide\"\n",
    "import warnings\n",
    "warnings.simplefilter(action='ignore', category=RuntimeWarning)\n",
    "import random"
   ]
  },
  {
   "cell_type": "code",
   "execution_count": 3,
   "id": "45bf19f5-4259-48c9-bc3d-e3f5b9e2fff3",
   "metadata": {},
   "outputs": [
    {
     "name": "stdout",
     "output_type": "stream",
     "text": [
      "x_train shape: (60000, 28, 28, 1)\n",
      "60000 train samples\n",
      "10000 test samples\n"
     ]
    }
   ],
   "source": [
    "# Model / data parameters\n",
    "num_classes = 10\n",
    "inputShape = (28, 28, 1)\n",
    "\n",
    "# the data, split between train and test sets\n",
    "(x_train, y_train), (x_test, y_test) = keras.datasets.mnist.load_data()\n",
    "\n",
    "# Scale images to the [0, 1] range\n",
    "x_train = x_train.astype(\"float32\") / 255\n",
    "x_test = x_test.astype(\"float32\") / 255\n",
    "# Make sure images have shape (28, 28, 1)\n",
    "x_train = np.expand_dims(x_train, -1)\n",
    "x_test = np.expand_dims(x_test, -1)\n",
    "print(\"x_train shape:\", x_train.shape)\n",
    "print(x_train.shape[0], \"train samples\")\n",
    "print(x_test.shape[0], \"test samples\")\n",
    "\n",
    "# convert class vectors to binary class matrices\n",
    "y_train = keras.utils.to_categorical(y_train, num_classes)\n",
    "y_test = keras.utils.to_categorical(y_test, num_classes)\n",
    "\n",
    "# shuffle training set and its labels accordingly\n",
    "trainingIndexes = np.arange(0,y_train.shape[0]).tolist()\n",
    "random.shuffle(trainingIndexes)\n",
    "x_train = x_train[trainingIndexes,:,:,:]\n",
    "y_train = y_train[trainingIndexes,:]"
   ]
  },
  {
   "cell_type": "code",
   "execution_count": 4,
   "id": "eeb0c8fa-f333-4a2d-b176-7a91005e0282",
   "metadata": {},
   "outputs": [
    {
     "name": "stdout",
     "output_type": "stream",
     "text": [
      "Model: \"sequential\"\n",
      "_________________________________________________________________\n",
      "Layer (type)                 Output Shape              Param #   \n",
      "=================================================================\n",
      "conv2d (Conv2D)              (None, 28, 28, 32)        832       \n",
      "_________________________________________________________________\n",
      "max_pooling2d (MaxPooling2D) (None, 14, 14, 32)        0         \n",
      "_________________________________________________________________\n",
      "conv2d_1 (Conv2D)            (None, 10, 10, 48)        38448     \n",
      "_________________________________________________________________\n",
      "max_pooling2d_1 (MaxPooling2 (None, 5, 5, 48)          0         \n",
      "_________________________________________________________________\n",
      "flatten (Flatten)            (None, 1200)              0         \n",
      "_________________________________________________________________\n",
      "dense (Dense)                (None, 256)               307456    \n",
      "_________________________________________________________________\n",
      "dense_1 (Dense)              (None, 84)                21588     \n",
      "_________________________________________________________________\n",
      "dense_2 (Dense)              (None, 10)                850       \n",
      "=================================================================\n",
      "Total params: 369,174\n",
      "Trainable params: 369,174\n",
      "Non-trainable params: 0\n",
      "_________________________________________________________________\n"
     ]
    }
   ],
   "source": [
    "# LENET\n",
    "model = keras.Sequential(\n",
    "    [\n",
    "        keras.layers.InputLayer(input_shape=inputShape),\n",
    "        layers.Conv2D(filters=32, kernel_size=(5,5), padding='same', activation='relu'),\n",
    "        layers.MaxPool2D(strides=2),\n",
    "        layers.Conv2D(filters=48, kernel_size=(5,5), padding='valid', activation='relu'),\n",
    "        layers.MaxPool2D(strides=2),\n",
    "        layers.Flatten(),\n",
    "        layers.Dense(256, activation='relu'),\n",
    "        layers.Dense(84, activation='relu'),\n",
    "        layers.Dense(10, activation='softmax'),\n",
    "    ]\n",
    ")\n",
    " \n",
    "model.summary()"
   ]
  },
  {
   "cell_type": "code",
   "execution_count": 5,
   "id": "a5cfa60c-c861-456b-8dcb-c10b6e2b76c5",
   "metadata": {},
   "outputs": [],
   "source": [
    "trainingSize = 2000\n",
    "testSize = 10000\n",
    "batch_size = 128\n",
    "epochs = 15\n",
    "learningRate = .001"
   ]
  },
  {
   "cell_type": "code",
   "execution_count": 6,
   "id": "0b46b282-5273-4a6a-9f0d-da1b7628c48f",
   "metadata": {},
   "outputs": [
    {
     "name": "stdout",
     "output_type": "stream",
     "text": [
      "Epoch 1/15\n",
      "16/16 [==============================] - 3s 99ms/step - loss: 1.6177 - accuracy: 0.4930 0s - loss: 1.6177 - accuracy: 0.49\n",
      "Epoch 2/15\n",
      "16/16 [==============================] - 2s 95ms/step - loss: 0.5322 - accuracy: 0.8260\n",
      "Epoch 3/15\n",
      "16/16 [==============================] - 2s 95ms/step - loss: 0.3884 - accuracy: 0.8790\n",
      "Epoch 4/15\n",
      "16/16 [==============================] - 2s 93ms/step - loss: 0.2689 - accuracy: 0.9125\n",
      "Epoch 5/15\n",
      "16/16 [==============================] - 2s 94ms/step - loss: 0.2005 - accuracy: 0.9335\n",
      "Epoch 6/15\n",
      "16/16 [==============================] - 2s 95ms/step - loss: 0.1692 - accuracy: 0.9415\n",
      "Epoch 7/15\n",
      "16/16 [==============================] - 2s 96ms/step - loss: 0.1311 - accuracy: 0.9570\n",
      "Epoch 8/15\n",
      "16/16 [==============================] - 2s 95ms/step - loss: 0.0807 - accuracy: 0.9755\n",
      "Epoch 9/15\n",
      "16/16 [==============================] - 2s 97ms/step - loss: 0.0584 - accuracy: 0.9860\n",
      "Epoch 10/15\n",
      "16/16 [==============================] - 2s 96ms/step - loss: 0.0538 - accuracy: 0.9855\n",
      "Epoch 11/15\n",
      "16/16 [==============================] - 1s 94ms/step - loss: 0.0444 - accuracy: 0.9860\n",
      "Epoch 12/15\n",
      "16/16 [==============================] - 2s 97ms/step - loss: 0.0295 - accuracy: 0.9910\n",
      "Epoch 13/15\n",
      "16/16 [==============================] - 2s 97ms/step - loss: 0.0194 - accuracy: 0.9970\n",
      "Epoch 14/15\n",
      "16/16 [==============================] - 2s 99ms/step - loss: 0.0158 - accuracy: 0.9970\n",
      "Epoch 15/15\n",
      "16/16 [==============================] - 2s 102ms/step - loss: 0.0103 - accuracy: 0.9990\n"
     ]
    },
    {
     "data": {
      "text/plain": [
       "<tensorflow.python.keras.callbacks.History at 0x2f700698be0>"
      ]
     },
     "execution_count": 6,
     "metadata": {},
     "output_type": "execute_result"
    }
   ],
   "source": [
    "#opt = keras.optimizers.SGD(learning_rate=.01, momentum = 0.9) \n",
    "opt = keras.optimizers.Adam(learning_rate=learningRate)\n",
    " \n",
    "model.compile(loss=\"categorical_crossentropy\", optimizer=opt, metrics=[\"accuracy\"])\n",
    " \n",
    "model.fit(x_train[0:trainingSize], y_train[0:trainingSize], batch_size=batch_size, epochs=epochs, validation_split=0)"
   ]
  },
  {
   "cell_type": "code",
   "execution_count": 7,
   "id": "7d4333ed-972b-4aab-a30e-22f090add63d",
   "metadata": {},
   "outputs": [
    {
     "name": "stderr",
     "output_type": "stream",
     "text": [
      "INFO:weightwatcher:\n",
      "\n",
      "python      version 3.8.10 (tags/v3.8.10:3d8993a, May  3 2021, 11:48:03) [MSC v.1928 64 bit (AMD64)]\n",
      "numpy       version 1.19.5\n",
      "tensforflow version 2.5.0\n",
      "keras       version 2.5.0\n",
      "INFO:weightwatcher:params {'glorot_fix': False, 'normalize': False, 'conv2d_norm': True, 'randomize': False, 'savefig': False, 'rescale': True, 'deltaEs': False, 'intra': False, 'channels': None, 'conv2d_fft': False, 'ww2x': False, 'min_evals': 0, 'max_evals': None, 'plot': False, 'mp_fit': False, 'layers': []}\n",
      "INFO:weightwatcher:params {'glorot_fix': False, 'normalize': False, 'conv2d_norm': True, 'randomize': False, 'savefig': False, 'rescale': True, 'deltaEs': False, 'intra': False, 'channels': None, 'conv2d_fft': False, 'ww2x': False, 'min_evals': 0, 'max_evals': None, 'plot': False, 'mp_fit': False, 'layers': []}\n",
      "INFO:weightwatcher:LAYER: 0 16  : <class 'tensorflow.python.keras.layers.convolutional.Conv2D'>\n",
      "Assuming nested distributions\n",
      "INFO:weightwatcher:compare dist=lognormal R=0.7729215354930392 p=0.43956881876838916\n",
      "WARNING:weightwatcher:keras layer: max_pooling2d <tensorflow.python.keras.layers.pooling.MaxPooling2D object at 0x000002F77A25EE20>  type LAYER_TYPE.UNKNOWN not found \n",
      "INFO:weightwatcher:LAYER: 2 16  : <class 'tensorflow.python.keras.layers.convolutional.Conv2D'>\n",
      "Assuming nested distributions\n",
      "WARNING:weightwatcher:keras layer: max_pooling2d_1 <tensorflow.python.keras.layers.pooling.MaxPooling2D object at 0x000002F709D380A0>  type LAYER_TYPE.UNKNOWN not found \n",
      "WARNING:weightwatcher:keras layer: flatten <tensorflow.python.keras.layers.core.Flatten object at 0x000002F709D38580>  type LAYER_TYPE.FLATTENED not found \n",
      "INFO:weightwatcher:LAYER: 5 4  : <class 'tensorflow.python.keras.layers.core.Dense'>\n",
      "Assuming nested distributions\n",
      "INFO:weightwatcher:LAYER: 6 4  : <class 'tensorflow.python.keras.layers.core.Dense'>\n",
      "Assuming nested distributions\n",
      "INFO:weightwatcher:compare dist=lognormal R=0.19060360631660198 p=0.8488361645625709\n",
      "INFO:weightwatcher:LAYER: 7 4  : <class 'tensorflow.python.keras.layers.core.Dense'>\n",
      "Assuming nested distributions\n"
     ]
    },
    {
     "data": {
      "text/html": [
       "<div>\n",
       "<style scoped>\n",
       "    .dataframe tbody tr th:only-of-type {\n",
       "        vertical-align: middle;\n",
       "    }\n",
       "\n",
       "    .dataframe tbody tr th {\n",
       "        vertical-align: top;\n",
       "    }\n",
       "\n",
       "    .dataframe thead th {\n",
       "        text-align: right;\n",
       "    }\n",
       "</style>\n",
       "<table border=\"1\" class=\"dataframe\">\n",
       "  <thead>\n",
       "    <tr style=\"text-align: right;\">\n",
       "      <th></th>\n",
       "      <th>layer_id</th>\n",
       "      <th>name</th>\n",
       "      <th>D</th>\n",
       "      <th>M</th>\n",
       "      <th>N</th>\n",
       "      <th>alpha</th>\n",
       "      <th>alpha_weighted</th>\n",
       "      <th>best_fit</th>\n",
       "      <th>entropy</th>\n",
       "      <th>has_esd</th>\n",
       "      <th>...</th>\n",
       "      <th>num_evals</th>\n",
       "      <th>num_pl_spikes</th>\n",
       "      <th>rank_loss</th>\n",
       "      <th>rf</th>\n",
       "      <th>sigma</th>\n",
       "      <th>spectral_norm</th>\n",
       "      <th>stable_rank</th>\n",
       "      <th>sv_max</th>\n",
       "      <th>xmax</th>\n",
       "      <th>xmin</th>\n",
       "    </tr>\n",
       "  </thead>\n",
       "  <tbody>\n",
       "    <tr>\n",
       "      <th>0</th>\n",
       "      <td>0</td>\n",
       "      <td>None</td>\n",
       "      <td>0.206815</td>\n",
       "      <td>1.0</td>\n",
       "      <td>32.0</td>\n",
       "      <td>5.507754</td>\n",
       "      <td>-5.340826</td>\n",
       "      <td>lognormal</td>\n",
       "      <td>0.994491</td>\n",
       "      <td>1.0</td>\n",
       "      <td>...</td>\n",
       "      <td>25.0</td>\n",
       "      <td>22.0</td>\n",
       "      <td>0.0</td>\n",
       "      <td>25.0</td>\n",
       "      <td>0.961056</td>\n",
       "      <td>0.107228</td>\n",
       "      <td>18.420618</td>\n",
       "      <td>0.327457</td>\n",
       "      <td>0.107228</td>\n",
       "      <td>0.064807</td>\n",
       "    </tr>\n",
       "    <tr>\n",
       "      <th>1</th>\n",
       "      <td>2</td>\n",
       "      <td>None</td>\n",
       "      <td>0.089443</td>\n",
       "      <td>32.0</td>\n",
       "      <td>48.0</td>\n",
       "      <td>2.587988</td>\n",
       "      <td>-1.472945</td>\n",
       "      <td>truncated_power_law</td>\n",
       "      <td>0.920375</td>\n",
       "      <td>1.0</td>\n",
       "      <td>...</td>\n",
       "      <td>800.0</td>\n",
       "      <td>243.0</td>\n",
       "      <td>0.0</td>\n",
       "      <td>25.0</td>\n",
       "      <td>0.101869</td>\n",
       "      <td>0.269683</td>\n",
       "      <td>110.264512</td>\n",
       "      <td>0.519310</td>\n",
       "      <td>0.269683</td>\n",
       "      <td>0.040187</td>\n",
       "    </tr>\n",
       "    <tr>\n",
       "      <th>2</th>\n",
       "      <td>5</td>\n",
       "      <td>None</td>\n",
       "      <td>0.073732</td>\n",
       "      <td>256.0</td>\n",
       "      <td>1200.0</td>\n",
       "      <td>3.933288</td>\n",
       "      <td>3.909370</td>\n",
       "      <td>truncated_power_law</td>\n",
       "      <td>0.968464</td>\n",
       "      <td>1.0</td>\n",
       "      <td>...</td>\n",
       "      <td>256.0</td>\n",
       "      <td>91.0</td>\n",
       "      <td>0.0</td>\n",
       "      <td>1.0</td>\n",
       "      <td>0.307492</td>\n",
       "      <td>9.860954</td>\n",
       "      <td>48.199289</td>\n",
       "      <td>3.140216</td>\n",
       "      <td>9.860954</td>\n",
       "      <td>1.999675</td>\n",
       "    </tr>\n",
       "    <tr>\n",
       "      <th>3</th>\n",
       "      <td>6</td>\n",
       "      <td>None</td>\n",
       "      <td>0.179069</td>\n",
       "      <td>84.0</td>\n",
       "      <td>256.0</td>\n",
       "      <td>7.092448</td>\n",
       "      <td>4.361193</td>\n",
       "      <td>lognormal</td>\n",
       "      <td>0.962117</td>\n",
       "      <td>1.0</td>\n",
       "      <td>...</td>\n",
       "      <td>84.0</td>\n",
       "      <td>14.0</td>\n",
       "      <td>0.0</td>\n",
       "      <td>1.0</td>\n",
       "      <td>1.628275</td>\n",
       "      <td>4.120088</td>\n",
       "      <td>32.424609</td>\n",
       "      <td>2.029800</td>\n",
       "      <td>4.120088</td>\n",
       "      <td>2.678033</td>\n",
       "    </tr>\n",
       "    <tr>\n",
       "      <th>4</th>\n",
       "      <td>7</td>\n",
       "      <td>None</td>\n",
       "      <td>0.250000</td>\n",
       "      <td>10.0</td>\n",
       "      <td>84.0</td>\n",
       "      <td>11.518981</td>\n",
       "      <td>5.557383</td>\n",
       "      <td>truncated_power_law</td>\n",
       "      <td>0.979186</td>\n",
       "      <td>1.0</td>\n",
       "      <td>...</td>\n",
       "      <td>10.0</td>\n",
       "      <td>4.0</td>\n",
       "      <td>0.0</td>\n",
       "      <td>1.0</td>\n",
       "      <td>5.259490</td>\n",
       "      <td>3.037067</td>\n",
       "      <td>6.549793</td>\n",
       "      <td>1.742718</td>\n",
       "      <td>3.037067</td>\n",
       "      <td>2.376399</td>\n",
       "    </tr>\n",
       "  </tbody>\n",
       "</table>\n",
       "<p>5 rows × 27 columns</p>\n",
       "</div>"
      ],
      "text/plain": [
       "  layer_id  name         D      M       N      alpha  alpha_weighted  \\\n",
       "0        0  None  0.206815    1.0    32.0   5.507754       -5.340826   \n",
       "1        2  None  0.089443   32.0    48.0   2.587988       -1.472945   \n",
       "2        5  None  0.073732  256.0  1200.0   3.933288        3.909370   \n",
       "3        6  None  0.179069   84.0   256.0   7.092448        4.361193   \n",
       "4        7  None  0.250000   10.0    84.0  11.518981        5.557383   \n",
       "\n",
       "              best_fit   entropy  has_esd  ...  num_evals num_pl_spikes  \\\n",
       "0            lognormal  0.994491      1.0  ...       25.0          22.0   \n",
       "1  truncated_power_law  0.920375      1.0  ...      800.0         243.0   \n",
       "2  truncated_power_law  0.968464      1.0  ...      256.0          91.0   \n",
       "3            lognormal  0.962117      1.0  ...       84.0          14.0   \n",
       "4  truncated_power_law  0.979186      1.0  ...       10.0           4.0   \n",
       "\n",
       "   rank_loss    rf     sigma  spectral_norm  stable_rank    sv_max      xmax  \\\n",
       "0        0.0  25.0  0.961056       0.107228    18.420618  0.327457  0.107228   \n",
       "1        0.0  25.0  0.101869       0.269683   110.264512  0.519310  0.269683   \n",
       "2        0.0   1.0  0.307492       9.860954    48.199289  3.140216  9.860954   \n",
       "3        0.0   1.0  1.628275       4.120088    32.424609  2.029800  4.120088   \n",
       "4        0.0   1.0  5.259490       3.037067     6.549793  1.742718  3.037067   \n",
       "\n",
       "       xmin  \n",
       "0  0.064807  \n",
       "1  0.040187  \n",
       "2  1.999675  \n",
       "3  2.678033  \n",
       "4  2.376399  \n",
       "\n",
       "[5 rows x 27 columns]"
      ]
     },
     "execution_count": 7,
     "metadata": {},
     "output_type": "execute_result"
    }
   ],
   "source": [
    "# careful! Python is dangerous :) as opposed to MATLAB, it can modify the contents of an object from inside a function even if that wasn't asked for.\n",
    "# so before we begin, do a deep copy (keras clone) of the model and work with that\n",
    "modelToSmooth = keras.models.clone_model(model)\n",
    "modelToSmooth.build(model.input_shape) \n",
    "modelToSmooth.compile(loss=model.loss, optimizer=model.optimizer, metrics=[\"accuracy\"])\n",
    "modelToSmooth.set_weights(model.get_weights())\n",
    "    \n",
    "watcher = ww.WeightWatcher(model=modelToSmooth)\n",
    "watcher.analyze()"
   ]
  },
  {
   "cell_type": "code",
   "execution_count": 8,
   "id": "3288dc7d-2ef6-4b70-b33b-530b1ed2446c",
   "metadata": {},
   "outputs": [
    {
     "name": "stdout",
     "output_type": "stream",
     "text": [
      "63/63 [==============================] - 1s 10ms/step - loss: 0.0069 - accuracy: 0.9995\n"
     ]
    },
    {
     "data": {
      "text/plain": [
       "[0.006946598179638386, 0.9994999766349792]"
      ]
     },
     "execution_count": 8,
     "metadata": {},
     "output_type": "execute_result"
    }
   ],
   "source": [
    "modelToSmooth.evaluate(x_train[0:2000], y_train[0:2000])"
   ]
  },
  {
   "cell_type": "code",
   "execution_count": 9,
   "id": "cbc0ca3d-1c8c-4b33-bdd5-9e6f19164202",
   "metadata": {},
   "outputs": [
    {
     "data": {
      "text/plain": [
       "[0.1456480324268341, 0.9628999829292297]"
      ]
     },
     "execution_count": 9,
     "metadata": {},
     "output_type": "execute_result"
    }
   ],
   "source": [
    "modelToSmooth.evaluate(x_test[0:testSize], y_test[0:testSize], verbose=0)"
   ]
  },
  {
   "cell_type": "code",
   "execution_count": 10,
   "id": "b99f36ac-6351-44bb-b03f-40310dcc4c81",
   "metadata": {},
   "outputs": [
    {
     "name": "stderr",
     "output_type": "stream",
     "text": [
      "INFO:weightwatcher:params {'glorot_fix': False, 'normalize': False, 'conv2d_norm': True, 'randomize': False, 'savefig': False, 'rescale': True, 'deltaEs': False, 'intra': False, 'channels': None, 'conv2d_fft': False, 'ww2x': False, 'min_evals': 0, 'max_evals': None, 'plot': False, 'mp_fit': False, 'layers': [], 'percent': 0.1}\n",
      "INFO:weightwatcher:params {'glorot_fix': False, 'normalize': False, 'conv2d_norm': True, 'randomize': False, 'savefig': False, 'rescale': True, 'deltaEs': False, 'intra': False, 'channels': None, 'conv2d_fft': False, 'ww2x': False, 'min_evals': 0, 'max_evals': None, 'plot': False, 'mp_fit': False, 'layers': [], 'percent': 0.1}\n",
      "INFO:weightwatcher:LAYER: 0 16  : <class 'tensorflow.python.keras.layers.convolutional.Conv2D'>\n",
      "WARNING:weightwatcher:keras layer: max_pooling2d <tensorflow.python.keras.layers.pooling.MaxPooling2D object at 0x000002F77A25EE20>  type LAYER_TYPE.UNKNOWN not found \n",
      "INFO:weightwatcher:LAYER: 2 16  : <class 'tensorflow.python.keras.layers.convolutional.Conv2D'>\n",
      "WARNING:weightwatcher:keras layer: max_pooling2d_1 <tensorflow.python.keras.layers.pooling.MaxPooling2D object at 0x000002F709D380A0>  type LAYER_TYPE.UNKNOWN not found \n",
      "WARNING:weightwatcher:keras layer: flatten <tensorflow.python.keras.layers.core.Flatten object at 0x000002F709D38580>  type LAYER_TYPE.FLATTENED not found \n",
      "INFO:weightwatcher:LAYER: 5 4  : <class 'tensorflow.python.keras.layers.core.Dense'>\n",
      "INFO:weightwatcher:LAYER: 6 4  : <class 'tensorflow.python.keras.layers.core.Dense'>\n",
      "INFO:weightwatcher:LAYER: 7 4  : <class 'tensorflow.python.keras.layers.core.Dense'>\n"
     ]
    },
    {
     "name": "stdout",
     "output_type": "stream",
     "text": [
      "Unified matrix is of size (608, 608)\n",
      "61\n"
     ]
    }
   ],
   "source": [
    "(modelito, nComponents) = watcher.unifiedSVDSmoothing(methodSelectComponents = \"percentage\", percent = 0.1)\n",
    "print(nComponents)"
   ]
  },
  {
   "cell_type": "code",
   "execution_count": 11,
   "id": "095ebc58-a60e-48f9-ba36-7e40b3c1ecdd",
   "metadata": {},
   "outputs": [
    {
     "name": "stdout",
     "output_type": "stream",
     "text": [
      "63/63 [==============================] - 1s 16ms/step - loss: 0.0069 - accuracy: 0.9995\n"
     ]
    },
    {
     "data": {
      "text/plain": [
       "[0.006946598179638386, 0.9994999766349792]"
      ]
     },
     "execution_count": 11,
     "metadata": {},
     "output_type": "execute_result"
    }
   ],
   "source": [
    "modelito.evaluate(x_train[0:2000], y_train[0:2000])"
   ]
  },
  {
   "cell_type": "code",
   "execution_count": null,
   "id": "161bb69a-534d-47b8-acdf-3e0345fc1553",
   "metadata": {},
   "outputs": [],
   "source": []
  },
  {
   "cell_type": "code",
   "execution_count": null,
   "id": "235e6cdd-9da6-4698-9217-6b5c37662ff9",
   "metadata": {},
   "outputs": [],
   "source": []
  },
  {
   "cell_type": "code",
   "execution_count": null,
   "id": "9b9675d0-8e39-4471-958c-100a43e1f4e0",
   "metadata": {},
   "outputs": [],
   "source": []
  }
 ],
 "metadata": {
  "kernelspec": {
   "display_name": "Python 3",
   "language": "python",
   "name": "python3"
  },
  "language_info": {
   "codemirror_mode": {
    "name": "ipython",
    "version": 3
   },
   "file_extension": ".py",
   "mimetype": "text/x-python",
   "name": "python",
   "nbconvert_exporter": "python",
   "pygments_lexer": "ipython3",
   "version": "3.8.10"
  }
 },
 "nbformat": 4,
 "nbformat_minor": 5
}
